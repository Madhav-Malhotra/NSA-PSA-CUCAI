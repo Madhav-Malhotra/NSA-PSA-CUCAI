{
 "cells": [
  {
   "cell_type": "code",
   "execution_count": 1,
   "id": "b006134c",
   "metadata": {
    "_cell_guid": "b1076dfc-b9ad-4769-8c92-a6c4dae69d19",
    "_uuid": "8f2839f25d086af736a60e9eeb907d3b93b6e0e5",
    "execution": {
     "iopub.execute_input": "2024-03-02T04:34:14.483605Z",
     "iopub.status.busy": "2024-03-02T04:34:14.482888Z",
     "iopub.status.idle": "2024-03-02T04:34:19.012803Z",
     "shell.execute_reply": "2024-03-02T04:34:19.011675Z"
    },
    "papermill": {
     "duration": 4.541043,
     "end_time": "2024-03-02T04:34:19.015536",
     "exception": false,
     "start_time": "2024-03-02T04:34:14.474493",
     "status": "completed"
    },
    "tags": []
   },
   "outputs": [],
   "source": [
    "import numpy as np\n",
    "from numpy.random import RandomState, default_rng\n",
    "\n",
    "import pandas as pd\n",
    "from functools import reduce\n",
    "\n",
    "import matplotlib.pyplot as plt\n",
    "import seaborn as sns\n",
    "import itertools\n",
    "\n",
    "import math\n",
    "\n",
    "from sklearn.decomposition import PCA\n",
    "from sklearn.compose import ColumnTransformer\n",
    "from sklearn.preprocessing import StandardScaler\n",
    "from sklearn.model_selection import train_test_split\n",
    "from sklearn.metrics import confusion_matrix, roc_curve, ConfusionMatrixDisplay, auc, recall_score, precision_score, precision_recall_curve, PrecisionRecallDisplay, classification_report\n",
    "\n",
    "from hyperopt import hp, fmin, STATUS_OK, tpe\n",
    "from hyperopt.early_stop import no_progress_loss"
   ]
  },
  {
   "cell_type": "markdown",
   "id": "8ba4f27a",
   "metadata": {
    "papermill": {
     "duration": 0.00566,
     "end_time": "2024-03-02T04:34:19.027511",
     "exception": false,
     "start_time": "2024-03-02T04:34:19.021851",
     "status": "completed"
    },
    "tags": []
   },
   "source": [
    "## Creating Datasets\n",
    "* Small: Top 5 non-text based featuress from 1% dataset\n",
    "* Medium: Top 24 non-text based features from 5% dataset\n",
    "* Large: Top 45 non-text based features from 10% dataset\n",
    "* Validation: Top 5,24,45 non-text based features from 1% dataset\n",
    "\n",
    "All datasets contain two classes (i.e. attack or binary) and 47 features. We then select the top 5 features for each dataset.\n",
    "\n",
    "Small, medium and large will be split into train and test datasets. Train is used to create detectors and test is used for the evaluation function. Validation is used to optimize detecto radius with Hyperopt."
   ]
  },
  {
   "cell_type": "code",
   "execution_count": 2,
   "id": "77aaa632",
   "metadata": {
    "execution": {
     "iopub.execute_input": "2024-03-02T04:34:19.041134Z",
     "iopub.status.busy": "2024-03-02T04:34:19.040068Z",
     "iopub.status.idle": "2024-03-02T04:35:13.631475Z",
     "shell.execute_reply": "2024-03-02T04:35:13.630228Z"
    },
    "papermill": {
     "duration": 54.601554,
     "end_time": "2024-03-02T04:35:13.634611",
     "exception": false,
     "start_time": "2024-03-02T04:34:19.033057",
     "status": "completed"
    },
    "tags": []
   },
   "outputs": [],
   "source": [
    "#Creating the datasets\n",
    "df_1percent = pd.read_csv(\"/kaggle/input/creating-a-smaller-dataset-for-ciciot2023/0.01percent_2classes.csv\")\n",
    "df_5percent = pd.read_csv(\"/kaggle/input/creating-a-smaller-dataset-for-ciciot2023/0.05percent_2classes.csv\")\n",
    "df_10percent = pd.read_csv(\"/kaggle/input/creating-a-smaller-dataset-for-ciciot2023/0.1percent_2classes.csv\")\n",
    "\n",
    "df_val = pd.read_csv(\"/kaggle/input/creating-a-smaller-dataset-for-ciciot2023/0.01percent_validation_2classes.csv\")"
   ]
  },
  {
   "cell_type": "code",
   "execution_count": 3,
   "id": "11afffa4",
   "metadata": {
    "execution": {
     "iopub.execute_input": "2024-03-02T04:35:13.650687Z",
     "iopub.status.busy": "2024-03-02T04:35:13.649199Z",
     "iopub.status.idle": "2024-03-02T04:35:13.656669Z",
     "shell.execute_reply": "2024-03-02T04:35:13.655538Z"
    },
    "papermill": {
     "duration": 0.018575,
     "end_time": "2024-03-02T04:35:13.659575",
     "exception": false,
     "start_time": "2024-03-02T04:35:13.641000",
     "status": "completed"
    },
    "tags": []
   },
   "outputs": [
    {
     "name": "stdout",
     "output_type": "stream",
     "text": [
      "(466869, 47) (2334325, 47) (4668665, 47) (466761, 47)\n"
     ]
    }
   ],
   "source": [
    "print(df_1percent.shape, df_5percent.shape, df_10percent.shape, df_val.shape)"
   ]
  },
  {
   "cell_type": "code",
   "execution_count": 4,
   "id": "4b7b7466",
   "metadata": {
    "execution": {
     "iopub.execute_input": "2024-03-02T04:35:13.673638Z",
     "iopub.status.busy": "2024-03-02T04:35:13.672755Z",
     "iopub.status.idle": "2024-03-02T04:35:13.706228Z",
     "shell.execute_reply": "2024-03-02T04:35:13.704800Z"
    },
    "papermill": {
     "duration": 0.043377,
     "end_time": "2024-03-02T04:35:13.709014",
     "exception": false,
     "start_time": "2024-03-02T04:35:13.665637",
     "status": "completed"
    },
    "tags": []
   },
   "outputs": [],
   "source": [
    "# Features\n",
    "top5_feats = list(pd.read_csv(\"/kaggle/input/feature-importance-study-on-the-ciciot2023-export/top5.csv\")[\"Feature\"])\n",
    "top24_feats = list(pd.read_csv(\"/kaggle/input/feature-importance-study-on-the-ciciot2023-export/top24.csv\")[\"Feature\"])\n",
    "topall_feats = list(pd.read_csv(\"/kaggle/input/feature-importance-study-on-the-ciciot2023-export/topall.csv\")[\"Feature\"])\n",
    "\n",
    "top5_feats.append(\"benign\")\n",
    "top24_feats.append(\"benign\")\n",
    "topall_feats.append(\"benign\")"
   ]
  },
  {
   "cell_type": "code",
   "execution_count": 5,
   "id": "c14efcc0",
   "metadata": {
    "execution": {
     "iopub.execute_input": "2024-03-02T04:35:13.723274Z",
     "iopub.status.busy": "2024-03-02T04:35:13.722823Z",
     "iopub.status.idle": "2024-03-02T04:35:13.731427Z",
     "shell.execute_reply": "2024-03-02T04:35:13.730061Z"
    },
    "papermill": {
     "duration": 0.018796,
     "end_time": "2024-03-02T04:35:13.733778",
     "exception": false,
     "start_time": "2024-03-02T04:35:13.714982",
     "status": "completed"
    },
    "tags": []
   },
   "outputs": [
    {
     "data": {
      "text/plain": [
       "['iat', 'header_length', 'magnitude', 'rst_count', 'max', 'benign']"
      ]
     },
     "execution_count": 5,
     "metadata": {},
     "output_type": "execute_result"
    }
   ],
   "source": [
    "top5_feats"
   ]
  },
  {
   "cell_type": "code",
   "execution_count": 6,
   "id": "3f47e863",
   "metadata": {
    "execution": {
     "iopub.execute_input": "2024-03-02T04:35:13.748118Z",
     "iopub.status.busy": "2024-03-02T04:35:13.747704Z",
     "iopub.status.idle": "2024-03-02T04:35:14.543816Z",
     "shell.execute_reply": "2024-03-02T04:35:14.542690Z"
    },
    "papermill": {
     "duration": 0.806404,
     "end_time": "2024-03-02T04:35:14.546750",
     "exception": false,
     "start_time": "2024-03-02T04:35:13.740346",
     "status": "completed"
    },
    "tags": []
   },
   "outputs": [],
   "source": [
    "df_small = df_1percent[top5_feats]\n",
    "df_med = df_5percent[top24_feats]\n",
    "df_large = df_10percent[topall_feats]\n",
    "\n",
    "df_val_small = df_val[top5_feats]\n",
    "df_val_med = df_val[top24_feats]\n",
    "df_val_large = df_val[topall_feats]"
   ]
  },
  {
   "cell_type": "code",
   "execution_count": 7,
   "id": "6833a359",
   "metadata": {
    "execution": {
     "iopub.execute_input": "2024-03-02T04:35:14.561760Z",
     "iopub.status.busy": "2024-03-02T04:35:14.560787Z",
     "iopub.status.idle": "2024-03-02T04:35:14.568038Z",
     "shell.execute_reply": "2024-03-02T04:35:14.566493Z"
    },
    "papermill": {
     "duration": 0.017629,
     "end_time": "2024-03-02T04:35:14.570828",
     "exception": false,
     "start_time": "2024-03-02T04:35:14.553199",
     "status": "completed"
    },
    "tags": []
   },
   "outputs": [
    {
     "name": "stdout",
     "output_type": "stream",
     "text": [
      "(466869, 6) (2334325, 25) (4668665, 46)\n",
      "(466761, 6) (466761, 25) (466761, 46)\n"
     ]
    }
   ],
   "source": [
    "print(df_small.shape, df_med.shape, df_large.shape)\n",
    "print(df_val_small.shape, df_val_med.shape, df_val_large.shape)"
   ]
  },
  {
   "cell_type": "markdown",
   "id": "7d5c7ae3",
   "metadata": {
    "papermill": {
     "duration": 0.006264,
     "end_time": "2024-03-02T04:35:14.583594",
     "exception": false,
     "start_time": "2024-03-02T04:35:14.577330",
     "status": "completed"
    },
    "tags": []
   },
   "source": [
    "# Preprocessing\n",
    "1. Normalize using Sci-Kit Learn's StandardScaler()\n",
    "2. Split into detectors, and scaled attacks and scaled benigns (for testing)"
   ]
  },
  {
   "cell_type": "code",
   "execution_count": 8,
   "id": "34eec01f",
   "metadata": {
    "execution": {
     "iopub.execute_input": "2024-03-02T04:35:14.598846Z",
     "iopub.status.busy": "2024-03-02T04:35:14.598436Z",
     "iopub.status.idle": "2024-03-02T04:35:14.609298Z",
     "shell.execute_reply": "2024-03-02T04:35:14.607696Z"
    },
    "papermill": {
     "duration": 0.021244,
     "end_time": "2024-03-02T04:35:14.611562",
     "exception": false,
     "start_time": "2024-03-02T04:35:14.590318",
     "status": "completed"
    },
    "tags": []
   },
   "outputs": [],
   "source": [
    "def preprocessing(df_main, df_val):\n",
    "    X = df_main.drop(\"benign\", axis = 1)\n",
    "    y = df_main[\"benign\"].astype(np.float32)\n",
    "    \n",
    "    ratio_att_to_ben = (y.value_counts()[0.0])/(y.value_counts()[1.0])\n",
    "\n",
    "    X_val = df_val.drop(\"benign\", axis = 1)\n",
    "    y_val = df_val[\"benign\"].astype(np.float32)\n",
    "    \n",
    "    val_ratio_att_to_ben = (y_val.value_counts()[0.0])/(y_val.value_counts()[1.0])\n",
    "    \n",
    "    # Convert to numpy\n",
    "    X = X.to_numpy().astype(np.float32) #All data w/o labels\n",
    "    y = y.to_numpy().astype(np.float32) #All labels\n",
    "    \n",
    "    # Normalization\n",
    "    scaler = StandardScaler()\n",
    "    data_scaled = scaler.fit_transform(X)\n",
    "    \n",
    "    benigns_scaled = data_scaled[y.squeeze() == True, :]\n",
    "    attacks_scaled = data_scaled[y.squeeze() == False, :]\n",
    "    \n",
    "    print(f\"scaler mean: {scaler.mean_.astype(np.float32)}, scaler var: {scaler.var_.astype(np.float32)}\")\n",
    "    \n",
    "    # Normalization of Validation Dataset\n",
    "    val_scaler = ColumnTransformer([\n",
    "        ('somename', StandardScaler(), X_val.columns)\n",
    "    ], remainder='passthrough')\n",
    "    scaled_val = val_scaler.fit_transform(df_val)\n",
    "    \n",
    "    detectors_set, scaled_benigns_test = train_test_split(benigns_scaled, test_size=0.3, random_state = 42)\n",
    "    scaled_attacks_train, scaled_attacks_test = train_test_split(attacks_scaled, test_size=0.3, random_state = 42)\n",
    "    \n",
    "    return detectors_set, scaled_benigns_test, scaled_attacks_test, scaled_val, int(ratio_att_to_ben), int(val_ratio_att_to_ben)"
   ]
  },
  {
   "cell_type": "markdown",
   "id": "3a648dda",
   "metadata": {
    "papermill": {
     "duration": 0.006392,
     "end_time": "2024-03-02T04:35:14.628047",
     "exception": false,
     "start_time": "2024-03-02T04:35:14.621655",
     "status": "completed"
    },
    "tags": []
   },
   "source": [
    "### Small, Medium and Large Datasets"
   ]
  },
  {
   "cell_type": "code",
   "execution_count": 9,
   "id": "23e6f761",
   "metadata": {
    "execution": {
     "iopub.execute_input": "2024-03-02T04:35:14.643318Z",
     "iopub.status.busy": "2024-03-02T04:35:14.642248Z",
     "iopub.status.idle": "2024-03-02T04:35:47.234564Z",
     "shell.execute_reply": "2024-03-02T04:35:47.233272Z"
    },
    "papermill": {
     "duration": 32.603542,
     "end_time": "2024-03-02T04:35:47.237940",
     "exception": false,
     "start_time": "2024-03-02T04:35:14.634398",
     "status": "completed"
    },
    "tags": []
   },
   "outputs": [
    {
     "name": "stdout",
     "output_type": "stream",
     "text": [
      "scaler mean: [8.3157144e+07 7.6943680e+04 1.3118273e+01 3.8499920e+01 1.8166219e+02], scaler var: [2.9066282e+14 2.1407808e+11 7.4370697e+01 1.0545658e+05 2.7581962e+05]\n",
      "(7686, 5) (3295, 5) (136767, 5) (466761, 6)\n",
      "scaler mean: [8.31867200e+07 7.67192031e+04 1.31205196e+01 3.83366890e+01\n",
      " 1.81906525e+02 1.24665955e+02 5.65363550e+00 1.24624290e+02\n",
      " 6.17433643e+00 9.64782238e-02 1.30702576e+03 9.15912704e+01\n",
      " 8.93214160e+03 8.93214160e+03 3.30482155e-01 4.70852165e+01\n",
      " 6.63340912e+01 3.06868145e+04 3.33165359e+01 9.49866199e+00\n",
      " 7.42634386e-02 1.41516937e+02 5.50548881e-02 3.76982644e-05], scaler var: [2.90543733e+14 2.11809174e+11 7.43846207e+01 1.04806289e+05\n",
      " 2.74205312e+05 5.83438203e+04 6.57023203e+04 5.79748320e+04\n",
      " 5.05823730e+03 5.42926826e-02 6.76950700e+06 1.94881074e+04\n",
      " 9.60522240e+09 9.60522240e+09 4.40479666e-01 5.12790742e+04\n",
      " 1.94201294e+02 9.73378109e+10 2.56325703e+04 6.70799196e-01\n",
      " 1.20611764e-01 4.43793762e+02 5.20238467e-02 3.76968419e-05]\n",
      "(38437, 24) (16474, 24) (683825, 24) (466761, 25)\n",
      "scaler mean: [8.31743760e+07 7.65772031e+04 1.31225891e+01 3.83311081e+01\n",
      " 1.82008438e+02 1.24709137e+02 5.87204742e+00 1.24708176e+02\n",
      " 6.21549892e+00 9.64956135e-02 1.30816907e+03 9.16521149e+01\n",
      " 9.07163672e+03 9.07163672e+03 3.30437869e-01 4.71017761e+01\n",
      " 6.63511505e+01 3.06657305e+04 3.33292503e+01 9.49817276e+00\n",
      " 7.40337968e-02 1.41503769e+02 5.50033040e-02 3.87691143e-05\n",
      " 1.23412579e-01 9.05450210e-02 5.73831916e-01 2.11964235e-01\n",
      " 8.77434984e-02 1.63717464e-01 4.82129268e-02 9.05123875e-02\n",
      " 2.07359061e-01 8.65735710e-02 1.31086723e-04 9.99891639e-01\n",
      " 9.99891639e-01 6.10452917e-05 6.59093348e-06 0.00000000e+00\n",
      " 1.28516399e-06 8.56775955e-07 1.92774587e-06 0.00000000e+00\n",
      " 0.00000000e+00], scaler var: [2.90577959e+14 2.12200931e+11 7.45162735e+01 1.05477297e+05\n",
      " 2.74191188e+05 5.84031211e+04 8.31906094e+04 5.81272930e+04\n",
      " 5.22109473e+03 5.43062128e-02 6.81762850e+06 1.95720098e+04\n",
      " 9.85441485e+09 9.85441485e+09 4.40355480e-01 5.12791719e+04\n",
      " 1.96343613e+02 1.01035278e+11 2.56345820e+04 6.70754671e-01\n",
      " 8.08141157e-02 4.43768585e+02 5.19779399e-02 3.87676082e-05\n",
      " 1.08181916e-01 8.20399523e-02 2.44548842e-01 1.67035401e-01\n",
      " 8.00445750e-02 1.36914060e-01 4.58884388e-02 8.23198929e-02\n",
      " 1.64361283e-01 7.90785849e-02 1.31069537e-04 1.08370412e-04\n",
      " 1.08370412e-04 6.10415591e-05 5.79378939e-05 0.00000000e+00\n",
      " 1.28516228e-06 8.56775216e-07 1.92774223e-06 0.00000000e+00\n",
      " 0.00000000e+00]\n",
      "(76873, 45) (32946, 45) (1367654, 45) (466761, 46)\n"
     ]
    }
   ],
   "source": [
    "# Small Dataset\n",
    "small_det, small_ben_test, small_att_test, small_val, small_ratio_att_to_ben, small_val_ratio_att_to_ben = preprocessing(df_small, df_val_small)\n",
    "print(small_det.shape, small_ben_test.shape, small_att_test.shape, small_val.shape)\n",
    "\n",
    "# Medium Dataset\n",
    "med_det, med_ben_test, med_att_test, med_val, med_ratio_att_to_ben, med_val_ratio_att_to_ben = preprocessing(df_med, df_val_med)\n",
    "print(med_det.shape, med_ben_test.shape, med_att_test.shape, med_val.shape)\n",
    "\n",
    "# Large Dataset\n",
    "large_det, large_ben_test, large_att_test, large_val, large_ratio_att_to_ben, large_val_ratio_att_to_ben  = preprocessing(df_large, df_val_large)\n",
    "print(large_det.shape, large_ben_test.shape, large_att_test.shape, large_val.shape)"
   ]
  },
  {
   "cell_type": "code",
   "execution_count": 10,
   "id": "614261f4",
   "metadata": {
    "execution": {
     "iopub.execute_input": "2024-03-02T04:35:47.254962Z",
     "iopub.status.busy": "2024-03-02T04:35:47.254584Z",
     "iopub.status.idle": "2024-03-02T04:35:47.263217Z",
     "shell.execute_reply": "2024-03-02T04:35:47.261511Z"
    },
    "papermill": {
     "duration": 0.020499,
     "end_time": "2024-03-02T04:35:47.265957",
     "exception": false,
     "start_time": "2024-03-02T04:35:47.245458",
     "status": "completed"
    },
    "tags": []
   },
   "outputs": [],
   "source": [
    "# Set number of detectors, test data points and validation data points\n",
    "\n",
    "NUM_DETECTORS = 100\n",
    "NUM_BENIGN = 1000\n",
    "\n",
    "# Small Dataset\n",
    "DETECTORS_S = small_det[:NUM_DETECTORS]\n",
    "BENIGN_TEST_S = small_ben_test[:NUM_BENIGN]\n",
    "ATTACK_TEST_S = small_att_test[:NUM_BENIGN*small_ratio_att_to_ben]\n",
    "\n",
    "# Medium Dataset\n",
    "DETECTORS_M = med_det[:NUM_DETECTORS]\n",
    "BENIGN_TEST_M = med_ben_test[:NUM_BENIGN]\n",
    "ATTACK_TEST_M = med_att_test[:NUM_BENIGN*med_ratio_att_to_ben]\n",
    "\n",
    "# Large Dataset\n",
    "DETECTORS_L = large_det[:NUM_DETECTORS]\n",
    "BENIGN_TEST_L = large_ben_test[:NUM_BENIGN]\n",
    "ATTACK_TEST_L = large_att_test[:NUM_BENIGN*large_ratio_att_to_ben]"
   ]
  },
  {
   "cell_type": "code",
   "execution_count": 11,
   "id": "2a1f0d53",
   "metadata": {
    "execution": {
     "iopub.execute_input": "2024-03-02T04:35:47.282901Z",
     "iopub.status.busy": "2024-03-02T04:35:47.282151Z",
     "iopub.status.idle": "2024-03-02T04:35:47.616602Z",
     "shell.execute_reply": "2024-03-02T04:35:47.615099Z"
    },
    "papermill": {
     "duration": 0.346391,
     "end_time": "2024-03-02T04:35:47.619522",
     "exception": false,
     "start_time": "2024-03-02T04:35:47.273131",
     "status": "completed"
    },
    "tags": []
   },
   "outputs": [
    {
     "name": "stdout",
     "output_type": "stream",
     "text": [
      "[[ 4.89251975  1.40479982  5.36891253  1.80875071  8.00727335]\n",
      " [-4.88278142 -0.15830568  0.01076975 -0.07873116 -0.03413056]\n",
      " [-4.88278142  0.34706964  1.88565204  1.86067173  1.54081798]\n",
      " ...\n",
      " [-4.88278142  4.13670723  2.26400822  7.60558015  3.22920978]\n",
      " [ 4.89257082  0.27012998  5.3322957   0.48323755  5.26493872]\n",
      " [-4.88278142  2.95214505  5.48846425  4.06884227  4.44223833]]\n",
      "[[-0.0050718  -0.1666431  -0.31604226 -0.11843548 -0.24245708]\n",
      " [ 0.01090782 -0.16658025 -0.31604226 -0.11843548 -0.24245708]\n",
      " [-0.01116059 -0.16663226 -0.3159238  -0.11843548 -0.24222982]\n",
      " ...\n",
      " [ 0.00992159 -0.1666431  -0.31604226 -0.11843548 -0.24245708]\n",
      " [-0.00283458 -0.16676013 -0.4570232  -0.11843548 -0.26245643]\n",
      " [ 0.00814779 -0.16659975 -0.27905893 -0.11843548 -0.18245904]]\n"
     ]
    }
   ],
   "source": [
    "NUM_BENIGN_VAL = 1000\n",
    "\n",
    "fltr_ben = np.asarray([1.])\n",
    "fltr_att = np.asarray([0.])\n",
    "\n",
    "n_sm = small_val.shape[-1] - 1\n",
    "n_md = med_val.shape[-1] - 1\n",
    "n_lg = large_val.shape[-1] - 1\n",
    "\n",
    "val_ben_sm = np.delete(small_val[np.in1d(small_val[:,n_sm], fltr_ben)], n_sm, 1)[:NUM_BENIGN_VAL]\n",
    "val_att_sm = np.delete(small_val[np.in1d(small_val[:,n_sm], fltr_att)], n_sm, 1)[:NUM_BENIGN_VAL*small_val_ratio_att_to_ben]\n",
    "\n",
    "val_ben_md = np.delete(med_val[np.in1d(med_val[:,n_md], fltr_ben)], n_md, 1)[:NUM_BENIGN_VAL]\n",
    "val_att_md = np.delete(med_val[np.in1d(med_val[:,n_md], fltr_att)], n_md, 1)[:NUM_BENIGN_VAL*med_val_ratio_att_to_ben]\n",
    "\n",
    "val_ben_lg = np.delete(large_val[np.in1d(large_val[:,n_lg], fltr_ben)], n_lg, 1)[:NUM_BENIGN_VAL]\n",
    "val_att_lg = np.delete(large_val[np.in1d(large_val[:,n_lg], fltr_att)], n_lg, 1)[:NUM_BENIGN_VAL*large_val_ratio_att_to_ben]\n",
    "\n",
    "print(val_ben_sm)\n",
    "print(val_att_sm)"
   ]
  },
  {
   "cell_type": "markdown",
   "id": "b719e04b",
   "metadata": {
    "papermill": {
     "duration": 0.006639,
     "end_time": "2024-03-02T04:35:47.633293",
     "exception": false,
     "start_time": "2024-03-02T04:35:47.626654",
     "status": "completed"
    },
    "tags": []
   },
   "source": [
    "# P-R Curve and Optimal Radius Search"
   ]
  },
  {
   "cell_type": "code",
   "execution_count": 12,
   "id": "1e5c6e4c",
   "metadata": {
    "execution": {
     "iopub.execute_input": "2024-03-02T04:35:47.649944Z",
     "iopub.status.busy": "2024-03-02T04:35:47.649457Z",
     "iopub.status.idle": "2024-03-02T04:35:47.661423Z",
     "shell.execute_reply": "2024-03-02T04:35:47.660009Z"
    },
    "papermill": {
     "duration": 0.023033,
     "end_time": "2024-03-02T04:35:47.663727",
     "exception": false,
     "start_time": "2024-03-02T04:35:47.640694",
     "status": "completed"
    },
    "tags": []
   },
   "outputs": [],
   "source": [
    "def psa(r, detrs, ben, att):\n",
    "    \n",
    "    def affinity(v1 : np.ndarray, v2 : np.ndarray):\n",
    "        ''' Manhattan distance between vectors '''\n",
    "        return np.sum(np.abs(v1 - v2), axis=-1)\n",
    "\n",
    "    #True Positive: Self correctly classified\n",
    "    TP = 0\n",
    "    #False Positive: Non-Self incorrectly classified\n",
    "    FP = 0\n",
    "    #True Negative: Non-Self correctly classified\n",
    "    TN = 0\n",
    "    #False Negative: Self incorrectly classified\n",
    "    FN = 0\n",
    "\n",
    "    # Test benign data\n",
    "    for t in ben:\n",
    "        for i in range(0, len(detrs)-1):\n",
    "          aff = affinity(t, detrs[i])\n",
    "          if aff < r:\n",
    "            TP += 1\n",
    "            break\n",
    "    FN = len(ben) - TP\n",
    "\n",
    "    # Test attack data\n",
    "    for t in att:\n",
    "        for i in range(0, len(detrs)-1):\n",
    "          aff = affinity(t, detrs[i])\n",
    "          if aff < r:\n",
    "            FP += 1\n",
    "            break\n",
    "    TN = len(att) - FP\n",
    "\n",
    "    print(f\"Results for r = {r} | TN: {TN}, FP: {FP}, FN: {FN}, TP: {TP}\")\n",
    "\n",
    "    detection_rate = TN/(TN+FP)\n",
    "    false_alarm_rate = FN/(FN+TP)\n",
    "    \n",
    "    if (TP + FP) != 0.0:\n",
    "        precision = TP/(TP + FP)\n",
    "    if (TP + FP) == 0.0:\n",
    "        precision = 0\n",
    "    if (TP + FN) != 0.0:\n",
    "        recall = TP/(TP + FN)\n",
    "    if (TP + FN) == 0.0:\n",
    "        recall = 0\n",
    "\n",
    "    loss = 1 - (detection_rate - false_alarm_rate)\n",
    "\n",
    "    return loss, detection_rate, false_alarm_rate, precision, recall"
   ]
  },
  {
   "cell_type": "code",
   "execution_count": 13,
   "id": "f63ae795",
   "metadata": {
    "execution": {
     "iopub.execute_input": "2024-03-02T04:35:47.680827Z",
     "iopub.status.busy": "2024-03-02T04:35:47.680381Z",
     "iopub.status.idle": "2024-03-02T04:35:47.693344Z",
     "shell.execute_reply": "2024-03-02T04:35:47.692181Z"
    },
    "papermill": {
     "duration": 0.024141,
     "end_time": "2024-03-02T04:35:47.695867",
     "exception": false,
     "start_time": "2024-03-02T04:35:47.671726",
     "status": "completed"
    },
    "tags": []
   },
   "outputs": [],
   "source": [
    "def pr_curve(min_radius, max_radius, num_steps, detrs, ben, att):\n",
    "\n",
    "    # For radius-loss curve\n",
    "    r_values = np.linspace(min_radius,max_radius, num_steps)\n",
    "    loss_values = []\n",
    "\n",
    "    # For detection rate - false alarm rate curve\n",
    "    detection_rates = []\n",
    "    false_alarm_rates = []\n",
    "\n",
    "    # For PR curve\n",
    "    precisions = []\n",
    "    recalls = []\n",
    "\n",
    "    for r in r_values:\n",
    "        loss, detection_rate, false_alarm_rate, precision, recall = psa(r, detrs, ben, att)\n",
    "        loss_values.append(loss)\n",
    "        detection_rates.append(detection_rate)\n",
    "        false_alarm_rates.append(false_alarm_rate)\n",
    "        precisions.append(precision)\n",
    "        recalls.append(recall)\n",
    "        \n",
    "        print(f\"Precision: {precision}\")\n",
    "        print(f\"Recall: {recall}\")\n",
    "    \n",
    "    figure, axis = plt.subplots(1, 3, constrained_layout=True)\n",
    "    \n",
    "    # For radius-loss curve\n",
    "    axis[0].plot(r_values, loss_values) \n",
    "    axis[0].set_title(\"Loss Curve\")\n",
    "    axis[0].set_xlabel(\"Radius\")\n",
    "    axis[0].set_ylabel(\"Loss\")\n",
    "    \n",
    "    # For detection rate - false alarm rate curve\n",
    "    axis[1].plot(false_alarm_rates, detection_rates) \n",
    "    axis[1].set_title(\"Det. Rate - F. Alarm Rate\") \n",
    "    axis[1].set_xlabel(\"F. Alarm Rate\")\n",
    "    axis[1].set_ylabel(\"Det. Rate\")\n",
    "    \n",
    "    # For Precision Recall curve\n",
    "    axis[2].plot(recalls, precisions) \n",
    "    axis[2].set_title(\"P-R Curve\") \n",
    "    axis[2].set_xlabel(\"Recall\")\n",
    "    axis[2].set_ylabel(\"Precision\")\n",
    "    \n",
    "    axis[0].set_box_aspect(1)\n",
    "    axis[1].set_box_aspect(1)\n",
    "    axis[2].set_box_aspect(1)\n",
    "    \n",
    "    plt.show() \n",
    "    \n",
    "    optimal_radius = r_values[loss_values.index(min(loss_values))]\n",
    "    \n",
    "    sorted_indices = sorted(range(len(recalls)), key=lambda k: recalls[k])\n",
    "    precisions_ord = [precisions[i] for i in sorted_indices]\n",
    "    recalls_ord = [recalls[i] for i in sorted_indices]\n",
    "    \n",
    "    prauc = auc(recalls_ord, precisions_ord)\n",
    "    \n",
    "    return optimal_radius, prauc"
   ]
  },
  {
   "cell_type": "code",
   "execution_count": 14,
   "id": "fc432ee8",
   "metadata": {
    "execution": {
     "iopub.execute_input": "2024-03-02T04:35:47.712451Z",
     "iopub.status.busy": "2024-03-02T04:35:47.711705Z",
     "iopub.status.idle": "2024-03-02T04:35:47.716778Z",
     "shell.execute_reply": "2024-03-02T04:35:47.715870Z"
    },
    "papermill": {
     "duration": 0.016192,
     "end_time": "2024-03-02T04:35:47.719078",
     "exception": false,
     "start_time": "2024-03-02T04:35:47.702886",
     "status": "completed"
    },
    "tags": []
   },
   "outputs": [],
   "source": [
    "MIN_RADIUS = 0.001\n",
    "MAX_RADIUS = 40.0\n",
    "NUM_STEPS = 50"
   ]
  },
  {
   "cell_type": "code",
   "execution_count": 15,
   "id": "339e2332",
   "metadata": {
    "execution": {
     "iopub.execute_input": "2024-03-02T04:35:47.737321Z",
     "iopub.status.busy": "2024-03-02T04:35:47.736667Z",
     "iopub.status.idle": "2024-03-02T04:39:43.904437Z",
     "shell.execute_reply": "2024-03-02T04:39:43.903270Z"
    },
    "papermill": {
     "duration": 236.181056,
     "end_time": "2024-03-02T04:39:43.908204",
     "exception": false,
     "start_time": "2024-03-02T04:35:47.727148",
     "status": "completed"
    },
    "tags": []
   },
   "outputs": [
    {
     "name": "stdout",
     "output_type": "stream",
     "text": [
      "Results for r = 0.001 | TN: 41000, FP: 0, FN: 1000, TP: 0\n",
      "Precision: 0\n",
      "Recall: 0.0\n",
      "Results for r = 0.8173061224489796 | TN: 40641, FP: 359, FN: 651, TP: 349\n",
      "Precision: 0.4929378531073446\n",
      "Recall: 0.349\n",
      "Results for r = 1.633612244897959 | TN: 40539, FP: 461, FN: 454, TP: 546\n",
      "Precision: 0.5422045680238332\n",
      "Recall: 0.546\n",
      "Results for r = 2.4499183673469385 | TN: 40450, FP: 550, FN: 276, TP: 724\n",
      "Precision: 0.5682888540031397\n",
      "Recall: 0.724\n",
      "Results for r = 3.2662244897959183 | TN: 40387, FP: 613, FN: 172, TP: 828\n",
      "Precision: 0.5746009715475364\n",
      "Recall: 0.828\n",
      "Results for r = 4.0825306122448985 | TN: 40346, FP: 654, FN: 111, TP: 889\n",
      "Precision: 0.576150356448477\n",
      "Recall: 0.889\n",
      "Results for r = 4.8988367346938775 | TN: 40285, FP: 715, FN: 82, TP: 918\n",
      "Precision: 0.5621555419473362\n",
      "Recall: 0.918\n",
      "Results for r = 5.715142857142857 | TN: 3456, FP: 37544, FN: 47, TP: 953\n",
      "Precision: 0.024755175727978803\n",
      "Recall: 0.953\n",
      "Results for r = 6.531448979591837 | TN: 2533, FP: 38467, FN: 38, TP: 962\n",
      "Precision: 0.024398285525881965\n",
      "Recall: 0.962\n",
      "Results for r = 7.347755102040817 | TN: 752, FP: 40248, FN: 32, TP: 968\n",
      "Precision: 0.023486024844720496\n",
      "Recall: 0.968\n",
      "Results for r = 8.164061224489796 | TN: 590, FP: 40410, FN: 24, TP: 976\n",
      "Precision: 0.023582854105252984\n",
      "Recall: 0.976\n",
      "Results for r = 8.980367346938776 | TN: 452, FP: 40548, FN: 17, TP: 983\n",
      "Precision: 0.02366906648046038\n",
      "Recall: 0.983\n",
      "Results for r = 9.796673469387754 | TN: 349, FP: 40651, FN: 15, TP: 985\n",
      "Precision: 0.023657411855125373\n",
      "Recall: 0.985\n",
      "Results for r = 10.612979591836734 | TN: 275, FP: 40725, FN: 11, TP: 989\n",
      "Precision: 0.023709066500455483\n",
      "Recall: 0.989\n",
      "Results for r = 11.429285714285713 | TN: 197, FP: 40803, FN: 7, TP: 993\n",
      "Precision: 0.023758254378409418\n",
      "Recall: 0.993\n",
      "Results for r = 12.245591836734693 | TN: 162, FP: 40838, FN: 3, TP: 997\n",
      "Precision: 0.023831719851798733\n",
      "Recall: 0.997\n",
      "Results for r = 13.061897959183673 | TN: 128, FP: 40872, FN: 2, TP: 998\n",
      "Precision: 0.023835681872462385\n",
      "Recall: 0.998\n",
      "Results for r = 13.878204081632653 | TN: 98, FP: 40902, FN: 2, TP: 998\n",
      "Precision: 0.023818615751789975\n",
      "Recall: 0.998\n",
      "Results for r = 14.694510204081633 | TN: 68, FP: 40932, FN: 2, TP: 998\n",
      "Precision: 0.023801574051991414\n",
      "Recall: 0.998\n",
      "Results for r = 15.510816326530612 | TN: 57, FP: 40943, FN: 1, TP: 999\n",
      "Precision: 0.02381860664727481\n",
      "Recall: 0.999\n",
      "Results for r = 16.327122448979594 | TN: 46, FP: 40954, FN: 1, TP: 999\n",
      "Precision: 0.02381236145210116\n",
      "Recall: 0.999\n",
      "Results for r = 17.143428571428572 | TN: 34, FP: 40966, FN: 0, TP: 1000\n",
      "Precision: 0.023828813801648953\n",
      "Recall: 1.0\n",
      "Results for r = 17.959734693877554 | TN: 28, FP: 40972, FN: 0, TP: 1000\n",
      "Precision: 0.023825407414466787\n",
      "Recall: 1.0\n",
      "Results for r = 18.77604081632653 | TN: 22, FP: 40978, FN: 0, TP: 1000\n",
      "Precision: 0.023822002001048167\n",
      "Recall: 1.0\n",
      "Results for r = 19.59234693877551 | TN: 16, FP: 40984, FN: 0, TP: 1000\n",
      "Precision: 0.02381859756097561\n",
      "Recall: 1.0\n",
      "Results for r = 20.40865306122449 | TN: 10, FP: 40990, FN: 0, TP: 1000\n",
      "Precision: 0.023815194093831864\n",
      "Recall: 1.0\n",
      "Results for r = 21.22495918367347 | TN: 9, FP: 40991, FN: 0, TP: 1000\n",
      "Precision: 0.023814626943868926\n",
      "Recall: 1.0\n",
      "Results for r = 22.04126530612245 | TN: 6, FP: 40994, FN: 0, TP: 1000\n",
      "Precision: 0.0238129256560461\n",
      "Recall: 1.0\n",
      "Results for r = 22.85757142857143 | TN: 5, FP: 40995, FN: 0, TP: 1000\n",
      "Precision: 0.02381235861412073\n",
      "Recall: 1.0\n",
      "Results for r = 23.67387755102041 | TN: 4, FP: 40996, FN: 0, TP: 1000\n",
      "Precision: 0.023811791599199925\n",
      "Recall: 1.0\n",
      "Results for r = 24.49018367346939 | TN: 4, FP: 40996, FN: 0, TP: 1000\n",
      "Precision: 0.023811791599199925\n",
      "Recall: 1.0\n",
      "Results for r = 25.30648979591837 | TN: 2, FP: 40998, FN: 0, TP: 1000\n",
      "Precision: 0.023810657650364303\n",
      "Recall: 1.0\n",
      "Results for r = 26.12279591836735 | TN: 1, FP: 40999, FN: 0, TP: 1000\n",
      "Precision: 0.02381009071644563\n",
      "Recall: 1.0\n",
      "Results for r = 26.939102040816326 | TN: 0, FP: 41000, FN: 0, TP: 1000\n",
      "Precision: 0.023809523809523808\n",
      "Recall: 1.0\n",
      "Results for r = 27.755408163265308 | TN: 0, FP: 41000, FN: 0, TP: 1000\n",
      "Precision: 0.023809523809523808\n",
      "Recall: 1.0\n",
      "Results for r = 28.571714285714286 | TN: 0, FP: 41000, FN: 0, TP: 1000\n",
      "Precision: 0.023809523809523808\n",
      "Recall: 1.0\n",
      "Results for r = 29.388020408163268 | TN: 0, FP: 41000, FN: 0, TP: 1000\n",
      "Precision: 0.023809523809523808\n",
      "Recall: 1.0\n",
      "Results for r = 30.204326530612246 | TN: 0, FP: 41000, FN: 0, TP: 1000\n",
      "Precision: 0.023809523809523808\n",
      "Recall: 1.0\n",
      "Results for r = 31.020632653061227 | TN: 0, FP: 41000, FN: 0, TP: 1000\n",
      "Precision: 0.023809523809523808\n",
      "Recall: 1.0\n",
      "Results for r = 31.836938775510205 | TN: 0, FP: 41000, FN: 0, TP: 1000\n",
      "Precision: 0.023809523809523808\n",
      "Recall: 1.0\n",
      "Results for r = 32.65324489795918 | TN: 0, FP: 41000, FN: 0, TP: 1000\n",
      "Precision: 0.023809523809523808\n",
      "Recall: 1.0\n",
      "Results for r = 33.46955102040816 | TN: 0, FP: 41000, FN: 0, TP: 1000\n",
      "Precision: 0.023809523809523808\n",
      "Recall: 1.0\n",
      "Results for r = 34.28585714285714 | TN: 0, FP: 41000, FN: 0, TP: 1000\n",
      "Precision: 0.023809523809523808\n",
      "Recall: 1.0\n",
      "Results for r = 35.10216326530612 | TN: 0, FP: 41000, FN: 0, TP: 1000\n",
      "Precision: 0.023809523809523808\n",
      "Recall: 1.0\n",
      "Results for r = 35.9184693877551 | TN: 0, FP: 41000, FN: 0, TP: 1000\n",
      "Precision: 0.023809523809523808\n",
      "Recall: 1.0\n",
      "Results for r = 36.73477551020408 | TN: 0, FP: 41000, FN: 0, TP: 1000\n",
      "Precision: 0.023809523809523808\n",
      "Recall: 1.0\n",
      "Results for r = 37.55108163265306 | TN: 0, FP: 41000, FN: 0, TP: 1000\n",
      "Precision: 0.023809523809523808\n",
      "Recall: 1.0\n",
      "Results for r = 38.36738775510204 | TN: 0, FP: 41000, FN: 0, TP: 1000\n",
      "Precision: 0.023809523809523808\n",
      "Recall: 1.0\n",
      "Results for r = 39.183693877551015 | TN: 0, FP: 41000, FN: 0, TP: 1000\n",
      "Precision: 0.023809523809523808\n",
      "Recall: 1.0\n",
      "Results for r = 40.0 | TN: 0, FP: 41000, FN: 0, TP: 1000\n",
      "Precision: 0.023809523809523808\n",
      "Recall: 1.0\n"
     ]
    },
    {
     "data": {
      "image/png": "[encoded data removed]",
      "text/plain": [
       "<Figure size 640x480 with 3 Axes>"
      ]
     },
     "metadata": {},
     "output_type": "display_data"
    },
    {
     "name": "stdout",
     "output_type": "stream",
     "text": [
      "Optimal Radius for small dataset: 4.8988367346938775\n",
      "PRAUC for small dataset: 0.40923979707633173\n"
     ]
    }
   ],
   "source": [
    "# Small Dataset\n",
    "best_radius_S, prauc_S = pr_curve(MIN_RADIUS, MAX_RADIUS, NUM_STEPS, DETECTORS_S, val_ben_sm, val_att_sm)\n",
    "print(f\"Optimal Radius for small dataset: {best_radius_S}\")\n",
    "print(f\"PRAUC for small dataset: {prauc_S}\")"
   ]
  },
  {
   "cell_type": "code",
   "execution_count": 16,
   "id": "384f97a6",
   "metadata": {
    "execution": {
     "iopub.execute_input": "2024-03-02T04:39:43.931464Z",
     "iopub.status.busy": "2024-03-02T04:39:43.931063Z",
     "iopub.status.idle": "2024-03-02T04:56:01.094905Z",
     "shell.execute_reply": "2024-03-02T04:56:01.092558Z"
    },
    "papermill": {
     "duration": 977.18011,
     "end_time": "2024-03-02T04:56:01.099048",
     "exception": false,
     "start_time": "2024-03-02T04:39:43.918938",
     "status": "completed"
    },
    "tags": []
   },
   "outputs": [
    {
     "name": "stdout",
     "output_type": "stream",
     "text": [
      "Results for r = 0.001 | TN: 41000, FP: 0, FN: 1000, TP: 0\n",
      "Precision: 0\n",
      "Recall: 0.0\n",
      "Results for r = 0.8173061224489796 | TN: 41000, FP: 0, FN: 998, TP: 2\n",
      "Precision: 1.0\n",
      "Recall: 0.002\n",
      "Results for r = 1.633612244897959 | TN: 40996, FP: 4, FN: 987, TP: 13\n",
      "Precision: 0.7647058823529411\n",
      "Recall: 0.013\n",
      "Results for r = 2.4499183673469385 | TN: 40986, FP: 14, FN: 952, TP: 48\n",
      "Precision: 0.7741935483870968\n",
      "Recall: 0.048\n",
      "Results for r = 3.2662244897959183 | TN: 40945, FP: 55, FN: 905, TP: 95\n",
      "Precision: 0.6333333333333333\n",
      "Recall: 0.095\n",
      "Results for r = 4.0825306122448985 | TN: 40897, FP: 103, FN: 839, TP: 161\n",
      "Precision: 0.6098484848484849\n",
      "Recall: 0.161\n",
      "Results for r = 4.8988367346938775 | TN: 40844, FP: 156, FN: 789, TP: 211\n",
      "Precision: 0.5749318801089919\n",
      "Recall: 0.211\n",
      "Results for r = 5.715142857142857 | TN: 40788, FP: 212, FN: 740, TP: 260\n",
      "Precision: 0.5508474576271186\n",
      "Recall: 0.26\n",
      "Results for r = 6.531448979591837 | TN: 40741, FP: 259, FN: 698, TP: 302\n",
      "Precision: 0.5383244206773619\n",
      "Recall: 0.302\n",
      "Results for r = 7.347755102040817 | TN: 40698, FP: 302, FN: 649, TP: 351\n",
      "Precision: 0.5375191424196019\n",
      "Recall: 0.351\n",
      "Results for r = 8.164061224489796 | TN: 40659, FP: 341, FN: 595, TP: 405\n",
      "Precision: 0.5428954423592494\n",
      "Recall: 0.405\n",
      "Results for r = 8.980367346938776 | TN: 40629, FP: 371, FN: 554, TP: 446\n",
      "Precision: 0.5458996328029376\n",
      "Recall: 0.446\n",
      "Results for r = 9.796673469387754 | TN: 40604, FP: 396, FN: 512, TP: 488\n",
      "Precision: 0.5520361990950227\n",
      "Recall: 0.488\n",
      "Results for r = 10.612979591836734 | TN: 40579, FP: 421, FN: 456, TP: 544\n",
      "Precision: 0.5637305699481865\n",
      "Recall: 0.544\n",
      "Results for r = 11.429285714285713 | TN: 40548, FP: 452, FN: 419, TP: 581\n",
      "Precision: 0.5624394966118103\n",
      "Recall: 0.581\n",
      "Results for r = 12.245591836734693 | TN: 40534, FP: 466, FN: 371, TP: 629\n",
      "Precision: 0.5744292237442923\n",
      "Recall: 0.629\n",
      "Results for r = 13.061897959183673 | TN: 40509, FP: 491, FN: 333, TP: 667\n",
      "Precision: 0.575993091537133\n",
      "Recall: 0.667\n",
      "Results for r = 13.878204081632653 | TN: 40486, FP: 514, FN: 286, TP: 714\n",
      "Precision: 0.5814332247557004\n",
      "Recall: 0.714\n",
      "Results for r = 14.694510204081633 | TN: 40469, FP: 531, FN: 246, TP: 754\n",
      "Precision: 0.5867704280155642\n",
      "Recall: 0.754\n",
      "Results for r = 15.510816326530612 | TN: 40455, FP: 545, FN: 206, TP: 794\n",
      "Precision: 0.5929798356982823\n",
      "Recall: 0.794\n",
      "Results for r = 16.327122448979594 | TN: 40447, FP: 553, FN: 179, TP: 821\n",
      "Precision: 0.5975254730713246\n",
      "Recall: 0.821\n",
      "Results for r = 17.143428571428572 | TN: 40430, FP: 570, FN: 157, TP: 843\n",
      "Precision: 0.5966029723991507\n",
      "Recall: 0.843\n",
      "Results for r = 17.959734693877554 | TN: 40406, FP: 594, FN: 142, TP: 858\n",
      "Precision: 0.5909090909090909\n",
      "Recall: 0.858\n",
      "Results for r = 18.77604081632653 | TN: 40378, FP: 622, FN: 127, TP: 873\n",
      "Precision: 0.5839464882943144\n",
      "Recall: 0.873\n",
      "Results for r = 19.59234693877551 | TN: 40303, FP: 697, FN: 114, TP: 886\n",
      "Precision: 0.5596967782691092\n",
      "Recall: 0.886\n",
      "Results for r = 20.40865306122449 | TN: 39729, FP: 1271, FN: 101, TP: 899\n",
      "Precision: 0.4142857142857143\n",
      "Recall: 0.899\n",
      "Results for r = 21.22495918367347 | TN: 35291, FP: 5709, FN: 92, TP: 908\n",
      "Precision: 0.1372223061810488\n",
      "Recall: 0.908\n",
      "Results for r = 22.04126530612245 | TN: 16356, FP: 24644, FN: 83, TP: 917\n",
      "Precision: 0.03587496576816244\n",
      "Recall: 0.917\n",
      "Results for r = 22.85757142857143 | TN: 10382, FP: 30618, FN: 72, TP: 928\n",
      "Precision: 0.029417358777658022\n",
      "Recall: 0.928\n",
      "Results for r = 23.67387755102041 | TN: 8228, FP: 32772, FN: 64, TP: 936\n",
      "Precision: 0.027767888928444288\n",
      "Recall: 0.936\n",
      "Results for r = 24.49018367346939 | TN: 7522, FP: 33478, FN: 56, TP: 944\n",
      "Precision: 0.027424321654755678\n",
      "Recall: 0.944\n",
      "Results for r = 25.30648979591837 | TN: 4077, FP: 36923, FN: 54, TP: 946\n",
      "Precision: 0.024980855052945682\n",
      "Recall: 0.946\n",
      "Results for r = 26.12279591836735 | TN: 3945, FP: 37055, FN: 50, TP: 950\n",
      "Precision: 0.02499671095908433\n",
      "Recall: 0.95\n",
      "Results for r = 26.939102040816326 | TN: 3862, FP: 37138, FN: 46, TP: 954\n",
      "Precision: 0.025044628793447442\n",
      "Recall: 0.954\n",
      "Results for r = 27.755408163265308 | TN: 3789, FP: 37211, FN: 41, TP: 959\n",
      "Precision: 0.025124443280062875\n",
      "Recall: 0.959\n",
      "Results for r = 28.571714285714286 | TN: 3489, FP: 37511, FN: 39, TP: 961\n",
      "Precision: 0.02497920565606155\n",
      "Recall: 0.961\n",
      "Results for r = 29.388020408163268 | TN: 3362, FP: 37638, FN: 34, TP: 966\n",
      "Precision: 0.025023313646254274\n",
      "Recall: 0.966\n",
      "Results for r = 30.204326530612246 | TN: 3216, FP: 37784, FN: 33, TP: 967\n",
      "Precision: 0.024954194730458568\n",
      "Recall: 0.967\n",
      "Results for r = 31.020632653061227 | TN: 2830, FP: 38170, FN: 32, TP: 968\n",
      "Precision: 0.02473299606520517\n",
      "Recall: 0.968\n",
      "Results for r = 31.836938775510205 | TN: 2044, FP: 38956, FN: 30, TP: 970\n",
      "Precision: 0.024294945649451484\n",
      "Recall: 0.97\n",
      "Results for r = 32.65324489795918 | TN: 1655, FP: 39345, FN: 30, TP: 970\n",
      "Precision: 0.02406052337839514\n",
      "Recall: 0.97\n",
      "Results for r = 33.46955102040816 | TN: 1102, FP: 39898, FN: 30, TP: 970\n",
      "Precision: 0.02373495155133601\n",
      "Recall: 0.97\n",
      "Results for r = 34.28585714285714 | TN: 592, FP: 40408, FN: 29, TP: 971\n",
      "Precision: 0.023466009328403297\n",
      "Recall: 0.971\n",
      "Results for r = 35.10216326530612 | TN: 486, FP: 40514, FN: 29, TP: 971\n",
      "Precision: 0.023406050379655298\n",
      "Recall: 0.971\n",
      "Results for r = 35.9184693877551 | TN: 422, FP: 40578, FN: 27, TP: 973\n",
      "Precision: 0.023417005607566606\n",
      "Recall: 0.973\n",
      "Results for r = 36.73477551020408 | TN: 356, FP: 40644, FN: 24, TP: 976\n",
      "Precision: 0.023450264296011533\n",
      "Recall: 0.976\n",
      "Results for r = 37.55108163265306 | TN: 325, FP: 40675, FN: 24, TP: 976\n",
      "Precision: 0.02343281073683705\n",
      "Recall: 0.976\n",
      "Results for r = 38.36738775510204 | TN: 280, FP: 40720, FN: 24, TP: 976\n",
      "Precision: 0.02340752110514198\n",
      "Recall: 0.976\n",
      "Results for r = 39.183693877551015 | TN: 242, FP: 40758, FN: 22, TP: 978\n",
      "Precision: 0.023433007475560666\n",
      "Recall: 0.978\n",
      "Results for r = 40.0 | TN: 218, FP: 40782, FN: 19, TP: 981\n",
      "Precision: 0.023489691832483298\n",
      "Recall: 0.981\n"
     ]
    },
    {
     "data": {
      "image/png": "[encoded data removed]",
      "text/plain": [
       "<Figure size 640x480 with 3 Axes>"
      ]
     },
     "metadata": {},
     "output_type": "display_data"
    },
    {
     "name": "stdout",
     "output_type": "stream",
     "text": [
      "Optimal Radius for medium dataset: 19.59234693877551\n",
      "PRAUC for medium dataset: 0.533764300537262\n"
     ]
    }
   ],
   "source": [
    "# Medium Dataset\n",
    "best_radius_M, prauc_M = pr_curve(MIN_RADIUS, MAX_RADIUS, NUM_STEPS, DETECTORS_M, val_ben_md, val_att_md)\n",
    "print(f\"Optimal Radius for medium dataset: {best_radius_M}\")\n",
    "print(f\"PRAUC for medium dataset: {prauc_M}\")"
   ]
  },
  {
   "cell_type": "code",
   "execution_count": 17,
   "id": "b45c747b",
   "metadata": {
    "execution": {
     "iopub.execute_input": "2024-03-02T04:56:01.135264Z",
     "iopub.status.busy": "2024-03-02T04:56:01.134676Z",
     "iopub.status.idle": "2024-03-02T05:13:35.636138Z",
     "shell.execute_reply": "2024-03-02T05:13:35.634911Z"
    },
    "papermill": {
     "duration": 1054.523127,
     "end_time": "2024-03-02T05:13:35.638738",
     "exception": false,
     "start_time": "2024-03-02T04:56:01.115611",
     "status": "completed"
    },
    "tags": []
   },
   "outputs": [
    {
     "name": "stdout",
     "output_type": "stream",
     "text": [
      "Results for r = 0.001 | TN: 41000, FP: 0, FN: 1000, TP: 0\n",
      "Precision: 0\n",
      "Recall: 0.0\n",
      "Results for r = 0.8173061224489796 | TN: 41000, FP: 0, FN: 998, TP: 2\n",
      "Precision: 1.0\n",
      "Recall: 0.002\n",
      "Results for r = 1.633612244897959 | TN: 40998, FP: 2, FN: 990, TP: 10\n",
      "Precision: 0.8333333333333334\n",
      "Recall: 0.01\n",
      "Results for r = 2.4499183673469385 | TN: 40991, FP: 9, FN: 961, TP: 39\n",
      "Precision: 0.8125\n",
      "Recall: 0.039\n",
      "Results for r = 3.2662244897959183 | TN: 40964, FP: 36, FN: 936, TP: 64\n",
      "Precision: 0.64\n",
      "Recall: 0.064\n",
      "Results for r = 4.0825306122448985 | TN: 40938, FP: 62, FN: 883, TP: 117\n",
      "Precision: 0.6536312849162011\n",
      "Recall: 0.117\n",
      "Results for r = 4.8988367346938775 | TN: 40911, FP: 89, FN: 826, TP: 174\n",
      "Precision: 0.6615969581749049\n",
      "Recall: 0.174\n",
      "Results for r = 5.715142857142857 | TN: 40873, FP: 127, FN: 769, TP: 231\n",
      "Precision: 0.6452513966480447\n",
      "Recall: 0.231\n",
      "Results for r = 6.531448979591837 | TN: 40839, FP: 161, FN: 711, TP: 289\n",
      "Precision: 0.6422222222222222\n",
      "Recall: 0.289\n",
      "Results for r = 7.347755102040817 | TN: 40807, FP: 193, FN: 656, TP: 344\n",
      "Precision: 0.6405959031657356\n",
      "Recall: 0.344\n",
      "Results for r = 8.164061224489796 | TN: 40770, FP: 230, FN: 611, TP: 389\n",
      "Precision: 0.6284329563812601\n",
      "Recall: 0.389\n",
      "Results for r = 8.980367346938776 | TN: 40739, FP: 261, FN: 567, TP: 433\n",
      "Precision: 0.6239193083573487\n",
      "Recall: 0.433\n",
      "Results for r = 9.796673469387754 | TN: 40709, FP: 291, FN: 521, TP: 479\n",
      "Precision: 0.6220779220779221\n",
      "Recall: 0.479\n",
      "Results for r = 10.612979591836734 | TN: 40675, FP: 325, FN: 482, TP: 518\n",
      "Precision: 0.6144721233689205\n",
      "Recall: 0.518\n",
      "Results for r = 11.429285714285713 | TN: 40652, FP: 348, FN: 444, TP: 556\n",
      "Precision: 0.6150442477876106\n",
      "Recall: 0.556\n",
      "Results for r = 12.245591836734693 | TN: 40626, FP: 374, FN: 399, TP: 601\n",
      "Precision: 0.6164102564102564\n",
      "Recall: 0.601\n",
      "Results for r = 13.061897959183673 | TN: 40589, FP: 411, FN: 360, TP: 640\n",
      "Precision: 0.6089438629876308\n",
      "Recall: 0.64\n",
      "Results for r = 13.878204081632653 | TN: 40565, FP: 435, FN: 329, TP: 671\n",
      "Precision: 0.6066907775768535\n",
      "Recall: 0.671\n",
      "Results for r = 14.694510204081633 | TN: 40543, FP: 457, FN: 292, TP: 708\n",
      "Precision: 0.607725321888412\n",
      "Recall: 0.708\n",
      "Results for r = 15.510816326530612 | TN: 40524, FP: 476, FN: 257, TP: 743\n",
      "Precision: 0.6095159967186218\n",
      "Recall: 0.743\n",
      "Results for r = 16.327122448979594 | TN: 40509, FP: 491, FN: 234, TP: 766\n",
      "Precision: 0.609387430389817\n",
      "Recall: 0.766\n",
      "Results for r = 17.143428571428572 | TN: 40496, FP: 504, FN: 213, TP: 787\n",
      "Precision: 0.6096049573973664\n",
      "Recall: 0.787\n",
      "Results for r = 17.959734693877554 | TN: 40472, FP: 528, FN: 186, TP: 814\n",
      "Precision: 0.6065573770491803\n",
      "Recall: 0.814\n",
      "Results for r = 18.77604081632653 | TN: 40437, FP: 563, FN: 166, TP: 834\n",
      "Precision: 0.5969935576234788\n",
      "Recall: 0.834\n",
      "Results for r = 19.59234693877551 | TN: 40292, FP: 708, FN: 143, TP: 857\n",
      "Precision: 0.5476038338658147\n",
      "Recall: 0.857\n",
      "Results for r = 20.40865306122449 | TN: 39363, FP: 1637, FN: 129, TP: 871\n",
      "Precision: 0.34728867623604465\n",
      "Recall: 0.871\n",
      "Results for r = 21.22495918367347 | TN: 34072, FP: 6928, FN: 111, TP: 889\n",
      "Precision: 0.11372649353972113\n",
      "Recall: 0.889\n",
      "Results for r = 22.04126530612245 | TN: 33434, FP: 7566, FN: 96, TP: 904\n",
      "Precision: 0.10672963400236128\n",
      "Recall: 0.904\n",
      "Results for r = 22.85757142857143 | TN: 33017, FP: 7983, FN: 92, TP: 908\n",
      "Precision: 0.10212574513553031\n",
      "Recall: 0.908\n",
      "Results for r = 23.67387755102041 | TN: 31869, FP: 9131, FN: 83, TP: 917\n",
      "Precision: 0.09126194267515923\n",
      "Recall: 0.917\n",
      "Results for r = 24.49018367346939 | TN: 26701, FP: 14299, FN: 77, TP: 923\n",
      "Precision: 0.06063592169228748\n",
      "Recall: 0.923\n",
      "Results for r = 25.30648979591837 | TN: 22754, FP: 18246, FN: 63, TP: 937\n",
      "Precision: 0.048845331804201635\n",
      "Recall: 0.937\n",
      "Results for r = 26.12279591836735 | TN: 17110, FP: 23890, FN: 58, TP: 942\n",
      "Precision: 0.03793492268041237\n",
      "Recall: 0.942\n",
      "Results for r = 26.939102040816326 | TN: 16025, FP: 24975, FN: 53, TP: 947\n",
      "Precision: 0.03653267494792069\n",
      "Recall: 0.947\n",
      "Results for r = 27.755408163265308 | TN: 12017, FP: 28983, FN: 51, TP: 949\n",
      "Precision: 0.03170519844981959\n",
      "Recall: 0.949\n",
      "Results for r = 28.571714285714286 | TN: 9866, FP: 31134, FN: 48, TP: 952\n",
      "Precision: 0.0296702611730973\n",
      "Recall: 0.952\n",
      "Results for r = 29.388020408163268 | TN: 8161, FP: 32839, FN: 43, TP: 957\n",
      "Precision: 0.028316960587051722\n",
      "Recall: 0.957\n",
      "Results for r = 30.204326530612246 | TN: 7635, FP: 33365, FN: 36, TP: 964\n",
      "Precision: 0.028081214133822717\n",
      "Recall: 0.964\n",
      "Results for r = 31.020632653061227 | TN: 7257, FP: 33743, FN: 32, TP: 968\n",
      "Precision: 0.027887413211950103\n",
      "Recall: 0.968\n",
      "Results for r = 31.836938775510205 | TN: 6489, FP: 34511, FN: 30, TP: 970\n",
      "Precision: 0.02733857557566021\n",
      "Recall: 0.97\n",
      "Results for r = 32.65324489795918 | TN: 5329, FP: 35671, FN: 30, TP: 970\n",
      "Precision: 0.026473076608171175\n",
      "Recall: 0.97\n",
      "Results for r = 33.46955102040816 | TN: 4526, FP: 36474, FN: 30, TP: 970\n",
      "Precision: 0.025905351992308513\n",
      "Recall: 0.97\n",
      "Results for r = 34.28585714285714 | TN: 4234, FP: 36766, FN: 30, TP: 970\n",
      "Precision: 0.025704897180411277\n",
      "Recall: 0.97\n",
      "Results for r = 35.10216326530612 | TN: 3797, FP: 37203, FN: 29, TP: 971\n",
      "Precision: 0.025436160737674858\n",
      "Recall: 0.971\n",
      "Results for r = 35.9184693877551 | TN: 3592, FP: 37408, FN: 29, TP: 971\n",
      "Precision: 0.02530029443185075\n",
      "Recall: 0.971\n",
      "Results for r = 36.73477551020408 | TN: 1016, FP: 39984, FN: 28, TP: 972\n",
      "Precision: 0.023732786404922355\n",
      "Recall: 0.972\n",
      "Results for r = 37.55108163265306 | TN: 901, FP: 40099, FN: 26, TP: 974\n",
      "Precision: 0.023713875295206098\n",
      "Recall: 0.974\n",
      "Results for r = 38.36738775510204 | TN: 841, FP: 40159, FN: 25, TP: 975\n",
      "Precision: 0.023703019400009726\n",
      "Recall: 0.975\n",
      "Results for r = 39.183693877551015 | TN: 585, FP: 40415, FN: 23, TP: 977\n",
      "Precision: 0.023603594897564747\n",
      "Recall: 0.977\n",
      "Results for r = 40.0 | TN: 542, FP: 40458, FN: 22, TP: 978\n",
      "Precision: 0.023602664349840718\n",
      "Recall: 0.978\n"
     ]
    },
    {
     "data": {
      "image/png": "[encoded data removed]",
      "text/plain": [
       "<Figure size 640x480 with 3 Axes>"
      ]
     },
     "metadata": {},
     "output_type": "display_data"
    },
    {
     "name": "stdout",
     "output_type": "stream",
     "text": [
      "Optimal Radius for large dataset: 19.59234693877551\n",
      "PRAUC for large dataset: 0.5627033747208696\n"
     ]
    }
   ],
   "source": [
    "# Large Dataset\n",
    "best_radius_L, prauc_L = pr_curve(MIN_RADIUS, MAX_RADIUS, NUM_STEPS, DETECTORS_L, val_ben_lg, val_att_lg)\n",
    "print(f\"Optimal Radius for large dataset: {best_radius_L}\")\n",
    "print(f\"PRAUC for large dataset: {prauc_L}\")"
   ]
  },
  {
   "cell_type": "markdown",
   "id": "91363e05",
   "metadata": {
    "papermill": {
     "duration": 0.018593,
     "end_time": "2024-03-02T05:13:35.676550",
     "exception": false,
     "start_time": "2024-03-02T05:13:35.657957",
     "status": "completed"
    },
    "tags": []
   },
   "source": [
    "# Evaluation Function"
   ]
  },
  {
   "cell_type": "code",
   "execution_count": 18,
   "id": "2dcded94",
   "metadata": {
    "execution": {
     "iopub.execute_input": "2024-03-02T05:13:35.717257Z",
     "iopub.status.busy": "2024-03-02T05:13:35.715968Z",
     "iopub.status.idle": "2024-03-02T05:13:35.729610Z",
     "shell.execute_reply": "2024-03-02T05:13:35.728104Z"
    },
    "papermill": {
     "duration": 0.036937,
     "end_time": "2024-03-02T05:13:35.732059",
     "exception": false,
     "start_time": "2024-03-02T05:13:35.695122",
     "status": "completed"
    },
    "tags": []
   },
   "outputs": [],
   "source": [
    "def evaluate(optimal_radius, detrs, att_test, ben_test):\n",
    "    \n",
    "    def affinity(v1 : np.ndarray, v2 : np.ndarray):\n",
    "        ''' Manhattan distance between vectors '''\n",
    "        return np.sum(np.abs(v1 - v2), axis=-1)\n",
    "    \n",
    "    y_attack_labels = np.zeros((1, len(att_test)), dtype=np.int8)\n",
    "    #print(y_attack_labels.shape)\n",
    "    y_ben_labels = np.ones((1, len(ben_test)), dtype=np.int8)\n",
    "    #print(y_ben_labels.shape)\n",
    "    y_test = np.concatenate((y_attack_labels, y_ben_labels), axis=1)[0]\n",
    "    #print(y_test.shape)\n",
    "\n",
    "    pred = []\n",
    "    done = False\n",
    "\n",
    "    for inst in att_test:\n",
    "        done = False\n",
    "        for i in range(0, len(detrs)-1):\n",
    "              aff = affinity(inst, detrs[i])\n",
    "              if aff < optimal_radius:\n",
    "                pred.append(1) # Predicted benign\n",
    "                done = True\n",
    "                break\n",
    "        if not done:\n",
    "            pred.append(0) # Predicted attack\n",
    "\n",
    "    done = False\n",
    "    for inst in ben_test:\n",
    "        done = False\n",
    "        for i in range(0, len(detrs)-1):\n",
    "              aff = affinity(inst, detrs[i])\n",
    "              if aff < optimal_radius:\n",
    "                pred.append(1) # Predicted benign\n",
    "                done = True\n",
    "                break\n",
    "        if not done:\n",
    "            pred.append(0) # Predicted attack\n",
    "\n",
    "    y_pred = np.asarray(pred, dtype=np.int8)\n",
    "\n",
    "    print(classification_report(y_test, y_pred, digits = 3, target_names = [\"attack\", \"benign\"]))"
   ]
  },
  {
   "cell_type": "code",
   "execution_count": 19,
   "id": "8a4c5743",
   "metadata": {
    "execution": {
     "iopub.execute_input": "2024-03-02T05:13:35.775821Z",
     "iopub.status.busy": "2024-03-02T05:13:35.774346Z",
     "iopub.status.idle": "2024-03-02T05:14:02.682417Z",
     "shell.execute_reply": "2024-03-02T05:14:02.681218Z"
    },
    "papermill": {
     "duration": 26.932344,
     "end_time": "2024-03-02T05:14:02.684677",
     "exception": false,
     "start_time": "2024-03-02T05:13:35.752333",
     "status": "completed"
    },
    "tags": []
   },
   "outputs": [
    {
     "name": "stdout",
     "output_type": "stream",
     "text": [
      "              precision    recall  f1-score   support\n",
      "\n",
      "      attack      0.998     0.982     0.990     41000\n",
      "      benign      0.551     0.907     0.686      1000\n",
      "\n",
      "    accuracy                          0.980     42000\n",
      "   macro avg      0.774     0.944     0.838     42000\n",
      "weighted avg      0.987     0.980     0.983     42000\n",
      "\n"
     ]
    }
   ],
   "source": [
    "# Small Dataset\n",
    "evaluate(best_radius_S, DETECTORS_S, ATTACK_TEST_S, BENIGN_TEST_S)"
   ]
  },
  {
   "cell_type": "code",
   "execution_count": 20,
   "id": "a36a07b9",
   "metadata": {
    "execution": {
     "iopub.execute_input": "2024-03-02T05:14:02.725078Z",
     "iopub.status.busy": "2024-03-02T05:14:02.724582Z",
     "iopub.status.idle": "2024-03-02T05:14:29.619551Z",
     "shell.execute_reply": "2024-03-02T05:14:29.618406Z"
    },
    "papermill": {
     "duration": 26.91797,
     "end_time": "2024-03-02T05:14:29.622015",
     "exception": false,
     "start_time": "2024-03-02T05:14:02.704045",
     "status": "completed"
    },
    "tags": []
   },
   "outputs": [
    {
     "name": "stdout",
     "output_type": "stream",
     "text": [
      "              precision    recall  f1-score   support\n",
      "\n",
      "      attack      0.996     0.982     0.989     41000\n",
      "      benign      0.543     0.858     0.665      1000\n",
      "\n",
      "    accuracy                          0.979     42000\n",
      "   macro avg      0.770     0.920     0.827     42000\n",
      "weighted avg      0.986     0.979     0.982     42000\n",
      "\n"
     ]
    }
   ],
   "source": [
    "# Medium Dataset\n",
    "evaluate(best_radius_M, DETECTORS_M, ATTACK_TEST_M, BENIGN_TEST_M)"
   ]
  },
  {
   "cell_type": "code",
   "execution_count": 21,
   "id": "f644c7cc",
   "metadata": {
    "execution": {
     "iopub.execute_input": "2024-03-02T05:14:29.665928Z",
     "iopub.status.busy": "2024-03-02T05:14:29.665467Z",
     "iopub.status.idle": "2024-03-02T05:14:56.533196Z",
     "shell.execute_reply": "2024-03-02T05:14:56.531016Z"
    },
    "papermill": {
     "duration": 26.892707,
     "end_time": "2024-03-02T05:14:56.536041",
     "exception": false,
     "start_time": "2024-03-02T05:14:29.643334",
     "status": "completed"
    },
    "tags": []
   },
   "outputs": [
    {
     "name": "stdout",
     "output_type": "stream",
     "text": [
      "              precision    recall  f1-score   support\n",
      "\n",
      "      attack      0.996     0.982     0.989     41000\n",
      "      benign      0.528     0.837     0.648      1000\n",
      "\n",
      "    accuracy                          0.978     42000\n",
      "   macro avg      0.762     0.909     0.818     42000\n",
      "weighted avg      0.985     0.978     0.981     42000\n",
      "\n"
     ]
    }
   ],
   "source": [
    "# Large Dataset\n",
    "evaluate(best_radius_L, DETECTORS_L, ATTACK_TEST_L, BENIGN_TEST_L)"
   ]
  },
  {
   "cell_type": "markdown",
   "id": "ea9d93de",
   "metadata": {
    "papermill": {
     "duration": 0.020564,
     "end_time": "2024-03-02T05:14:56.577316",
     "exception": false,
     "start_time": "2024-03-02T05:14:56.556752",
     "status": "completed"
    },
    "tags": []
   },
   "source": [
    "# Export Detectors"
   ]
  },
  {
   "cell_type": "code",
   "execution_count": 22,
   "id": "205c9040",
   "metadata": {
    "execution": {
     "iopub.execute_input": "2024-03-02T05:14:56.620638Z",
     "iopub.status.busy": "2024-03-02T05:14:56.619495Z",
     "iopub.status.idle": "2024-03-02T05:14:56.633125Z",
     "shell.execute_reply": "2024-03-02T05:14:56.631898Z"
    },
    "papermill": {
     "duration": 0.03795,
     "end_time": "2024-03-02T05:14:56.635620",
     "exception": false,
     "start_time": "2024-03-02T05:14:56.597670",
     "status": "completed"
    },
    "tags": []
   },
   "outputs": [],
   "source": [
    "#Get rid of [] in the txt file before copying to cpp file\n",
    "\n",
    "# Small Dataset\n",
    "interm_S = [list(n) for n in DETECTORS_S]\n",
    "out_S = repr(list(itertools.chain.from_iterable(interm_S)))\n",
    "with open(\"detectors_S.txt\", \"w\") as f:\n",
    "    f.write(out_S)\n",
    "    \n",
    "# Medium Dataset\n",
    "interm_M = [list(n) for n in DETECTORS_M]\n",
    "out_M = repr(list(itertools.chain.from_iterable(interm_M)))\n",
    "with open(\"detectors_M.txt\", \"w\") as f:\n",
    "    f.write(out_M)\n",
    "\n",
    "# Large Dataset\n",
    "interm_L = [list(n) for n in DETECTORS_L]\n",
    "out_L = repr(list(itertools.chain.from_iterable(interm_L)))\n",
    "with open(\"detectors_L.txt\", \"w\") as f:\n",
    "    f.write(out_L)"
   ]
  }
 ],
 "metadata": {
  "kaggle": {
   "accelerator": "none",
   "dataSources": [
    {
     "sourceId": 163150315,
     "sourceType": "kernelVersion"
    },
    {
     "sourceId": 163506803,
     "sourceType": "kernelVersion"
    }
   ],
   "dockerImageVersionId": 30664,
   "isGpuEnabled": false,
   "isInternetEnabled": true,
   "language": "python",
   "sourceType": "notebook"
  },
  "kernelspec": {
   "display_name": "Python 3",
   "language": "python",
   "name": "python3"
  },
  "language_info": {
   "codemirror_mode": {
    "name": "ipython",
    "version": 3
   },
   "file_extension": ".py",
   "mimetype": "text/x-python",
   "name": "python",
   "nbconvert_exporter": "python",
   "pygments_lexer": "ipython3",
   "version": "3.10.13"
  },
  "papermill": {
   "default_parameters": {},
   "duration": 2446.809003,
   "end_time": "2024-03-02T05:14:57.890962",
   "environment_variables": {},
   "exception": null,
   "input_path": "__notebook__.ipynb",
   "output_path": "__notebook__.ipynb",
   "parameters": {},
   "start_time": "2024-03-02T04:34:11.081959",
   "version": "2.5.0"
  }
 },
 "nbformat": 4,
 "nbformat_minor": 5
}
