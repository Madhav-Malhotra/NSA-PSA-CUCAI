{
 "cells": [
  {
   "cell_type": "code",
   "execution_count": 1,
   "id": "a8571fd1",
   "metadata": {
    "_cell_guid": "b1076dfc-b9ad-4769-8c92-a6c4dae69d19",
    "_uuid": "8f2839f25d086af736a60e9eeb907d3b93b6e0e5",
    "execution": {
     "iopub.execute_input": "2024-03-02T03:44:02.364180Z",
     "iopub.status.busy": "2024-03-02T03:44:02.363850Z",
     "iopub.status.idle": "2024-03-02T03:44:07.029839Z",
     "shell.execute_reply": "2024-03-02T03:44:07.027868Z"
    },
    "papermill": {
     "duration": 4.677815,
     "end_time": "2024-03-02T03:44:07.032169",
     "exception": false,
     "start_time": "2024-03-02T03:44:02.354354",
     "status": "completed"
    },
    "tags": []
   },
   "outputs": [],
   "source": [
    "import numpy as np\n",
    "from numpy.random import RandomState, default_rng\n",
    "\n",
    "import pandas as pd\n",
    "from functools import reduce\n",
    "\n",
    "import matplotlib.pyplot as plt\n",
    "import seaborn as sns\n",
    "import itertools\n",
    "\n",
    "import math\n",
    "\n",
    "from sklearn.decomposition import PCA\n",
    "from sklearn.compose import ColumnTransformer\n",
    "from sklearn.preprocessing import StandardScaler\n",
    "from sklearn.model_selection import train_test_split\n",
    "from sklearn.metrics import confusion_matrix, roc_curve, ConfusionMatrixDisplay, auc, recall_score, precision_score, precision_recall_curve, PrecisionRecallDisplay, classification_report\n",
    "\n",
    "from hyperopt import hp, fmin, STATUS_OK, tpe\n",
    "from hyperopt.early_stop import no_progress_loss"
   ]
  },
  {
   "cell_type": "markdown",
   "id": "f8078312",
   "metadata": {
    "papermill": {
     "duration": 0.006776,
     "end_time": "2024-03-02T03:44:07.045680",
     "exception": false,
     "start_time": "2024-03-02T03:44:07.038904",
     "status": "completed"
    },
    "tags": []
   },
   "source": [
    "## Creating Datasets\n",
    "* Small: Top 5 non-text based featuress from 1% dataset\n",
    "* Medium: Top 24 non-text based features from 5% dataset\n",
    "* Large: Top 45 non-text based features from 10% dataset\n",
    "* Validation: Top 5,24,45 non-text based features from 1% dataset\n",
    "\n",
    "All datasets contain two classes (i.e. attack or binary) and 47 features. We then select the top 5 features for each dataset.\n",
    "\n",
    "Small, medium and large will be split into train and test datasets. Train is used to create detectors and test is used for the evaluation function. Validation is used to optimize detecto radius with Hyperopt."
   ]
  },
  {
   "cell_type": "code",
   "execution_count": 2,
   "id": "33fd3c23",
   "metadata": {
    "execution": {
     "iopub.execute_input": "2024-03-02T03:44:07.061491Z",
     "iopub.status.busy": "2024-03-02T03:44:07.060116Z",
     "iopub.status.idle": "2024-03-02T03:44:51.448037Z",
     "shell.execute_reply": "2024-03-02T03:44:51.446632Z"
    },
    "papermill": {
     "duration": 44.398092,
     "end_time": "2024-03-02T03:44:51.450367",
     "exception": false,
     "start_time": "2024-03-02T03:44:07.052275",
     "status": "completed"
    },
    "tags": []
   },
   "outputs": [],
   "source": [
    "#Creating the datasets\n",
    "df_1percent = pd.read_csv(\"/kaggle/input/creating-a-smaller-dataset-for-ciciot2023/0.01percent_2classes.csv\")\n",
    "df_5percent = pd.read_csv(\"/kaggle/input/creating-a-smaller-dataset-for-ciciot2023/0.05percent_2classes.csv\")\n",
    "df_10percent = pd.read_csv(\"/kaggle/input/creating-a-smaller-dataset-for-ciciot2023/0.1percent_2classes.csv\")\n",
    "\n",
    "df_val = pd.read_csv(\"/kaggle/input/creating-a-smaller-dataset-for-ciciot2023/0.01percent_validation_2classes.csv\")"
   ]
  },
  {
   "cell_type": "code",
   "execution_count": 3,
   "id": "2cffc3b3",
   "metadata": {
    "execution": {
     "iopub.execute_input": "2024-03-02T03:44:51.465087Z",
     "iopub.status.busy": "2024-03-02T03:44:51.464761Z",
     "iopub.status.idle": "2024-03-02T03:44:51.469340Z",
     "shell.execute_reply": "2024-03-02T03:44:51.468700Z"
    },
    "papermill": {
     "duration": 0.014261,
     "end_time": "2024-03-02T03:44:51.471596",
     "exception": false,
     "start_time": "2024-03-02T03:44:51.457335",
     "status": "completed"
    },
    "tags": []
   },
   "outputs": [
    {
     "name": "stdout",
     "output_type": "stream",
     "text": [
      "(466869, 47) (2334325, 47) (4668665, 47) (466761, 47)\n"
     ]
    }
   ],
   "source": [
    "print(df_1percent.shape, df_5percent.shape, df_10percent.shape, df_val.shape)"
   ]
  },
  {
   "cell_type": "code",
   "execution_count": 4,
   "id": "053c599b",
   "metadata": {
    "execution": {
     "iopub.execute_input": "2024-03-02T03:44:51.486778Z",
     "iopub.status.busy": "2024-03-02T03:44:51.486092Z",
     "iopub.status.idle": "2024-03-02T03:44:51.514701Z",
     "shell.execute_reply": "2024-03-02T03:44:51.513082Z"
    },
    "papermill": {
     "duration": 0.038974,
     "end_time": "2024-03-02T03:44:51.517354",
     "exception": false,
     "start_time": "2024-03-02T03:44:51.478380",
     "status": "completed"
    },
    "tags": []
   },
   "outputs": [],
   "source": [
    "# Features\n",
    "top5_feats = list(pd.read_csv(\"/kaggle/input/feature-importance-study-on-the-ciciot2023-export/top5.csv\")[\"Feature\"])\n",
    "top24_feats = list(pd.read_csv(\"/kaggle/input/feature-importance-study-on-the-ciciot2023-export/top24.csv\")[\"Feature\"])\n",
    "topall_feats = list(pd.read_csv(\"/kaggle/input/feature-importance-study-on-the-ciciot2023-export/topall.csv\")[\"Feature\"])\n",
    "\n",
    "top5_feats.append(\"benign\")\n",
    "top24_feats.append(\"benign\")\n",
    "topall_feats.append(\"benign\")"
   ]
  },
  {
   "cell_type": "code",
   "execution_count": 5,
   "id": "e05d09e4",
   "metadata": {
    "execution": {
     "iopub.execute_input": "2024-03-02T03:44:51.532444Z",
     "iopub.status.busy": "2024-03-02T03:44:51.532059Z",
     "iopub.status.idle": "2024-03-02T03:44:51.835131Z",
     "shell.execute_reply": "2024-03-02T03:44:51.833970Z"
    },
    "papermill": {
     "duration": 0.313127,
     "end_time": "2024-03-02T03:44:51.837523",
     "exception": false,
     "start_time": "2024-03-02T03:44:51.524396",
     "status": "completed"
    },
    "tags": []
   },
   "outputs": [],
   "source": [
    "df_small = df_1percent[top5_feats]\n",
    "df_med = df_5percent[top24_feats]\n",
    "df_large = df_10percent[topall_feats]\n",
    "\n",
    "df_val_small = df_val[top5_feats]\n",
    "df_val_med = df_val[top24_feats]\n",
    "df_val_large = df_val[topall_feats]"
   ]
  },
  {
   "cell_type": "code",
   "execution_count": 6,
   "id": "bfe759bd",
   "metadata": {
    "execution": {
     "iopub.execute_input": "2024-03-02T03:44:51.852328Z",
     "iopub.status.busy": "2024-03-02T03:44:51.851905Z",
     "iopub.status.idle": "2024-03-02T03:44:51.857068Z",
     "shell.execute_reply": "2024-03-02T03:44:51.856220Z"
    },
    "papermill": {
     "duration": 0.01465,
     "end_time": "2024-03-02T03:44:51.858868",
     "exception": false,
     "start_time": "2024-03-02T03:44:51.844218",
     "status": "completed"
    },
    "tags": []
   },
   "outputs": [
    {
     "name": "stdout",
     "output_type": "stream",
     "text": [
      "(466869, 6) (2334325, 25) (4668665, 46)\n",
      "(466761, 6) (466761, 25) (466761, 46)\n"
     ]
    }
   ],
   "source": [
    "print(df_small.shape, df_med.shape, df_large.shape)\n",
    "print(df_val_small.shape, df_val_med.shape, df_val_large.shape)"
   ]
  },
  {
   "cell_type": "markdown",
   "id": "75bd9978",
   "metadata": {
    "papermill": {
     "duration": 0.006117,
     "end_time": "2024-03-02T03:44:51.872340",
     "exception": false,
     "start_time": "2024-03-02T03:44:51.866223",
     "status": "completed"
    },
    "tags": []
   },
   "source": [
    "# Preprocessing\n",
    "1. Normalize using Sci-Kit Learn's StandardScaler()\n",
    "2. Split into detectors, and scaled attacks and scaled benigns (for testing)"
   ]
  },
  {
   "cell_type": "code",
   "execution_count": 7,
   "id": "de320125",
   "metadata": {
    "execution": {
     "iopub.execute_input": "2024-03-02T03:44:51.886705Z",
     "iopub.status.busy": "2024-03-02T03:44:51.886305Z",
     "iopub.status.idle": "2024-03-02T03:44:51.896464Z",
     "shell.execute_reply": "2024-03-02T03:44:51.895191Z"
    },
    "papermill": {
     "duration": 0.019831,
     "end_time": "2024-03-02T03:44:51.898551",
     "exception": false,
     "start_time": "2024-03-02T03:44:51.878720",
     "status": "completed"
    },
    "tags": []
   },
   "outputs": [],
   "source": [
    "def preprocessing(df_main, df_val):\n",
    "    X = df_main.drop(\"benign\", axis = 1)\n",
    "    y = df_main[\"benign\"].astype(np.float32)\n",
    "    \n",
    "    ratio_att_to_ben = (y.value_counts()[0.0])/(y.value_counts()[1.0])\n",
    "    \n",
    "    X_val = df_val.drop(\"benign\", axis = 1)\n",
    "    y_val = df_val[\"benign\"].astype(np.float32)\n",
    "    \n",
    "    val_ratio_att_to_ben = (y_val.value_counts()[0.0])/(y_val.value_counts()[1.0])\n",
    "    \n",
    "    # Convert to numpy\n",
    "    X = X.to_numpy().astype(np.float32) #All data w/o labels\n",
    "    y = y.to_numpy().astype(np.float32) #All labels\n",
    "    \n",
    "    # Normalization\n",
    "    scaler = StandardScaler()\n",
    "    data_scaled = scaler.fit_transform(X)\n",
    "    \n",
    "    benigns_scaled = data_scaled[y.squeeze() == True, :]\n",
    "    attacks_scaled = data_scaled[y.squeeze() == False, :]\n",
    "    \n",
    "    print(f\"scaler mean: {scaler.mean_.astype(np.float32)}, scaler var: {scaler.var_.astype(np.float32)}\")\n",
    "    \n",
    "    # Normalization of Validation Dataset\n",
    "    val_scaler = ColumnTransformer([\n",
    "        ('somename', StandardScaler(), X_val.columns)\n",
    "    ], remainder='passthrough')\n",
    "    scaled_val = val_scaler.fit_transform(df_val)\n",
    "    \n",
    "    scaled_benigns_train, scaled_benigns_test = train_test_split(benigns_scaled, test_size=0.3, random_state = 42)\n",
    "    scaled_attacks_train, scaled_attacks_test = train_test_split(attacks_scaled, test_size=0.3, random_state = 42)\n",
    "    \n",
    "    return scaled_benigns_train, scaled_benigns_test, scaled_attacks_train, scaled_attacks_test, scaled_val, int(ratio_att_to_ben), int(val_ratio_att_to_ben)"
   ]
  },
  {
   "cell_type": "code",
   "execution_count": 8,
   "id": "4867c7a8",
   "metadata": {
    "execution": {
     "iopub.execute_input": "2024-03-02T03:44:51.913213Z",
     "iopub.status.busy": "2024-03-02T03:44:51.912868Z",
     "iopub.status.idle": "2024-03-02T03:45:13.740001Z",
     "shell.execute_reply": "2024-03-02T03:45:13.738541Z"
    },
    "papermill": {
     "duration": 21.837346,
     "end_time": "2024-03-02T03:45:13.742400",
     "exception": false,
     "start_time": "2024-03-02T03:44:51.905054",
     "status": "completed"
    },
    "tags": []
   },
   "outputs": [
    {
     "name": "stdout",
     "output_type": "stream",
     "text": [
      "scaler mean: [8.3157144e+07 7.6943680e+04 1.3118273e+01 3.8499920e+01 1.8166219e+02], scaler var: [2.9066282e+14 2.1407808e+11 7.4370697e+01 1.0545658e+05 2.7581962e+05]\n",
      "(7686, 5) (3295, 5) (319121, 5) (136767, 5)\n",
      "scaler mean: [8.31867200e+07 7.67192031e+04 1.31205196e+01 3.83366890e+01\n",
      " 1.81906525e+02 1.24665955e+02 5.65363550e+00 1.24624290e+02\n",
      " 6.17433643e+00 9.64782238e-02 1.30702576e+03 9.15912704e+01\n",
      " 8.93214160e+03 8.93214160e+03 3.30482155e-01 4.70852165e+01\n",
      " 6.63340912e+01 3.06868145e+04 3.33165359e+01 9.49866199e+00\n",
      " 7.42634386e-02 1.41516937e+02 5.50548881e-02 3.76982644e-05], scaler var: [2.90543733e+14 2.11809174e+11 7.43846207e+01 1.04806289e+05\n",
      " 2.74205312e+05 5.83438203e+04 6.57023203e+04 5.79748320e+04\n",
      " 5.05823730e+03 5.42926826e-02 6.76950700e+06 1.94881074e+04\n",
      " 9.60522240e+09 9.60522240e+09 4.40479666e-01 5.12790742e+04\n",
      " 1.94201294e+02 9.73378109e+10 2.56325703e+04 6.70799196e-01\n",
      " 1.20611764e-01 4.43793762e+02 5.20238467e-02 3.76968419e-05]\n",
      "(38437, 24) (16474, 24) (1595589, 24) (683825, 24)\n",
      "scaler mean: [8.31743760e+07 7.65772031e+04 1.31225891e+01 3.83311081e+01\n",
      " 1.82008438e+02 1.24709137e+02 5.87204742e+00 1.24708176e+02\n",
      " 6.21549892e+00 9.64956135e-02 1.30816907e+03 9.16521149e+01\n",
      " 9.07163672e+03 9.07163672e+03 3.30437869e-01 4.71017761e+01\n",
      " 6.63511505e+01 3.06657305e+04 3.33292503e+01 9.49817276e+00\n",
      " 7.40337968e-02 1.41503769e+02 5.50033040e-02 3.87691143e-05\n",
      " 1.23412579e-01 9.05450210e-02 5.73831916e-01 2.11964235e-01\n",
      " 8.77434984e-02 1.63717464e-01 4.82129268e-02 9.05123875e-02\n",
      " 2.07359061e-01 8.65735710e-02 1.31086723e-04 9.99891639e-01\n",
      " 9.99891639e-01 6.10452917e-05 6.59093348e-06 0.00000000e+00\n",
      " 1.28516399e-06 8.56775955e-07 1.92774587e-06 0.00000000e+00\n",
      " 0.00000000e+00], scaler var: [2.90577959e+14 2.12200931e+11 7.45162735e+01 1.05477297e+05\n",
      " 2.74191188e+05 5.84031211e+04 8.31906094e+04 5.81272930e+04\n",
      " 5.22109473e+03 5.43062128e-02 6.81762850e+06 1.95720098e+04\n",
      " 9.85441485e+09 9.85441485e+09 4.40355480e-01 5.12791719e+04\n",
      " 1.96343613e+02 1.01035278e+11 2.56345820e+04 6.70754671e-01\n",
      " 8.08141157e-02 4.43768585e+02 5.19779399e-02 3.87676082e-05\n",
      " 1.08181916e-01 8.20399523e-02 2.44548842e-01 1.67035401e-01\n",
      " 8.00445750e-02 1.36914060e-01 4.58884388e-02 8.23198929e-02\n",
      " 1.64361283e-01 7.90785849e-02 1.31069537e-04 1.08370412e-04\n",
      " 1.08370412e-04 6.10415591e-05 5.79378939e-05 0.00000000e+00\n",
      " 1.28516228e-06 8.56775216e-07 1.92774223e-06 0.00000000e+00\n",
      " 0.00000000e+00]\n",
      "(76873, 45) (32946, 45) (3191192, 45) (1367654, 45)\n"
     ]
    }
   ],
   "source": [
    "# Small Dataset\n",
    "small_ben_train, small_ben_test, small_att_train, small_att_test, small_val, small_ratio_att_to_ben, small_val_ratio_att_to_ben = preprocessing(df_small, df_val_small)\n",
    "print(small_ben_train.shape, small_ben_test.shape, small_att_train.shape, small_att_test.shape)\n",
    "\n",
    "# Medium Dataset\n",
    "med_ben_train, med_ben_test, med_att_train, med_att_test, med_val, med_ratio_att_to_ben, med_val_ratio_att_to_ben = preprocessing(df_med, df_val_med)\n",
    "print(med_ben_train.shape, med_ben_test.shape, med_att_train.shape, med_att_test.shape)\n",
    "\n",
    "# Large Dataset\n",
    "large_ben_train, large_ben_test, large_att_train, large_att_test, large_val, large_ratio_att_to_ben, large_val_ratio_att_to_ben = preprocessing(df_large, df_val_large)\n",
    "print(large_ben_train.shape, large_ben_test.shape, large_att_train.shape, large_att_test.shape)"
   ]
  },
  {
   "cell_type": "markdown",
   "id": "013bfc7e",
   "metadata": {
    "papermill": {
     "duration": 0.007461,
     "end_time": "2024-03-02T03:45:13.757004",
     "exception": false,
     "start_time": "2024-03-02T03:45:13.749543",
     "status": "completed"
    },
    "tags": []
   },
   "source": [
    "# Generate Detectors"
   ]
  },
  {
   "cell_type": "code",
   "execution_count": 9,
   "id": "49c58e0e",
   "metadata": {
    "execution": {
     "iopub.execute_input": "2024-03-02T03:45:13.773493Z",
     "iopub.status.busy": "2024-03-02T03:45:13.773105Z",
     "iopub.status.idle": "2024-03-02T03:45:13.778081Z",
     "shell.execute_reply": "2024-03-02T03:45:13.777085Z"
    },
    "papermill": {
     "duration": 0.016283,
     "end_time": "2024-03-02T03:45:13.780853",
     "exception": false,
     "start_time": "2024-03-02T03:45:13.764570",
     "status": "completed"
    },
    "tags": []
   },
   "outputs": [],
   "source": [
    "def affinity(v1 : np.ndarray, v2 : np.ndarray):\n",
    "    ''' Manhattan distance between vectors '''\n",
    "    return np.sum(np.abs(v1 - v2), axis=-1)"
   ]
  },
  {
   "cell_type": "code",
   "execution_count": 10,
   "id": "1211cbf9",
   "metadata": {
    "execution": {
     "iopub.execute_input": "2024-03-02T03:45:13.797664Z",
     "iopub.status.busy": "2024-03-02T03:45:13.797293Z",
     "iopub.status.idle": "2024-03-02T03:45:13.804641Z",
     "shell.execute_reply": "2024-03-02T03:45:13.802034Z"
    },
    "papermill": {
     "duration": 0.019395,
     "end_time": "2024-03-02T03:45:13.807383",
     "exception": false,
     "start_time": "2024-03-02T03:45:13.787988",
     "status": "completed"
    },
    "tags": []
   },
   "outputs": [],
   "source": [
    "def gen_rand_like(dim : tuple, ben_data, data = np.ndarray) -> np.ndarray:\n",
    "    ''' \n",
    "    Generates random vectors with the same range as model data\n",
    "    \n",
    "    Parameters\n",
    "    --------------\n",
    "    dim: the dimensions of the random vectors to create.\n",
    "    data: the benign data to get the range from (hardcoded for performance gains)\n",
    "    '''\n",
    "    HARDCODE_RANGE = np.max(ben_data, axis=0) - np.min(ben_data, axis=0) \n",
    "    \n",
    "    return np.random.rand(*dim) * HARDCODE_RANGE"
   ]
  },
  {
   "cell_type": "markdown",
   "id": "bf062622",
   "metadata": {
    "papermill": {
     "duration": 0.006769,
     "end_time": "2024-03-02T03:45:13.821184",
     "exception": false,
     "start_time": "2024-03-02T03:45:13.814415",
     "status": "completed"
    },
    "tags": []
   },
   "source": [
    "### To improve detectors:\n",
    "1. If any detector has another detector within threshold, replace it. Selectively fixes detectors that are close together, but no incentive to make detectors close to datapoints.\n",
    "2. If any detector has less than k datapoints within threshold, replace it. Selectively removes detectors far from datapoints, but could end up with all detectors in one place."
   ]
  },
  {
   "cell_type": "code",
   "execution_count": 11,
   "id": "8e69cfdc",
   "metadata": {
    "execution": {
     "iopub.execute_input": "2024-03-02T03:45:13.837175Z",
     "iopub.status.busy": "2024-03-02T03:45:13.836813Z",
     "iopub.status.idle": "2024-03-02T03:45:13.846139Z",
     "shell.execute_reply": "2024-03-02T03:45:13.844285Z"
    },
    "papermill": {
     "duration": 0.020431,
     "end_time": "2024-03-02T03:45:13.848533",
     "exception": false,
     "start_time": "2024-03-02T03:45:13.828102",
     "status": "completed"
    },
    "tags": []
   },
   "outputs": [],
   "source": [
    "def improve_detectors_opt(data : np.ndarray, detectors : np.ndarray, \n",
    "                          det2det : float, dat2det : float, max_iters : int) -> np.ndarray:\n",
    "    \n",
    "    # On every iteration, track affinity\n",
    "    aff_history = []\n",
    "    for i in range(max_iters):\n",
    "        print(\".\", end=\"\")\n",
    "        \n",
    "        # Check distance between detectors\n",
    "        aff = affinity(np.expand_dims(detectors, axis=1), detectors)\n",
    "        second_lowest = np.partition(aff, 1, axis=1)[:, 1]\n",
    "        to_remove = second_lowest < det2det\n",
    "        \n",
    "        # Update detectors that are too close\n",
    "        new_det_shape = (np.sum(to_remove), detectors.shape[-1])\n",
    "        detectors[to_remove, :] = gen_rand_like(new_det_shape, data)\n",
    "        \n",
    "        # Check datapoints without nearby detectors\n",
    "        aff = affinity(np.expand_dims(data, axis=1), detectors)\n",
    "        aff = np.min(aff, axis=1)\n",
    "        aff_history.append(np.mean(aff))\n",
    "        \n",
    "        # Update random detectors to relocate to datapoint\n",
    "        to_update = np.where(aff > dat2det)[0][: detectors.shape[0]]\n",
    "        detectors[:to_update.shape[0]] = data[to_update, :]\n",
    "    \n",
    "    return detectors, aff_history"
   ]
  },
  {
   "cell_type": "code",
   "execution_count": 12,
   "id": "6f32a7b8",
   "metadata": {
    "execution": {
     "iopub.execute_input": "2024-03-02T03:45:13.864730Z",
     "iopub.status.busy": "2024-03-02T03:45:13.864386Z",
     "iopub.status.idle": "2024-03-02T03:45:59.445093Z",
     "shell.execute_reply": "2024-03-02T03:45:59.443035Z"
    },
    "papermill": {
     "duration": 45.59238,
     "end_time": "2024-03-02T03:45:59.448105",
     "exception": false,
     "start_time": "2024-03-02T03:45:13.855725",
     "status": "completed"
    },
    "tags": []
   },
   "outputs": [
    {
     "name": "stdout",
     "output_type": "stream",
     "text": [
      "..........................................................................."
     ]
    }
   ],
   "source": [
    "# Set hyperparameters\n",
    "NUM_DETECTORS = 100\n",
    "det2det = 1 * 10**6\n",
    "dat2det = 1 * 10**8\n",
    "max_iters = 25\n",
    "\n",
    "# Small Dataset\n",
    "init_vec = gen_rand_like((NUM_DETECTORS, small_ben_train.shape[-1]), small_ben_train)\n",
    "DETECTORS_S, aff_history = improve_detectors_opt(small_ben_train, init_vec, det2det, dat2det, max_iters)\n",
    "\n",
    "# Medium Dataset\n",
    "init_vec = gen_rand_like((NUM_DETECTORS, med_ben_train.shape[-1]), med_ben_train)\n",
    "DETECTORS_M, aff_history = improve_detectors_opt(med_ben_train, init_vec, det2det, dat2det, max_iters)\n",
    "\n",
    "# Large Dataset\n",
    "init_vec = gen_rand_like((NUM_DETECTORS, large_ben_train.shape[-1]), large_ben_train)\n",
    "DETECTORS_L, aff_history = improve_detectors_opt(large_ben_train, init_vec, det2det, dat2det, max_iters)"
   ]
  },
  {
   "cell_type": "code",
   "execution_count": 13,
   "id": "8dfc924d",
   "metadata": {
    "execution": {
     "iopub.execute_input": "2024-03-02T03:45:59.470911Z",
     "iopub.status.busy": "2024-03-02T03:45:59.470543Z",
     "iopub.status.idle": "2024-03-02T03:45:59.476946Z",
     "shell.execute_reply": "2024-03-02T03:45:59.475706Z"
    },
    "papermill": {
     "duration": 0.020794,
     "end_time": "2024-03-02T03:45:59.479687",
     "exception": false,
     "start_time": "2024-03-02T03:45:59.458893",
     "status": "completed"
    },
    "tags": []
   },
   "outputs": [],
   "source": [
    "# Set number of detectors, test data points and validation data points\n",
    "\n",
    "NUM_BENIGN = 1000\n",
    "NUM_VAL = 10000\n",
    "\n",
    "# Small Dataset\n",
    "BENIGN_TEST_S = small_ben_test[:NUM_BENIGN]\n",
    "ATTACK_TEST_S = small_att_test[:NUM_BENIGN*small_ratio_att_to_ben]\n",
    "\n",
    "# Medium Dataset\n",
    "BENIGN_TEST_M = med_ben_test[:NUM_BENIGN]\n",
    "ATTACK_TEST_M = med_att_test[:NUM_BENIGN*med_ratio_att_to_ben]\n",
    "\n",
    "# Large Dataset\n",
    "BENIGN_TEST_L = large_ben_test[:NUM_BENIGN]\n",
    "ATTACK_TEST_L = large_att_test[:NUM_BENIGN*large_ratio_att_to_ben]"
   ]
  },
  {
   "cell_type": "code",
   "execution_count": 14,
   "id": "0b89b03d",
   "metadata": {
    "execution": {
     "iopub.execute_input": "2024-03-02T03:45:59.504166Z",
     "iopub.status.busy": "2024-03-02T03:45:59.503809Z",
     "iopub.status.idle": "2024-03-02T03:45:59.728597Z",
     "shell.execute_reply": "2024-03-02T03:45:59.727741Z"
    },
    "papermill": {
     "duration": 0.240085,
     "end_time": "2024-03-02T03:45:59.730444",
     "exception": false,
     "start_time": "2024-03-02T03:45:59.490359",
     "status": "completed"
    },
    "tags": []
   },
   "outputs": [
    {
     "name": "stdout",
     "output_type": "stream",
     "text": [
      "[[ 4.89251975  1.40479982  5.36891253  1.80875071  8.00727335]\n",
      " [-4.88278142 -0.15830568  0.01076975 -0.07873116 -0.03413056]\n",
      " [-4.88278142  0.34706964  1.88565204  1.86067173  1.54081798]\n",
      " ...\n",
      " [-4.88278142  4.13670723  2.26400822  7.60558015  3.22920978]\n",
      " [ 4.89257082  0.27012998  5.3322957   0.48323755  5.26493872]\n",
      " [-4.88278142  2.95214505  5.48846425  4.06884227  4.44223833]]\n",
      "[[-0.0050718  -0.1666431  -0.31604226 -0.11843548 -0.24245708]\n",
      " [ 0.01090782 -0.16658025 -0.31604226 -0.11843548 -0.24245708]\n",
      " [-0.01116059 -0.16663226 -0.3159238  -0.11843548 -0.24222982]\n",
      " ...\n",
      " [ 0.00992159 -0.1666431  -0.31604226 -0.11843548 -0.24245708]\n",
      " [-0.00283458 -0.16676013 -0.4570232  -0.11843548 -0.26245643]\n",
      " [ 0.00814779 -0.16659975 -0.27905893 -0.11843548 -0.18245904]]\n"
     ]
    }
   ],
   "source": [
    "NUM_BENIGN_VAL = 1000\n",
    "\n",
    "fltr_ben = np.asarray([1.])\n",
    "fltr_att = np.asarray([0.])\n",
    "\n",
    "n_sm = small_val.shape[-1] - 1\n",
    "n_md = med_val.shape[-1] - 1\n",
    "n_lg = large_val.shape[-1] - 1\n",
    "\n",
    "val_ben_sm = np.delete(small_val[np.in1d(small_val[:,n_sm], fltr_ben)], n_sm, 1)[:NUM_BENIGN_VAL]\n",
    "val_att_sm = np.delete(small_val[np.in1d(small_val[:,n_sm], fltr_att)], n_sm, 1)[:NUM_BENIGN_VAL*small_val_ratio_att_to_ben]\n",
    "\n",
    "val_ben_md = np.delete(med_val[np.in1d(med_val[:,n_md], fltr_ben)], n_md, 1)[:NUM_BENIGN_VAL]\n",
    "val_att_md = np.delete(med_val[np.in1d(med_val[:,n_md], fltr_att)], n_md, 1)[:NUM_BENIGN_VAL*med_val_ratio_att_to_ben]\n",
    "\n",
    "val_ben_lg = np.delete(large_val[np.in1d(large_val[:,n_lg], fltr_ben)], n_lg, 1)[:NUM_BENIGN_VAL]\n",
    "val_att_lg = np.delete(large_val[np.in1d(large_val[:,n_lg], fltr_att)], n_lg, 1)[:NUM_BENIGN_VAL*large_val_ratio_att_to_ben]\n",
    "\n",
    "print(val_ben_sm)\n",
    "print(val_att_sm)"
   ]
  },
  {
   "cell_type": "markdown",
   "id": "ab510db8",
   "metadata": {
    "papermill": {
     "duration": 0.011454,
     "end_time": "2024-03-02T03:45:59.752512",
     "exception": false,
     "start_time": "2024-03-02T03:45:59.741058",
     "status": "completed"
    },
    "tags": []
   },
   "source": [
    "# P-R Curve and Optimal Radius Search"
   ]
  },
  {
   "cell_type": "code",
   "execution_count": 15,
   "id": "7cbebcb5",
   "metadata": {
    "execution": {
     "iopub.execute_input": "2024-03-02T03:45:59.775500Z",
     "iopub.status.busy": "2024-03-02T03:45:59.775135Z",
     "iopub.status.idle": "2024-03-02T03:45:59.783891Z",
     "shell.execute_reply": "2024-03-02T03:45:59.783003Z"
    },
    "papermill": {
     "duration": 0.023007,
     "end_time": "2024-03-02T03:45:59.786130",
     "exception": false,
     "start_time": "2024-03-02T03:45:59.763123",
     "status": "completed"
    },
    "tags": []
   },
   "outputs": [],
   "source": [
    "def nsa(r, detrs, ben, att):\n",
    "    \n",
    "    def affinity(v1 : np.ndarray, v2 : np.ndarray):\n",
    "        ''' Manhattan distance between vectors '''\n",
    "        return np.sum(np.abs(v1 - v2), axis=-1)\n",
    "\n",
    "    #True Positive: Self correctly classified\n",
    "    TP = 0\n",
    "    #False Positive: Non-Self incorrectly classified\n",
    "    FP = 0\n",
    "    #True Negative: Non-Self correctly classified\n",
    "    TN = 0\n",
    "    #False Negative: Self incorrectly classified\n",
    "    FN = 0\n",
    "\n",
    "    # Test benign data\n",
    "    for t in ben:\n",
    "        for i in range(0, len(detrs)-1):\n",
    "          aff = affinity(t, detrs[i])\n",
    "          if aff < r:\n",
    "            TP += 1\n",
    "            break\n",
    "    FN = len(ben) - TP\n",
    "\n",
    "    # Test attack data\n",
    "    for t in att:\n",
    "        for i in range(0, len(detrs)-1):\n",
    "          aff = affinity(t, detrs[i])\n",
    "          if aff < r:\n",
    "            FP += 1\n",
    "            break\n",
    "    TN = len(att) - FP\n",
    "\n",
    "    print(f\"Results for r = {r} | TN: {TN}, FP: {FP}, FN: {FN}, TP: {TP}\")\n",
    "\n",
    "    detection_rate = TN/(TN+FP)\n",
    "    false_alarm_rate = FN/(FN+TP)\n",
    "    \n",
    "    if (TP + FP) != 0.0:\n",
    "        precision = TP/(TP + FP)\n",
    "    if (TP + FP) == 0.0:\n",
    "        precision = 0\n",
    "    if (TP + FN) != 0.0:\n",
    "        recall = TP/(TP + FN)\n",
    "    if (TP + FN) == 0.0:\n",
    "        recall = 0\n",
    "\n",
    "    loss = 1 - (detection_rate - false_alarm_rate)\n",
    "\n",
    "    return loss, detection_rate, false_alarm_rate, precision, recall"
   ]
  },
  {
   "cell_type": "code",
   "execution_count": 16,
   "id": "abfadc75",
   "metadata": {
    "execution": {
     "iopub.execute_input": "2024-03-02T03:45:59.810601Z",
     "iopub.status.busy": "2024-03-02T03:45:59.810191Z",
     "iopub.status.idle": "2024-03-02T03:45:59.820956Z",
     "shell.execute_reply": "2024-03-02T03:45:59.819511Z"
    },
    "papermill": {
     "duration": 0.026009,
     "end_time": "2024-03-02T03:45:59.823280",
     "exception": false,
     "start_time": "2024-03-02T03:45:59.797271",
     "status": "completed"
    },
    "tags": []
   },
   "outputs": [],
   "source": [
    "def pr_curve(min_radius, max_radius, num_steps, detrs, ben, att):\n",
    "\n",
    "    # For radius-loss curve\n",
    "    r_values = np.linspace(min_radius,max_radius, num_steps)\n",
    "    loss_values = []\n",
    "\n",
    "    # For detection rate - false alarm rate curve\n",
    "    detection_rates = []\n",
    "    false_alarm_rates = []\n",
    "\n",
    "    # For PR curve\n",
    "    precisions = []\n",
    "    recalls = []\n",
    "\n",
    "    for r in r_values:\n",
    "        loss, detection_rate, false_alarm_rate, precision, recall = nsa(r, detrs, ben, att)\n",
    "        loss_values.append(loss)\n",
    "        detection_rates.append(detection_rate)\n",
    "        false_alarm_rates.append(false_alarm_rate)\n",
    "        precisions.append(precision)\n",
    "        recalls.append(recall)\n",
    "    \n",
    "    figure, axis = plt.subplots(1, 3, constrained_layout=True)\n",
    "    \n",
    "    # For radius-loss curve\n",
    "    axis[0].plot(r_values, loss_values) \n",
    "    axis[0].set_title(\"Loss Curve\")\n",
    "    axis[0].set_xlabel(\"Radius\")\n",
    "    axis[0].set_ylabel(\"Loss\")\n",
    "    \n",
    "    # For detection rate - false alarm rate curve\n",
    "    axis[1].plot(false_alarm_rates, detection_rates) \n",
    "    axis[1].set_title(\"Det. Rate - F. Alarm Rate\") \n",
    "    axis[1].set_xlabel(\"F. Alarm Rate\")\n",
    "    axis[1].set_ylabel(\"Det. Rate\")\n",
    "    \n",
    "    # For Precision Recall curve\n",
    "    axis[2].plot(recalls, precisions) \n",
    "    axis[2].set_title(\"P-R Curve\") \n",
    "    axis[2].set_xlabel(\"Recall\")\n",
    "    axis[2].set_ylabel(\"Precision\")\n",
    "    \n",
    "    axis[0].set_box_aspect(1)\n",
    "    axis[1].set_box_aspect(1)\n",
    "    axis[2].set_box_aspect(1)\n",
    "    \n",
    "    plt.show() \n",
    "    \n",
    "    optimal_radius = r_values[loss_values.index(min(loss_values))]\n",
    "    \n",
    "    sorted_indices = sorted(range(len(recalls)), key=lambda k: recalls[k])\n",
    "    precisions_ord = [precisions[i] for i in sorted_indices]\n",
    "    recalls_ord = [recalls[i] for i in sorted_indices]\n",
    "    \n",
    "    prauc = auc(recalls_ord, precisions_ord)\n",
    "        \n",
    "    return optimal_radius, prauc"
   ]
  },
  {
   "cell_type": "code",
   "execution_count": 17,
   "id": "2a690ba8",
   "metadata": {
    "execution": {
     "iopub.execute_input": "2024-03-02T03:45:59.845733Z",
     "iopub.status.busy": "2024-03-02T03:45:59.845380Z",
     "iopub.status.idle": "2024-03-02T03:45:59.850128Z",
     "shell.execute_reply": "2024-03-02T03:45:59.849055Z"
    },
    "papermill": {
     "duration": 0.01836,
     "end_time": "2024-03-02T03:45:59.851929",
     "exception": false,
     "start_time": "2024-03-02T03:45:59.833569",
     "status": "completed"
    },
    "tags": []
   },
   "outputs": [],
   "source": [
    "MIN_RADIUS = 0.001\n",
    "MAX_RADIUS = 70.0\n",
    "NUM_STEPS = 50"
   ]
  },
  {
   "cell_type": "code",
   "execution_count": 18,
   "id": "0d4b3d24",
   "metadata": {
    "execution": {
     "iopub.execute_input": "2024-03-02T03:45:59.875305Z",
     "iopub.status.busy": "2024-03-02T03:45:59.874144Z",
     "iopub.status.idle": "2024-03-02T03:51:06.651563Z",
     "shell.execute_reply": "2024-03-02T03:51:06.650060Z"
    },
    "papermill": {
     "duration": 306.791559,
     "end_time": "2024-03-02T03:51:06.654047",
     "exception": false,
     "start_time": "2024-03-02T03:45:59.862488",
     "status": "completed"
    },
    "tags": []
   },
   "outputs": [
    {
     "name": "stdout",
     "output_type": "stream",
     "text": [
      "Results for r = 0.001 | TN: 41000, FP: 0, FN: 1000, TP: 0\n",
      "Results for r = 1.429551020408163 | TN: 41000, FP: 0, FN: 1000, TP: 0\n",
      "Results for r = 2.858102040816326 | TN: 41000, FP: 0, FN: 999, TP: 1\n",
      "Results for r = 4.28665306122449 | TN: 40996, FP: 4, FN: 994, TP: 6\n",
      "Results for r = 5.715204081632653 | TN: 40985, FP: 15, FN: 975, TP: 25\n",
      "Results for r = 7.143755102040815 | TN: 40965, FP: 35, FN: 929, TP: 71\n",
      "Results for r = 8.572306122448978 | TN: 40912, FP: 88, FN: 821, TP: 179\n",
      "Results for r = 10.000857142857141 | TN: 40867, FP: 133, FN: 722, TP: 278\n",
      "Results for r = 11.429408163265304 | TN: 40783, FP: 217, FN: 631, TP: 369\n",
      "Results for r = 12.857959183673467 | TN: 40239, FP: 761, FN: 545, TP: 455\n",
      "Results for r = 14.28651020408163 | TN: 39227, FP: 1773, FN: 477, TP: 523\n",
      "Results for r = 15.715061224489792 | TN: 38065, FP: 2935, FN: 428, TP: 572\n",
      "Results for r = 17.14361224489796 | TN: 37138, FP: 3862, FN: 378, TP: 622\n",
      "Results for r = 18.57216326530612 | TN: 36127, FP: 4873, FN: 307, TP: 693\n",
      "Results for r = 20.000714285714285 | TN: 256, FP: 40744, FN: 222, TP: 778\n",
      "Results for r = 21.429265306122446 | TN: 205, FP: 40795, FN: 154, TP: 846\n",
      "Results for r = 22.85781632653061 | TN: 151, FP: 40849, FN: 77, TP: 923\n",
      "Results for r = 24.286367346938775 | TN: 27, FP: 40973, FN: 2, TP: 998\n",
      "Results for r = 25.714918367346936 | TN: 3, FP: 40997, FN: 0, TP: 1000\n",
      "Results for r = 27.1434693877551 | TN: 2, FP: 40998, FN: 0, TP: 1000\n",
      "Results for r = 28.57202040816326 | TN: 1, FP: 40999, FN: 0, TP: 1000\n",
      "Results for r = 30.000571428571426 | TN: 0, FP: 41000, FN: 0, TP: 1000\n",
      "Results for r = 31.429122448979587 | TN: 0, FP: 41000, FN: 0, TP: 1000\n",
      "Results for r = 32.85767346938775 | TN: 0, FP: 41000, FN: 0, TP: 1000\n",
      "Results for r = 34.28622448979591 | TN: 0, FP: 41000, FN: 0, TP: 1000\n",
      "Results for r = 35.71477551020408 | TN: 0, FP: 41000, FN: 0, TP: 1000\n",
      "Results for r = 37.143326530612235 | TN: 0, FP: 41000, FN: 0, TP: 1000\n",
      "Results for r = 38.5718775510204 | TN: 0, FP: 41000, FN: 0, TP: 1000\n",
      "Results for r = 40.000428571428564 | TN: 0, FP: 41000, FN: 0, TP: 1000\n",
      "Results for r = 41.42897959183673 | TN: 0, FP: 41000, FN: 0, TP: 1000\n",
      "Results for r = 42.85753061224489 | TN: 0, FP: 41000, FN: 0, TP: 1000\n",
      "Results for r = 44.28608163265305 | TN: 0, FP: 41000, FN: 0, TP: 1000\n",
      "Results for r = 45.714632653061216 | TN: 0, FP: 41000, FN: 0, TP: 1000\n",
      "Results for r = 47.14318367346938 | TN: 0, FP: 41000, FN: 0, TP: 1000\n",
      "Results for r = 48.571734693877545 | TN: 0, FP: 41000, FN: 0, TP: 1000\n",
      "Results for r = 50.0002857142857 | TN: 0, FP: 41000, FN: 0, TP: 1000\n",
      "Results for r = 51.42883673469387 | TN: 0, FP: 41000, FN: 0, TP: 1000\n",
      "Results for r = 52.85738775510203 | TN: 0, FP: 41000, FN: 0, TP: 1000\n",
      "Results for r = 54.285938775510196 | TN: 0, FP: 41000, FN: 0, TP: 1000\n",
      "Results for r = 55.714489795918354 | TN: 0, FP: 41000, FN: 0, TP: 1000\n",
      "Results for r = 57.14304081632652 | TN: 0, FP: 41000, FN: 0, TP: 1000\n",
      "Results for r = 58.57159183673468 | TN: 0, FP: 41000, FN: 0, TP: 1000\n",
      "Results for r = 60.00014285714285 | TN: 0, FP: 41000, FN: 0, TP: 1000\n",
      "Results for r = 61.42869387755101 | TN: 0, FP: 41000, FN: 0, TP: 1000\n",
      "Results for r = 62.85724489795917 | TN: 0, FP: 41000, FN: 0, TP: 1000\n",
      "Results for r = 64.28579591836734 | TN: 0, FP: 41000, FN: 0, TP: 1000\n",
      "Results for r = 65.7143469387755 | TN: 0, FP: 41000, FN: 0, TP: 1000\n",
      "Results for r = 67.14289795918367 | TN: 0, FP: 41000, FN: 0, TP: 1000\n",
      "Results for r = 68.57144897959184 | TN: 0, FP: 41000, FN: 0, TP: 1000\n",
      "Results for r = 70.0 | TN: 0, FP: 41000, FN: 0, TP: 1000\n"
     ]
    },
    {
     "data": {
      "image/png": "[encoded data removed]",
      "text/plain": [
       "<Figure size 640x480 with 3 Axes>"
      ]
     },
     "metadata": {},
     "output_type": "display_data"
    },
    {
     "name": "stdout",
     "output_type": "stream",
     "text": [
      "Optimal Radius for small dataset: 18.57216326530612\n",
      "PRAUC for small dataset: 0.3453008079256957\n"
     ]
    }
   ],
   "source": [
    "# Small Dataset\n",
    "best_radius_S, prauc_S = pr_curve(MIN_RADIUS, MAX_RADIUS, NUM_STEPS, DETECTORS_S, val_ben_sm, val_att_sm)\n",
    "print(f\"Optimal Radius for small dataset: {best_radius_S}\")\n",
    "print(f\"PRAUC for small dataset: {prauc_S}\")"
   ]
  },
  {
   "cell_type": "code",
   "execution_count": 19,
   "id": "8bcffb9e",
   "metadata": {
    "execution": {
     "iopub.execute_input": "2024-03-02T03:51:06.684863Z",
     "iopub.status.busy": "2024-03-02T03:51:06.684344Z",
     "iopub.status.idle": "2024-03-02T04:07:49.977095Z",
     "shell.execute_reply": "2024-03-02T04:07:49.976194Z"
    },
    "papermill": {
     "duration": 1003.311632,
     "end_time": "2024-03-02T04:07:49.979839",
     "exception": false,
     "start_time": "2024-03-02T03:51:06.668207",
     "status": "completed"
    },
    "tags": []
   },
   "outputs": [
    {
     "name": "stdout",
     "output_type": "stream",
     "text": [
      "Results for r = 0.001 | TN: 41000, FP: 0, FN: 1000, TP: 0\n",
      "Results for r = 1.429551020408163 | TN: 41000, FP: 0, FN: 1000, TP: 0\n",
      "Results for r = 2.858102040816326 | TN: 41000, FP: 0, FN: 1000, TP: 0\n",
      "Results for r = 4.28665306122449 | TN: 41000, FP: 0, FN: 1000, TP: 0\n",
      "Results for r = 5.715204081632653 | TN: 41000, FP: 0, FN: 1000, TP: 0\n",
      "Results for r = 7.143755102040815 | TN: 41000, FP: 0, FN: 1000, TP: 0\n",
      "Results for r = 8.572306122448978 | TN: 41000, FP: 0, FN: 1000, TP: 0\n",
      "Results for r = 10.000857142857141 | TN: 41000, FP: 0, FN: 1000, TP: 0\n",
      "Results for r = 11.429408163265304 | TN: 41000, FP: 0, FN: 1000, TP: 0\n",
      "Results for r = 12.857959183673467 | TN: 41000, FP: 0, FN: 1000, TP: 0\n",
      "Results for r = 14.28651020408163 | TN: 41000, FP: 0, FN: 1000, TP: 0\n",
      "Results for r = 15.715061224489792 | TN: 41000, FP: 0, FN: 1000, TP: 0\n",
      "Results for r = 17.14361224489796 | TN: 41000, FP: 0, FN: 1000, TP: 0\n",
      "Results for r = 18.57216326530612 | TN: 41000, FP: 0, FN: 1000, TP: 0\n",
      "Results for r = 20.000714285714285 | TN: 41000, FP: 0, FN: 1000, TP: 0\n",
      "Results for r = 21.429265306122446 | TN: 41000, FP: 0, FN: 1000, TP: 0\n",
      "Results for r = 22.85781632653061 | TN: 41000, FP: 0, FN: 1000, TP: 0\n",
      "Results for r = 24.286367346938775 | TN: 41000, FP: 0, FN: 1000, TP: 0\n",
      "Results for r = 25.714918367346936 | TN: 41000, FP: 0, FN: 1000, TP: 0\n",
      "Results for r = 27.1434693877551 | TN: 41000, FP: 0, FN: 1000, TP: 0\n",
      "Results for r = 28.57202040816326 | TN: 41000, FP: 0, FN: 1000, TP: 0\n",
      "Results for r = 30.000571428571426 | TN: 41000, FP: 0, FN: 1000, TP: 0\n",
      "Results for r = 31.429122448979587 | TN: 41000, FP: 0, FN: 1000, TP: 0\n",
      "Results for r = 32.85767346938775 | TN: 41000, FP: 0, FN: 1000, TP: 0\n",
      "Results for r = 34.28622448979591 | TN: 41000, FP: 0, FN: 1000, TP: 0\n",
      "Results for r = 35.71477551020408 | TN: 41000, FP: 0, FN: 1000, TP: 0\n",
      "Results for r = 37.143326530612235 | TN: 41000, FP: 0, FN: 1000, TP: 0\n",
      "Results for r = 38.5718775510204 | TN: 41000, FP: 0, FN: 1000, TP: 0\n",
      "Results for r = 40.000428571428564 | TN: 41000, FP: 0, FN: 1000, TP: 0\n",
      "Results for r = 41.42897959183673 | TN: 41000, FP: 0, FN: 1000, TP: 0\n",
      "Results for r = 42.85753061224489 | TN: 41000, FP: 0, FN: 1000, TP: 0\n",
      "Results for r = 44.28608163265305 | TN: 41000, FP: 0, FN: 1000, TP: 0\n",
      "Results for r = 45.714632653061216 | TN: 41000, FP: 0, FN: 1000, TP: 0\n",
      "Results for r = 47.14318367346938 | TN: 41000, FP: 0, FN: 1000, TP: 0\n",
      "Results for r = 48.571734693877545 | TN: 41000, FP: 0, FN: 1000, TP: 0\n",
      "Results for r = 50.0002857142857 | TN: 41000, FP: 0, FN: 1000, TP: 0\n",
      "Results for r = 51.42883673469387 | TN: 41000, FP: 0, FN: 1000, TP: 0\n",
      "Results for r = 52.85738775510203 | TN: 41000, FP: 0, FN: 1000, TP: 0\n",
      "Results for r = 54.285938775510196 | TN: 41000, FP: 0, FN: 1000, TP: 0\n",
      "Results for r = 55.714489795918354 | TN: 41000, FP: 0, FN: 1000, TP: 0\n",
      "Results for r = 57.14304081632652 | TN: 41000, FP: 0, FN: 1000, TP: 0\n",
      "Results for r = 58.57159183673468 | TN: 41000, FP: 0, FN: 1000, TP: 0\n",
      "Results for r = 60.00014285714285 | TN: 41000, FP: 0, FN: 1000, TP: 0\n",
      "Results for r = 61.42869387755101 | TN: 41000, FP: 0, FN: 1000, TP: 0\n",
      "Results for r = 62.85724489795917 | TN: 41000, FP: 0, FN: 1000, TP: 0\n",
      "Results for r = 64.28579591836734 | TN: 41000, FP: 0, FN: 1000, TP: 0\n",
      "Results for r = 65.7143469387755 | TN: 41000, FP: 0, FN: 1000, TP: 0\n",
      "Results for r = 67.14289795918367 | TN: 41000, FP: 0, FN: 1000, TP: 0\n",
      "Results for r = 68.57144897959184 | TN: 41000, FP: 0, FN: 1000, TP: 0\n",
      "Results for r = 70.0 | TN: 41000, FP: 0, FN: 1000, TP: 0\n"
     ]
    },
    {
     "data": {
      "image/png": "[encoded data removed]",
      "text/plain": [
       "<Figure size 640x480 with 3 Axes>"
      ]
     },
     "metadata": {},
     "output_type": "display_data"
    },
    {
     "name": "stdout",
     "output_type": "stream",
     "text": [
      "Optimal Radius for medium dataset: 0.001\n",
      "PRAUC for medium dataset: 0.0\n"
     ]
    }
   ],
   "source": [
    "# Medium Dataset\n",
    "best_radius_M, prauc_M = pr_curve(MIN_RADIUS, MAX_RADIUS, NUM_STEPS, DETECTORS_M, val_ben_md, val_att_md)\n",
    "print(f\"Optimal Radius for medium dataset: {best_radius_M}\")\n",
    "print(f\"PRAUC for medium dataset: {prauc_M}\")"
   ]
  },
  {
   "cell_type": "code",
   "execution_count": 20,
   "id": "521c548b",
   "metadata": {
    "execution": {
     "iopub.execute_input": "2024-03-02T04:07:50.016145Z",
     "iopub.status.busy": "2024-03-02T04:07:50.015770Z",
     "iopub.status.idle": "2024-03-02T04:24:40.502437Z",
     "shell.execute_reply": "2024-03-02T04:24:40.500509Z"
    },
    "papermill": {
     "duration": 1010.508122,
     "end_time": "2024-03-02T04:24:40.505402",
     "exception": false,
     "start_time": "2024-03-02T04:07:49.997280",
     "status": "completed"
    },
    "tags": []
   },
   "outputs": [
    {
     "name": "stdout",
     "output_type": "stream",
     "text": [
      "Results for r = 0.001 | TN: 41000, FP: 0, FN: 1000, TP: 0\n",
      "Results for r = 1.429551020408163 | TN: 41000, FP: 0, FN: 1000, TP: 0\n",
      "Results for r = 2.858102040816326 | TN: 41000, FP: 0, FN: 1000, TP: 0\n",
      "Results for r = 4.28665306122449 | TN: 41000, FP: 0, FN: 1000, TP: 0\n",
      "Results for r = 5.715204081632653 | TN: 41000, FP: 0, FN: 1000, TP: 0\n",
      "Results for r = 7.143755102040815 | TN: 41000, FP: 0, FN: 1000, TP: 0\n",
      "Results for r = 8.572306122448978 | TN: 41000, FP: 0, FN: 1000, TP: 0\n",
      "Results for r = 10.000857142857141 | TN: 41000, FP: 0, FN: 1000, TP: 0\n",
      "Results for r = 11.429408163265304 | TN: 41000, FP: 0, FN: 1000, TP: 0\n",
      "Results for r = 12.857959183673467 | TN: 41000, FP: 0, FN: 1000, TP: 0\n",
      "Results for r = 14.28651020408163 | TN: 41000, FP: 0, FN: 1000, TP: 0\n",
      "Results for r = 15.715061224489792 | TN: 41000, FP: 0, FN: 1000, TP: 0\n",
      "Results for r = 17.14361224489796 | TN: 41000, FP: 0, FN: 1000, TP: 0\n",
      "Results for r = 18.57216326530612 | TN: 41000, FP: 0, FN: 1000, TP: 0\n",
      "Results for r = 20.000714285714285 | TN: 41000, FP: 0, FN: 1000, TP: 0\n",
      "Results for r = 21.429265306122446 | TN: 41000, FP: 0, FN: 1000, TP: 0\n",
      "Results for r = 22.85781632653061 | TN: 41000, FP: 0, FN: 1000, TP: 0\n",
      "Results for r = 24.286367346938775 | TN: 41000, FP: 0, FN: 1000, TP: 0\n",
      "Results for r = 25.714918367346936 | TN: 41000, FP: 0, FN: 1000, TP: 0\n",
      "Results for r = 27.1434693877551 | TN: 41000, FP: 0, FN: 1000, TP: 0\n",
      "Results for r = 28.57202040816326 | TN: 41000, FP: 0, FN: 1000, TP: 0\n",
      "Results for r = 30.000571428571426 | TN: 41000, FP: 0, FN: 1000, TP: 0\n",
      "Results for r = 31.429122448979587 | TN: 41000, FP: 0, FN: 1000, TP: 0\n",
      "Results for r = 32.85767346938775 | TN: 41000, FP: 0, FN: 1000, TP: 0\n",
      "Results for r = 34.28622448979591 | TN: 41000, FP: 0, FN: 1000, TP: 0\n",
      "Results for r = 35.71477551020408 | TN: 41000, FP: 0, FN: 1000, TP: 0\n",
      "Results for r = 37.143326530612235 | TN: 41000, FP: 0, FN: 1000, TP: 0\n",
      "Results for r = 38.5718775510204 | TN: 41000, FP: 0, FN: 1000, TP: 0\n",
      "Results for r = 40.000428571428564 | TN: 41000, FP: 0, FN: 1000, TP: 0\n",
      "Results for r = 41.42897959183673 | TN: 41000, FP: 0, FN: 1000, TP: 0\n",
      "Results for r = 42.85753061224489 | TN: 41000, FP: 0, FN: 1000, TP: 0\n",
      "Results for r = 44.28608163265305 | TN: 41000, FP: 0, FN: 1000, TP: 0\n",
      "Results for r = 45.714632653061216 | TN: 41000, FP: 0, FN: 1000, TP: 0\n",
      "Results for r = 47.14318367346938 | TN: 41000, FP: 0, FN: 1000, TP: 0\n",
      "Results for r = 48.571734693877545 | TN: 41000, FP: 0, FN: 1000, TP: 0\n",
      "Results for r = 50.0002857142857 | TN: 41000, FP: 0, FN: 1000, TP: 0\n",
      "Results for r = 51.42883673469387 | TN: 41000, FP: 0, FN: 1000, TP: 0\n",
      "Results for r = 52.85738775510203 | TN: 41000, FP: 0, FN: 1000, TP: 0\n",
      "Results for r = 54.285938775510196 | TN: 41000, FP: 0, FN: 1000, TP: 0\n",
      "Results for r = 55.714489795918354 | TN: 41000, FP: 0, FN: 1000, TP: 0\n",
      "Results for r = 57.14304081632652 | TN: 41000, FP: 0, FN: 1000, TP: 0\n",
      "Results for r = 58.57159183673468 | TN: 41000, FP: 0, FN: 1000, TP: 0\n",
      "Results for r = 60.00014285714285 | TN: 41000, FP: 0, FN: 1000, TP: 0\n",
      "Results for r = 61.42869387755101 | TN: 41000, FP: 0, FN: 1000, TP: 0\n",
      "Results for r = 62.85724489795917 | TN: 41000, FP: 0, FN: 1000, TP: 0\n",
      "Results for r = 64.28579591836734 | TN: 41000, FP: 0, FN: 1000, TP: 0\n",
      "Results for r = 65.7143469387755 | TN: 41000, FP: 0, FN: 1000, TP: 0\n",
      "Results for r = 67.14289795918367 | TN: 41000, FP: 0, FN: 1000, TP: 0\n",
      "Results for r = 68.57144897959184 | TN: 41000, FP: 0, FN: 1000, TP: 0\n",
      "Results for r = 70.0 | TN: 41000, FP: 0, FN: 1000, TP: 0\n"
     ]
    },
    {
     "data": {
      "image/png": "[encoded data removed]",
      "text/plain": [
       "<Figure size 640x480 with 3 Axes>"
      ]
     },
     "metadata": {},
     "output_type": "display_data"
    },
    {
     "name": "stdout",
     "output_type": "stream",
     "text": [
      "Optimal Radius for large dataset: 0.001\n",
      "PRAUC for large dataset: 0.0\n"
     ]
    }
   ],
   "source": [
    "# Large Dataset\n",
    "best_radius_L, prauc_L = pr_curve(MIN_RADIUS, MAX_RADIUS, NUM_STEPS, DETECTORS_L, val_ben_lg, val_att_lg)\n",
    "print(f\"Optimal Radius for large dataset: {best_radius_L}\")\n",
    "print(f\"PRAUC for large dataset: {prauc_L}\")"
   ]
  },
  {
   "cell_type": "markdown",
   "id": "addca99f",
   "metadata": {
    "papermill": {
     "duration": 0.020793,
     "end_time": "2024-03-02T04:24:40.547417",
     "exception": false,
     "start_time": "2024-03-02T04:24:40.526624",
     "status": "completed"
    },
    "tags": []
   },
   "source": [
    "# Evaluation Function"
   ]
  },
  {
   "cell_type": "code",
   "execution_count": 21,
   "id": "9b09436b",
   "metadata": {
    "execution": {
     "iopub.execute_input": "2024-03-02T04:24:40.590747Z",
     "iopub.status.busy": "2024-03-02T04:24:40.590401Z",
     "iopub.status.idle": "2024-03-02T04:24:40.602693Z",
     "shell.execute_reply": "2024-03-02T04:24:40.601285Z"
    },
    "papermill": {
     "duration": 0.037408,
     "end_time": "2024-03-02T04:24:40.605675",
     "exception": false,
     "start_time": "2024-03-02T04:24:40.568267",
     "status": "completed"
    },
    "tags": []
   },
   "outputs": [],
   "source": [
    "def evaluate(optimal_radius, detrs, att_test, ben_test):\n",
    "    \n",
    "    def affinity(v1 : np.ndarray, v2 : np.ndarray):\n",
    "        ''' Manhattan distance between vectors '''\n",
    "        return np.sum(np.abs(v1 - v2), axis=-1)\n",
    "    \n",
    "    y_attack_labels = np.zeros((1, len(att_test)), dtype=np.int8)\n",
    "    #print(y_attack_labels.shape)\n",
    "    y_ben_labels = np.ones((1, len(ben_test)), dtype=np.int8)\n",
    "    #print(y_ben_labels.shape)\n",
    "    y_test = np.concatenate((y_attack_labels, y_ben_labels), axis=1)[0]\n",
    "    #print(y_test.shape)\n",
    "\n",
    "    pred = []\n",
    "    done = False\n",
    "\n",
    "    for inst in att_test:\n",
    "        done = False\n",
    "        for i in range(0, len(detrs)-1):\n",
    "              aff = affinity(inst, detrs[i])\n",
    "              if aff < optimal_radius:\n",
    "                pred.append(1) # Predicted benign\n",
    "                done = True\n",
    "                break\n",
    "        if not done:\n",
    "            pred.append(0) # Predicted attack\n",
    "\n",
    "    done = False\n",
    "    for inst in ben_test:\n",
    "        done = False\n",
    "        for i in range(0, len(detrs)-1):\n",
    "              aff = affinity(inst, detrs[i])\n",
    "              if aff < optimal_radius:\n",
    "                pred.append(1) # Predicted benign\n",
    "                done = True\n",
    "                break\n",
    "        if not done:\n",
    "            pred.append(0) # Predicted attack\n",
    "\n",
    "    y_pred = np.asarray(pred, dtype=np.int8)\n",
    "\n",
    "    print(classification_report(y_test, y_pred, digits = 3, target_names = [\"attack\", \"benign\"]))"
   ]
  },
  {
   "cell_type": "code",
   "execution_count": 22,
   "id": "ce7cd08f",
   "metadata": {
    "execution": {
     "iopub.execute_input": "2024-03-02T04:24:40.651214Z",
     "iopub.status.busy": "2024-03-02T04:24:40.650873Z",
     "iopub.status.idle": "2024-03-02T04:25:00.374145Z",
     "shell.execute_reply": "2024-03-02T04:25:00.372536Z"
    },
    "papermill": {
     "duration": 19.749562,
     "end_time": "2024-03-02T04:25:00.376881",
     "exception": false,
     "start_time": "2024-03-02T04:24:40.627319",
     "status": "completed"
    },
    "tags": []
   },
   "outputs": [
    {
     "name": "stdout",
     "output_type": "stream",
     "text": [
      "              precision    recall  f1-score   support\n",
      "\n",
      "      attack      0.992     0.882     0.934     41000\n",
      "      benign      0.129     0.715     0.218      1000\n",
      "\n",
      "    accuracy                          0.878     42000\n",
      "   macro avg      0.560     0.798     0.576     42000\n",
      "weighted avg      0.972     0.878     0.917     42000\n",
      "\n"
     ]
    }
   ],
   "source": [
    "# Small Dataset\n",
    "evaluate(best_radius_S, DETECTORS_S, ATTACK_TEST_S, BENIGN_TEST_S)"
   ]
  },
  {
   "cell_type": "code",
   "execution_count": 23,
   "id": "4f04d829",
   "metadata": {
    "execution": {
     "iopub.execute_input": "2024-03-02T04:25:00.422269Z",
     "iopub.status.busy": "2024-03-02T04:25:00.421654Z",
     "iopub.status.idle": "2024-03-02T04:25:22.144311Z",
     "shell.execute_reply": "2024-03-02T04:25:22.142463Z"
    },
    "papermill": {
     "duration": 21.747885,
     "end_time": "2024-03-02T04:25:22.146485",
     "exception": false,
     "start_time": "2024-03-02T04:25:00.398600",
     "status": "completed"
    },
    "tags": []
   },
   "outputs": [
    {
     "name": "stdout",
     "output_type": "stream",
     "text": [
      "              precision    recall  f1-score   support\n",
      "\n",
      "      attack      0.976     1.000     0.988     41000\n",
      "      benign      0.000     0.000     0.000      1000\n",
      "\n",
      "    accuracy                          0.976     42000\n",
      "   macro avg      0.488     0.500     0.494     42000\n",
      "weighted avg      0.953     0.976     0.964     42000\n",
      "\n"
     ]
    },
    {
     "name": "stderr",
     "output_type": "stream",
     "text": [
      "/opt/conda/lib/python3.10/site-packages/sklearn/metrics/_classification.py:1344: UndefinedMetricWarning: Precision and F-score are ill-defined and being set to 0.0 in labels with no predicted samples. Use `zero_division` parameter to control this behavior.\n",
      "  _warn_prf(average, modifier, msg_start, len(result))\n",
      "/opt/conda/lib/python3.10/site-packages/sklearn/metrics/_classification.py:1344: UndefinedMetricWarning: Precision and F-score are ill-defined and being set to 0.0 in labels with no predicted samples. Use `zero_division` parameter to control this behavior.\n",
      "  _warn_prf(average, modifier, msg_start, len(result))\n",
      "/opt/conda/lib/python3.10/site-packages/sklearn/metrics/_classification.py:1344: UndefinedMetricWarning: Precision and F-score are ill-defined and being set to 0.0 in labels with no predicted samples. Use `zero_division` parameter to control this behavior.\n",
      "  _warn_prf(average, modifier, msg_start, len(result))\n"
     ]
    }
   ],
   "source": [
    "# Medium Dataset\n",
    "evaluate(best_radius_M, DETECTORS_M, ATTACK_TEST_M, BENIGN_TEST_M)"
   ]
  },
  {
   "cell_type": "code",
   "execution_count": 24,
   "id": "42a92513",
   "metadata": {
    "execution": {
     "iopub.execute_input": "2024-03-02T04:25:22.191178Z",
     "iopub.status.busy": "2024-03-02T04:25:22.190847Z",
     "iopub.status.idle": "2024-03-02T04:25:44.431899Z",
     "shell.execute_reply": "2024-03-02T04:25:44.430121Z"
    },
    "papermill": {
     "duration": 22.266165,
     "end_time": "2024-03-02T04:25:44.434293",
     "exception": false,
     "start_time": "2024-03-02T04:25:22.168128",
     "status": "completed"
    },
    "tags": []
   },
   "outputs": [
    {
     "name": "stdout",
     "output_type": "stream",
     "text": [
      "              precision    recall  f1-score   support\n",
      "\n",
      "      attack      0.976     1.000     0.988     41000\n",
      "      benign      0.000     0.000     0.000      1000\n",
      "\n",
      "    accuracy                          0.976     42000\n",
      "   macro avg      0.488     0.500     0.494     42000\n",
      "weighted avg      0.953     0.976     0.964     42000\n",
      "\n"
     ]
    },
    {
     "name": "stderr",
     "output_type": "stream",
     "text": [
      "/opt/conda/lib/python3.10/site-packages/sklearn/metrics/_classification.py:1344: UndefinedMetricWarning: Precision and F-score are ill-defined and being set to 0.0 in labels with no predicted samples. Use `zero_division` parameter to control this behavior.\n",
      "  _warn_prf(average, modifier, msg_start, len(result))\n",
      "/opt/conda/lib/python3.10/site-packages/sklearn/metrics/_classification.py:1344: UndefinedMetricWarning: Precision and F-score are ill-defined and being set to 0.0 in labels with no predicted samples. Use `zero_division` parameter to control this behavior.\n",
      "  _warn_prf(average, modifier, msg_start, len(result))\n",
      "/opt/conda/lib/python3.10/site-packages/sklearn/metrics/_classification.py:1344: UndefinedMetricWarning: Precision and F-score are ill-defined and being set to 0.0 in labels with no predicted samples. Use `zero_division` parameter to control this behavior.\n",
      "  _warn_prf(average, modifier, msg_start, len(result))\n"
     ]
    }
   ],
   "source": [
    "# Large Dataset\n",
    "evaluate(best_radius_L, DETECTORS_L, ATTACK_TEST_L, BENIGN_TEST_L)"
   ]
  },
  {
   "cell_type": "markdown",
   "id": "db488988",
   "metadata": {
    "papermill": {
     "duration": 0.02074,
     "end_time": "2024-03-02T04:25:44.476695",
     "exception": false,
     "start_time": "2024-03-02T04:25:44.455955",
     "status": "completed"
    },
    "tags": []
   },
   "source": [
    "# Export Detectors"
   ]
  },
  {
   "cell_type": "code",
   "execution_count": 25,
   "id": "75551e87",
   "metadata": {
    "execution": {
     "iopub.execute_input": "2024-03-02T04:25:44.520685Z",
     "iopub.status.busy": "2024-03-02T04:25:44.520331Z",
     "iopub.status.idle": "2024-03-02T04:25:44.536727Z",
     "shell.execute_reply": "2024-03-02T04:25:44.535037Z"
    },
    "papermill": {
     "duration": 0.041767,
     "end_time": "2024-03-02T04:25:44.539565",
     "exception": false,
     "start_time": "2024-03-02T04:25:44.497798",
     "status": "completed"
    },
    "tags": []
   },
   "outputs": [],
   "source": [
    "#Get rid of [] in the txt file before copying to cpp file\n",
    "\n",
    "# Small Dataset\n",
    "interm_S = [list(n) for n in DETECTORS_S]\n",
    "out_S = repr(list(itertools.chain.from_iterable(interm_S)))\n",
    "with open(\"detectors_S.txt\", \"w\") as f:\n",
    "    f.write(out_S)\n",
    "    \n",
    "# Medium Dataset\n",
    "interm_M = [list(n) for n in DETECTORS_M]\n",
    "out_M = repr(list(itertools.chain.from_iterable(interm_M)))\n",
    "with open(\"detectors_M.txt\", \"w\") as f:\n",
    "    f.write(out_M)\n",
    "\n",
    "# Large Dataset\n",
    "interm_L = [list(n) for n in DETECTORS_L]\n",
    "out_L = repr(list(itertools.chain.from_iterable(interm_L)))\n",
    "with open(\"detectors_L.txt\", \"w\") as f:\n",
    "    f.write(out_L)"
   ]
  }
 ],
 "metadata": {
  "kaggle": {
   "accelerator": "none",
   "dataSources": [
    {
     "sourceId": 163150315,
     "sourceType": "kernelVersion"
    },
    {
     "sourceId": 163506803,
     "sourceType": "kernelVersion"
    }
   ],
   "dockerImageVersionId": 30664,
   "isGpuEnabled": false,
   "isInternetEnabled": true,
   "language": "python",
   "sourceType": "notebook"
  },
  "kernelspec": {
   "display_name": "Python 3",
   "language": "python",
   "name": "python3"
  },
  "language_info": {
   "codemirror_mode": {
    "name": "ipython",
    "version": 3
   },
   "file_extension": ".py",
   "mimetype": "text/x-python",
   "name": "python",
   "nbconvert_exporter": "python",
   "pygments_lexer": "ipython3",
   "version": "3.10.13"
  },
  "papermill": {
   "default_parameters": {},
   "duration": 2505.787914,
   "end_time": "2024-03-02T04:25:45.489411",
   "environment_variables": {},
   "exception": null,
   "input_path": "__notebook__.ipynb",
   "output_path": "__notebook__.ipynb",
   "parameters": {},
   "start_time": "2024-03-02T03:43:59.701497",
   "version": "2.5.0"
  }
 },
 "nbformat": 4,
 "nbformat_minor": 5
}
