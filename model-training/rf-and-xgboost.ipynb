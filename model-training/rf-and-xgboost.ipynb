{
 "cells": [
  {
   "cell_type": "code",
   "execution_count": 1,
   "id": "c0ad4725",
   "metadata": {
    "_cell_guid": "b1076dfc-b9ad-4769-8c92-a6c4dae69d19",
    "_uuid": "8f2839f25d086af736a60e9eeb907d3b93b6e0e5",
    "execution": {
     "iopub.execute_input": "2024-02-29T00:21:01.175792Z",
     "iopub.status.busy": "2024-02-29T00:21:01.175410Z",
     "iopub.status.idle": "2024-02-29T00:21:05.594441Z",
     "shell.execute_reply": "2024-02-29T00:21:05.593272Z"
    },
    "papermill": {
     "duration": 4.428748,
     "end_time": "2024-02-29T00:21:05.597086",
     "exception": false,
     "start_time": "2024-02-29T00:21:01.168338",
     "status": "completed"
    },
    "tags": []
   },
   "outputs": [],
   "source": [
    "import numpy as np\n",
    "import pandas as pd\n",
    "import xgboost as xgb\n",
    "\n",
    "from numpy.random import RandomState, default_rng\n",
    "\n",
    "from sklearn.preprocessing import StandardScaler, LabelEncoder\n",
    "from sklearn.model_selection import train_test_split\n",
    "from sklearn.metrics import auc, precision_recall_curve, PrecisionRecallDisplay, classification_report\n",
    "from sklearn.ensemble import RandomForestClassifier\n",
    "\n",
    "from hyperopt import hp, fmin, STATUS_OK, tpe\n",
    "\n",
    "## CONSTANTS ##\n",
    "\n",
    "# For XGBoost, the output code size is only affected by the first two constants\n",
    "NUM_ESTIMATORS = 20 # Number of trees\n",
    "MAX_DEPTH = 7 # (Roughly) size of each tree\n",
    "MAX_EVAL = 100\n",
    "RAND_SEED = 42"
   ]
  },
  {
   "cell_type": "markdown",
   "id": "1b0d9ed2",
   "metadata": {
    "papermill": {
     "duration": 0.004696,
     "end_time": "2024-02-29T00:21:05.607103",
     "exception": false,
     "start_time": "2024-02-29T00:21:05.602407",
     "status": "completed"
    },
    "tags": []
   },
   "source": [
    "We first load in the large, medium, and small datasets then filter by the respective column sets"
   ]
  },
  {
   "cell_type": "code",
   "execution_count": 2,
   "id": "b45a6d6f",
   "metadata": {
    "execution": {
     "iopub.execute_input": "2024-02-29T00:21:05.619513Z",
     "iopub.status.busy": "2024-02-29T00:21:05.618643Z",
     "iopub.status.idle": "2024-02-29T00:22:06.752689Z",
     "shell.execute_reply": "2024-02-29T00:22:06.751450Z"
    },
    "papermill": {
     "duration": 61.150301,
     "end_time": "2024-02-29T00:22:06.762387",
     "exception": false,
     "start_time": "2024-02-29T00:21:05.612086",
     "status": "completed"
    },
    "tags": []
   },
   "outputs": [
    {
     "name": "stdout",
     "output_type": "stream",
     "text": [
      "4668665\n",
      "2334325\n",
      "466869\n"
     ]
    }
   ],
   "source": [
    "def filter_columns(columns, df):\n",
    "    column_names = columns[\"Feature\"].tolist()\n",
    "    return df[column_names + [\"benign\"]]\n",
    "\n",
    "cols = {\n",
    "    \"df10\": pd.read_csv(\"/kaggle/input/feature-importance-study-on-the-ciciot2023-export/topall.csv\"),\n",
    "    \"df1\": pd.read_csv(\"/kaggle/input/feature-importance-study-on-the-ciciot2023-export/top24.csv\"),\n",
    "    \"df01\": pd.read_csv(\"/kaggle/input/feature-importance-study-on-the-ciciot2023-export/top5.csv\")\n",
    "}\n",
    "\n",
    "dfs = {\n",
    "  \"df10\": filter_columns(cols[\"df10\"], pd.read_csv(\"/kaggle/input/k/yenzeinkok/creating-a-smaller-dataset-for-ciciot2023/0.1percent_2classes.csv\")),\n",
    "  \"df1\": filter_columns(cols[\"df1\"], pd.read_csv(\"/kaggle/input/k/yenzeinkok/creating-a-smaller-dataset-for-ciciot2023/0.05percent_2classes.csv\")),\n",
    "  \"df01\": filter_columns(cols[\"df01\"], pd.read_csv(\"/kaggle/input/k/yenzeinkok/creating-a-smaller-dataset-for-ciciot2023/0.01percent_2classes.csv\")),\n",
    "}\n",
    "\n",
    "val_dfs = {\n",
    "  \"df10\": filter_columns(cols[\"df10\"], pd.read_csv(\"/kaggle/input/k/yenzeinkok/creating-a-smaller-dataset-for-ciciot2023/0.01percent_validation_2classes.csv\")),\n",
    "  \"df1\": filter_columns(cols[\"df1\"], pd.read_csv(\"/kaggle/input/k/yenzeinkok/creating-a-smaller-dataset-for-ciciot2023/0.01percent_validation_2classes.csv\")),\n",
    "  \"df01\": filter_columns(cols[\"df01\"], pd.read_csv(\"/kaggle/input/k/yenzeinkok/creating-a-smaller-dataset-for-ciciot2023/0.01percent_validation_2classes.csv\")),\n",
    "}\n",
    "\n",
    "print(len(dfs[\"df10\"].index))\n",
    "print(len(dfs[\"df1\"].index))\n",
    "print(len(dfs[\"df01\"].index))"
   ]
  },
  {
   "cell_type": "markdown",
   "id": "7cf76865",
   "metadata": {
    "papermill": {
     "duration": 0.004978,
     "end_time": "2024-02-29T00:22:06.774225",
     "exception": false,
     "start_time": "2024-02-29T00:22:06.769247",
     "status": "completed"
    },
    "tags": []
   },
   "source": [
    "# Processing Dataset\n",
    "\n",
    "Normalize the dataset and split it into Train - Test - Validation splits.\n",
    "The chosen proportion is: 70 - 20 - 10 respectively."
   ]
  },
  {
   "cell_type": "code",
   "execution_count": 3,
   "id": "2fcdb4a4",
   "metadata": {
    "execution": {
     "iopub.execute_input": "2024-02-29T00:22:06.786467Z",
     "iopub.status.busy": "2024-02-29T00:22:06.786065Z",
     "iopub.status.idle": "2024-02-29T00:22:06.798116Z",
     "shell.execute_reply": "2024-02-29T00:22:06.796797Z"
    },
    "papermill": {
     "duration": 0.021718,
     "end_time": "2024-02-29T00:22:06.801205",
     "exception": false,
     "start_time": "2024-02-29T00:22:06.779487",
     "status": "completed"
    },
    "tags": []
   },
   "outputs": [],
   "source": [
    "# Convert to reduced space dtypes to save data\n",
    "dtypes = {\n",
    "        'flow_duration': np.float32,\n",
    "        'header_length': np.uint32,\n",
    "        'duration': np.float32,\n",
    "        'rate': np.uint32,\n",
    "        'srate': np.uint32,\n",
    "        'drate': np.float32,\n",
    "        'fin_flag_number': np.float32,\n",
    "        'syn_flag_number': np.float32,\n",
    "        'rst_flag_number': np.float32,\n",
    "        'psh_flag_number': np.float32,\n",
    "        'ack_flag_number': np.float32,\n",
    "        'ece_flag_number': np.float32,\n",
    "        'cwr_flag_number': np.float32,\n",
    "        'ack_count': np.float32,\n",
    "        'syn_count': np.float32,\n",
    "        'fin_count': np.float32,\n",
    "        'urg_count': np.float32, \n",
    "        'rst_count': np.float32,\n",
    "        'tot_sum': np.float32, \n",
    "        'min': np.float32, \n",
    "        'max': np.float32, \n",
    "        'avg': np.float32, \n",
    "        'std': np.float32, \n",
    "        'tot_size': np.float32, \n",
    "        'iat': np.float32, \n",
    "        'number': np.float32,\n",
    "        'magnitude': np.float32, \n",
    "        'radius': np.float32, \n",
    "        'covariance': np.float32, \n",
    "        'variance': np.float32, \n",
    "        'weight': np.float32, \n",
    "        'benign': np.float32,\n",
    "    }\n",
    "\n",
    "def preprocess(df):\n",
    "    if (\"protocol_type\" in df.columns):\n",
    "        df = df.drop(\"protocol_type\", axis=1)\n",
    "    scaler = StandardScaler()\n",
    "    scaled_df = pd.DataFrame(scaler.fit_transform(df), columns=df.columns)\n",
    "    \n",
    "    # Adjust data type\n",
    "    for col in scaled_df.columns:\n",
    "        scaled_df[col] = scaled_df[col].astype(np.float32)\n",
    "    \n",
    "    return (scaled_df, scaler)\n",
    "\n",
    "def preprocess_with_scaler(df, scaler):\n",
    "    if (\"protocol_type\" in df.columns):\n",
    "        df = df.drop(\"protocol_type\", axis=1)\n",
    "    scaled_df = pd.DataFrame(scaler.transform(df), columns=df.columns)\n",
    "    \n",
    "    # Adjust data type\n",
    "    for col in scaled_df.columns:\n",
    "        scaled_df[col] = scaled_df[col].astype(np.float32)\n",
    "    \n",
    "    return scaled_df"
   ]
  },
  {
   "cell_type": "code",
   "execution_count": 4,
   "id": "313a27b0",
   "metadata": {
    "execution": {
     "iopub.execute_input": "2024-02-29T00:22:06.818769Z",
     "iopub.status.busy": "2024-02-29T00:22:06.817786Z",
     "iopub.status.idle": "2024-02-29T00:22:06.833389Z",
     "shell.execute_reply": "2024-02-29T00:22:06.824057Z"
    },
    "papermill": {
     "duration": 0.027523,
     "end_time": "2024-02-29T00:22:06.836542",
     "exception": false,
     "start_time": "2024-02-29T00:22:06.809019",
     "status": "completed"
    },
    "tags": []
   },
   "outputs": [],
   "source": [
    "def preprocess_dataset(df, df_val):\n",
    "    # Preprocess variables then split\n",
    "    y = pd.Series(df[\"benign\"])\n",
    "    X = df.drop(\"benign\", axis=1)\n",
    "\n",
    "    X, scaler = preprocess(X)\n",
    "    \n",
    "    y_val = pd.Series(df_val[\"benign\"])\n",
    "    X_val = df_val.drop([\"benign\"], axis=1)\n",
    "    X_val = preprocess_with_scaler(X_val, scaler)\n",
    "    \n",
    "\n",
    "    # Train - Test - Val: 70% - 20% - 10%\n",
    "    X_train, X_test, y_train, y_test = train_test_split(X, y, test_size=0.3, stratify=y, random_state=RAND_SEED)\n",
    "    \n",
    "    return (X_train, X_test, X_val, y_train, y_test, y_val, scaler)"
   ]
  },
  {
   "cell_type": "markdown",
   "id": "eeb21398",
   "metadata": {
    "papermill": {
     "duration": 0.005706,
     "end_time": "2024-02-29T00:22:06.849167",
     "exception": false,
     "start_time": "2024-02-29T00:22:06.843461",
     "status": "completed"
    },
    "tags": []
   },
   "source": [
    "# Training Models\n",
    "\n",
    "We use TPE to determine the best hyperparmeters, utilizing the hyperopt library. To do so, we need to define the objective function, which returns the loss of a model trained on a specific "
   ]
  },
  {
   "cell_type": "code",
   "execution_count": 5,
   "id": "5ec260f8",
   "metadata": {
    "execution": {
     "iopub.execute_input": "2024-02-29T00:22:06.862768Z",
     "iopub.status.busy": "2024-02-29T00:22:06.861782Z",
     "iopub.status.idle": "2024-02-29T00:22:06.880405Z",
     "shell.execute_reply": "2024-02-29T00:22:06.879355Z"
    },
    "papermill": {
     "duration": 0.028758,
     "end_time": "2024-02-29T00:22:06.883528",
     "exception": false,
     "start_time": "2024-02-29T00:22:06.854770",
     "status": "completed"
    },
    "tags": []
   },
   "outputs": [],
   "source": [
    "## Inspired by: https://www.kaggle.com/code/yassinealouini/hyperopt-the-xgboost-model/script\n",
    "\n",
    "# We choose PR AUC due to the imbalanced dataset (~2% of dataset is benign)\n",
    "\n",
    "# Determine the best set of hyperparameters using TPE\n",
    "def optimize_xgb(X_train, y_train, X_val, y_val):\n",
    "    \n",
    "    # Objective function for evaluating a model trained off a given set of parameters\n",
    "    def objective(params):\n",
    "        dtrain = xgb.DMatrix(X_train, label=y_train)\n",
    "        dval = xgb.DMatrix(X_val, label=y_val)\n",
    "        eval_set = [(dval, \"eval\"), (dtrain, \"train\")]\n",
    "\n",
    "        # Get model performance\n",
    "        model = xgb.train(params, dtrain, NUM_ESTIMATORS, evals=eval_set, verbose_eval=False)\n",
    "        y_pred = model.predict(dval)\n",
    "\n",
    "        precision, recall, thresholds = precision_recall_curve(y_val, y_pred)\n",
    "        score = auc(recall, precision)\n",
    "\n",
    "        loss = 1 - score\n",
    "        return { \"loss\": loss, \"status\": STATUS_OK }\n",
    "    \n",
    "    space = {\n",
    "        \"eta\": hp.quniform(\"eta\", 0.01, 0.5, 0.01),\n",
    "        \"gamma\": hp.quniform(\"gamma\", 0, 1, 0.05),\n",
    "        \"min_child_weight\": hp.quniform(\"min_child_weight\", 1, 10, 1),\n",
    "        \"subsample\": hp.quniform(\"subsample\", 0.5, 1, 0.1),\n",
    "        \"max_depth\": MAX_DEPTH,\n",
    "        \"colsample_bytree\": hp.quniform(\"colsample_bytree\", 0.5, 1, 0.1),\n",
    "        \"eval_metric\": \"aucpr\",\n",
    "        \"objective\": \"binary:logistic\",\n",
    "        \"booster\": \"gbtree\",\n",
    "        \"n_jobs\": 4,\n",
    "        \"seed\": RAND_SEED\n",
    "    }\n",
    "    \n",
    "    best_hparam = fmin(objective, space, algo=tpe.suggest, max_evals=MAX_EVAL, rstate=default_rng(RAND_SEED))\n",
    "    print(f\"Best hyperparams:\\n{best_hparam}\")\n",
    "    \n",
    "    return best_hparam\n",
    "\n",
    "\n",
    "# Train and score a model on a specific set of params\n",
    "def train_model_xgb(params, X_train, y_train, X_val, y_val):\n",
    "    dtrain = xgb.DMatrix(X_train, label=y_train)\n",
    "    dval = xgb.DMatrix(X_val, label=y_val)\n",
    "    eval_set = [(dval, \"eval\"), (dtrain, \"train\")]\n",
    "\n",
    "    model = xgb.XGBClassifier(**params, n_estimators=NUM_ESTIMATORS, random_state=RAND_SEED)\n",
    "    model = model.fit(X_train, y_train, eval_set=[(X_val, y_val)])\n",
    "    \n",
    "    return model\n",
    "\n",
    "    \n",
    "def evaluate_model_xgb(model, X_test, y_test):\n",
    "    dtest = xgb.DMatrix(X_test, label=y_test)\n",
    "    # Would use this, but output_margin=True gives the raw prediction values, not probabilities (i.e. after logistic fn processing)\n",
    "    # y_pred = model.predict(X_test, output_margin=True)\n",
    "    \n",
    "    # See: https://xgboost.readthedocs.io/en/latest/python/python_api.html#xgboost.XGBClassifier.predict_proba\n",
    "    # Gives us a list of 2-long arrs: arr[0] is prob that class is negative, and arr[1] is prob that class is positive\n",
    "    y_prob = model.predict_proba(X_test)[:, 1]\n",
    "    \n",
    "    precision, recall, threshold = precision_recall_curve(y_test, y_prob)\n",
    "    \n",
    "    y_pred = model.predict(X_test)\n",
    "    print(classification_report(y_test, y_pred, digits=4))\n",
    "    \n",
    "    return (precision, recall)"
   ]
  },
  {
   "cell_type": "markdown",
   "id": "2b0024f6",
   "metadata": {
    "papermill": {
     "duration": 0.006515,
     "end_time": "2024-02-29T00:22:06.898123",
     "exception": false,
     "start_time": "2024-02-29T00:22:06.891608",
     "status": "completed"
    },
    "tags": []
   },
   "source": [
    "Now for each dataset, we train an XGBoost classifer and evaluate its performance. Training involves the following steps:\n",
    "- Preprocessing data\n",
    "- Split into train/test/validation sets\n",
    "- Optimize hyperparmeters on the train/validation sets\n",
    "- Evaluate on the test set"
   ]
  },
  {
   "cell_type": "code",
   "execution_count": 6,
   "id": "cf8d50da",
   "metadata": {
    "execution": {
     "iopub.execute_input": "2024-02-29T00:22:06.911967Z",
     "iopub.status.busy": "2024-02-29T00:22:06.910676Z",
     "iopub.status.idle": "2024-02-29T01:04:56.004818Z",
     "shell.execute_reply": "2024-02-29T01:04:56.003128Z"
    },
    "papermill": {
     "duration": 2569.104969,
     "end_time": "2024-02-29T01:04:56.008378",
     "exception": false,
     "start_time": "2024-02-29T00:22:06.903409",
     "status": "completed"
    },
    "tags": []
   },
   "outputs": [
    {
     "name": "stdout",
     "output_type": "stream",
     "text": [
      "Training model on dataframe df10\n",
      "100%|██████████| 100/100 [28:50<00:00, 17.30s/trial, best loss: 0.020880564920510603]\n",
      "Best hyperparams:\n",
      "{'colsample_bytree': 1.0, 'eta': 0.47000000000000003, 'gamma': 0.8500000000000001, 'min_child_weight': 2.0, 'subsample': 0.8}\n",
      "[0]\tvalidation_0-logloss:0.09396\n",
      "[1]\tvalidation_0-logloss:0.06102\n",
      "[2]\tvalidation_0-logloss:0.04137\n",
      "[3]\tvalidation_0-logloss:0.02941\n",
      "[4]\tvalidation_0-logloss:0.02183\n",
      "[5]\tvalidation_0-logloss:0.01721\n",
      "[6]\tvalidation_0-logloss:0.01413\n",
      "[7]\tvalidation_0-logloss:0.01228\n",
      "[8]\tvalidation_0-logloss:0.01099\n",
      "[9]\tvalidation_0-logloss:0.01024\n",
      "[10]\tvalidation_0-logloss:0.00972\n",
      "[11]\tvalidation_0-logloss:0.00937\n",
      "[12]\tvalidation_0-logloss:0.00919\n",
      "[13]\tvalidation_0-logloss:0.00895\n",
      "[14]\tvalidation_0-logloss:0.00882\n",
      "[15]\tvalidation_0-logloss:0.00871\n",
      "[16]\tvalidation_0-logloss:0.00867\n",
      "[17]\tvalidation_0-logloss:0.00864\n",
      "[18]\tvalidation_0-logloss:0.00857\n",
      "[19]\tvalidation_0-logloss:0.00845\n",
      "Scoring model from dataframe df10\n",
      "              precision    recall  f1-score   support\n",
      "\n",
      "       False     0.9986    0.9977    0.9982   1367654\n",
      "        True     0.9074    0.9438    0.9252     32946\n",
      "\n",
      "    accuracy                         0.9964   1400600\n",
      "   macro avg     0.9530    0.9707    0.9617   1400600\n",
      "weighted avg     0.9965    0.9964    0.9964   1400600\n",
      "\n",
      "PR-AUC: 0.9775559990628584\n",
      "Training model on dataframe df1\n",
      "100%|██████████| 100/100 [10:43<00:00,  6.43s/trial, best loss: 0.021331623814896505]\n",
      "Best hyperparams:\n",
      "{'colsample_bytree': 1.0, 'eta': 0.48, 'gamma': 0.25, 'min_child_weight': 1.0, 'subsample': 1.0}\n",
      "[0]\tvalidation_0-logloss:0.09272\n",
      "[1]\tvalidation_0-logloss:0.05976\n",
      "[2]\tvalidation_0-logloss:0.04031\n",
      "[3]\tvalidation_0-logloss:0.02855\n",
      "[4]\tvalidation_0-logloss:0.02126\n",
      "[5]\tvalidation_0-logloss:0.01681\n",
      "[6]\tvalidation_0-logloss:0.01402\n",
      "[7]\tvalidation_0-logloss:0.01220\n",
      "[8]\tvalidation_0-logloss:0.01106\n",
      "[9]\tvalidation_0-logloss:0.01031\n",
      "[10]\tvalidation_0-logloss:0.00981\n",
      "[11]\tvalidation_0-logloss:0.00953\n",
      "[12]\tvalidation_0-logloss:0.00931\n",
      "[13]\tvalidation_0-logloss:0.00919\n",
      "[14]\tvalidation_0-logloss:0.00906\n",
      "[15]\tvalidation_0-logloss:0.00889\n",
      "[16]\tvalidation_0-logloss:0.00880\n",
      "[17]\tvalidation_0-logloss:0.00874\n",
      "[18]\tvalidation_0-logloss:0.00868\n",
      "[19]\tvalidation_0-logloss:0.00866\n",
      "Scoring model from dataframe df1\n",
      "              precision    recall  f1-score   support\n",
      "\n",
      "       False     0.9986    0.9977    0.9982    683825\n",
      "        True     0.9073    0.9431    0.9248     16473\n",
      "\n",
      "    accuracy                         0.9964    700298\n",
      "   macro avg     0.9529    0.9704    0.9615    700298\n",
      "weighted avg     0.9965    0.9964    0.9964    700298\n",
      "\n",
      "PR-AUC: 0.9781208027124002\n",
      "Training model on dataframe df01\n",
      "100%|██████████| 100/100 [02:06<00:00,  1.27s/trial, best loss: 0.05075301513687358]\n",
      "Best hyperparams:\n",
      "{'colsample_bytree': 0.9, 'eta': 0.48, 'gamma': 0.75, 'min_child_weight': 1.0, 'subsample': 1.0}\n",
      "[0]\tvalidation_0-logloss:0.09636\n",
      "[1]\tvalidation_0-logloss:0.06368\n",
      "[2]\tvalidation_0-logloss:0.04404\n",
      "[3]\tvalidation_0-logloss:0.03217\n",
      "[4]\tvalidation_0-logloss:0.02497\n",
      "[5]\tvalidation_0-logloss:0.02061\n",
      "[6]\tvalidation_0-logloss:0.01774\n",
      "[7]\tvalidation_0-logloss:0.01607\n",
      "[8]\tvalidation_0-logloss:0.01494\n",
      "[9]\tvalidation_0-logloss:0.01422\n",
      "[10]\tvalidation_0-logloss:0.01382\n",
      "[11]\tvalidation_0-logloss:0.01353\n",
      "[12]\tvalidation_0-logloss:0.01333\n",
      "[13]\tvalidation_0-logloss:0.01320\n",
      "[14]\tvalidation_0-logloss:0.01312\n",
      "[15]\tvalidation_0-logloss:0.01309\n",
      "[16]\tvalidation_0-logloss:0.01306\n",
      "[17]\tvalidation_0-logloss:0.01300\n",
      "[18]\tvalidation_0-logloss:0.01298\n",
      "[19]\tvalidation_0-logloss:0.01293\n",
      "Scoring model from dataframe df01\n",
      "              precision    recall  f1-score   support\n",
      "\n",
      "       False     0.9973    0.9966    0.9969    136767\n",
      "        True     0.8618    0.8895    0.8754      3294\n",
      "\n",
      "    accuracy                         0.9940    140061\n",
      "   macro avg     0.9296    0.9430    0.9362    140061\n",
      "weighted avg     0.9941    0.9940    0.9941    140061\n",
      "\n",
      "PR-AUC: 0.9500216753207684\n"
     ]
    },
    {
     "data": {
      "image/png": "[encoded data removed]",
      "text/plain": [
       "<Figure size 640x480 with 1 Axes>"
      ]
     },
     "metadata": {},
     "output_type": "display_data"
    },
    {
     "data": {
      "image/png": "[encoded data removed]",
      "text/plain": [
       "<Figure size 640x480 with 1 Axes>"
      ]
     },
     "metadata": {},
     "output_type": "display_data"
    },
    {
     "data": {
      "image/png": "[encoded data removed]",
      "text/plain": [
       "<Figure size 640x480 with 1 Axes>"
      ]
     },
     "metadata": {},
     "output_type": "display_data"
    }
   ],
   "source": [
    "def test_and_train(name, df, optfn):\n",
    "    X_train, X_test, X_val, y_train, y_test, y_val, scaler = preprocess_dataset(df, val_dfs[name])\n",
    "    \n",
    "    def train(name, df):\n",
    "        print(f\"Training model on dataframe {name}\")\n",
    "\n",
    "        best_hparams = optfn(X_train, y_train, X_val, y_val)\n",
    "        model = train_model_xgb(best_hparams, X_train, y_train, X_val, y_val)\n",
    "\n",
    "        return model\n",
    "\n",
    "    def test(name, model):\n",
    "        print(f\"Scoring model from dataframe {name}\")\n",
    "        precision, recall = evaluate_model_xgb(model, X_test, y_test)\n",
    "\n",
    "        # Plot model\n",
    "        pr_plot = PrecisionRecallDisplay(precision, recall)\n",
    "        pr_plot.plot()\n",
    "\n",
    "        prauc = auc(recall, precision)\n",
    "        print(f\"PR-AUC: {prauc}\")\n",
    "        return prauc\n",
    "    \n",
    "    model = train(name, df)\n",
    "    return (model, test(name, model), scaler)\n",
    "\n",
    "trained_models_xgb = {}\n",
    "scalers_xgb = {}\n",
    "for name, df in dfs.items():\n",
    "    model, score, scaler = test_and_train(name, df, optimize_xgb)\n",
    "    \n",
    "    trained_models_xgb[name] = model\n",
    "    scalers_xgb[name] = scaler"
   ]
  },
  {
   "cell_type": "markdown",
   "id": "fc8c49fe",
   "metadata": {
    "papermill": {
     "duration": 0.029638,
     "end_time": "2024-02-29T01:04:56.074126",
     "exception": false,
     "start_time": "2024-02-29T01:04:56.044488",
     "status": "completed"
    },
    "tags": []
   },
   "source": [
    "## Export\n",
    "\n",
    "First we generate the models using m2cgen"
   ]
  },
  {
   "cell_type": "code",
   "execution_count": 7,
   "id": "93d0c5d3",
   "metadata": {
    "execution": {
     "iopub.execute_input": "2024-02-29T01:04:56.137838Z",
     "iopub.status.busy": "2024-02-29T01:04:56.135453Z",
     "iopub.status.idle": "2024-02-29T01:05:11.042524Z",
     "shell.execute_reply": "2024-02-29T01:05:11.041258Z"
    },
    "papermill": {
     "duration": 14.942284,
     "end_time": "2024-02-29T01:05:11.046019",
     "exception": false,
     "start_time": "2024-02-29T01:04:56.103735",
     "status": "completed"
    },
    "tags": []
   },
   "outputs": [
    {
     "name": "stdout",
     "output_type": "stream",
     "text": [
      "Collecting m2cgen\r\n",
      "  Downloading m2cgen-0.10.0-py3-none-any.whl.metadata (9.9 kB)\r\n",
      "Requirement already satisfied: numpy in /opt/conda/lib/python3.10/site-packages (from m2cgen) (1.24.4)\r\n",
      "Downloading m2cgen-0.10.0-py3-none-any.whl (92 kB)\r\n",
      "\u001b[2K   \u001b[90m━━━━━━━━━━━━━━━━━━━━━━━━━━━━━━━━━━━━━━━━\u001b[0m \u001b[32m92.2/92.2 kB\u001b[0m \u001b[31m1.7 MB/s\u001b[0m eta \u001b[36m0:00:00\u001b[0m\r\n",
      "\u001b[?25hInstalling collected packages: m2cgen\r\n",
      "Successfully installed m2cgen-0.10.0\r\n"
     ]
    }
   ],
   "source": [
    "!pip install m2cgen"
   ]
  },
  {
   "cell_type": "code",
   "execution_count": 8,
   "id": "3daf2d7a",
   "metadata": {
    "execution": {
     "iopub.execute_input": "2024-02-29T01:05:11.110608Z",
     "iopub.status.busy": "2024-02-29T01:05:11.109693Z",
     "iopub.status.idle": "2024-02-29T01:05:11.611384Z",
     "shell.execute_reply": "2024-02-29T01:05:11.609980Z"
    },
    "papermill": {
     "duration": 0.537596,
     "end_time": "2024-02-29T01:05:11.614200",
     "exception": false,
     "start_time": "2024-02-29T01:05:11.076604",
     "status": "completed"
    },
    "tags": []
   },
   "outputs": [],
   "source": [
    "import m2cgen as m2c\n",
    "\n",
    "for name, model in trained_models_xgb.items():\n",
    "    # Workaround for m2cgen -- see: https://github.com/BayesWitnesses/m2cgen/issues/581#issuecomment-1613836749\n",
    "    if (model.base_score == None):\n",
    "        model.base_score = 0\n",
    "    code = m2c.export_to_c(model)\n",
    "    with open(f\"/kaggle/working/xgb_m2c_{name}.c\", \"w\") as file:\n",
    "        file.write(code)\n",
    "\n",
    "    code = m2c.export_to_python(model)\n",
    "    with open(f\"/kaggle/working/xgb_m2c_{name}.py\", \"w\") as file:\n",
    "        file.write(code)\n",
    "# base_model.base_score = None\n",
    "# code = port(base_model)"
   ]
  },
  {
   "cell_type": "markdown",
   "id": "23be88e5",
   "metadata": {
    "papermill": {
     "duration": 0.03051,
     "end_time": "2024-02-29T01:05:11.676948",
     "exception": false,
     "start_time": "2024-02-29T01:05:11.646438",
     "status": "completed"
    },
    "tags": []
   },
   "source": [
    "Then we export the standard scalers as functions that take in a row of features and returns a scaled row of features. Note that they have 2 values that matter per column: mean and standard deviation. This is designed to work with the StandardScaler object, with default settings.\n",
    "\n",
    "The values are exported deliniated by newlines, and ordered according to the dataframe's column order"
   ]
  },
  {
   "cell_type": "code",
   "execution_count": 9,
   "id": "3a5244ed",
   "metadata": {
    "execution": {
     "iopub.execute_input": "2024-02-29T01:05:11.739958Z",
     "iopub.status.busy": "2024-02-29T01:05:11.739539Z",
     "iopub.status.idle": "2024-02-29T01:05:11.749865Z",
     "shell.execute_reply": "2024-02-29T01:05:11.748916Z"
    },
    "papermill": {
     "duration": 0.044403,
     "end_time": "2024-02-29T01:05:11.752667",
     "exception": false,
     "start_time": "2024-02-29T01:05:11.708264",
     "status": "completed"
    },
    "tags": []
   },
   "outputs": [],
   "source": [
    "def export_scaler(name, means, stds):\n",
    "    np.savetxt(f\"/kaggle/working/scaler_{name}_means.csv\", means)\n",
    "    np.savetxt(f\"/kaggle/working/scaler_{name}_stds.csv\", stds)\n",
    "\n",
    "### Quick test\n",
    "# testfn = export_scaler_python(scalers[\"df10\"].mean_, scalers[\"df10\"].scale_)\n",
    "# print(testfn(list(dfs[\"df10\"].iloc[0].drop(\"benign\"))))\n",
    "# print(scalers[\"df10\"].transform(dfs[\"df10\"].iloc[0:1].drop(\"benign\", axis=1)))\n",
    "\n",
    "for name, scaler in scalers_xgb.items():\n",
    "    export_scaler(name, scaler.mean_, scaler.scale_)"
   ]
  },
  {
   "cell_type": "markdown",
   "id": "45cd1f40",
   "metadata": {
    "papermill": {
     "duration": 0.030043,
     "end_time": "2024-02-29T01:05:11.813397",
     "exception": false,
     "start_time": "2024-02-29T01:05:11.783354",
     "status": "completed"
    },
    "tags": []
   },
   "source": [
    "# Random Forest"
   ]
  },
  {
   "cell_type": "code",
   "execution_count": 10,
   "id": "60ea1a85",
   "metadata": {
    "execution": {
     "iopub.execute_input": "2024-02-29T01:05:11.877581Z",
     "iopub.status.busy": "2024-02-29T01:05:11.877191Z",
     "iopub.status.idle": "2024-02-29T01:05:11.891455Z",
     "shell.execute_reply": "2024-02-29T01:05:11.890219Z"
    },
    "papermill": {
     "duration": 0.048736,
     "end_time": "2024-02-29T01:05:11.893762",
     "exception": false,
     "start_time": "2024-02-29T01:05:11.845026",
     "status": "completed"
    },
    "tags": []
   },
   "outputs": [],
   "source": [
    "# Determine the best set of hyperparameters using TPE\n",
    "def optimize_rf(X_train, y_train, X_val, y_val):\n",
    "    \n",
    "    def cast_params(params):\n",
    "        int_params = [\"min_samples_split\", \"min_samples_leaf\", \"max_leaf_nodes\"]\n",
    "        for name, p in params.items():\n",
    "            if name in int_params:\n",
    "                params[name] = int(params[name])\n",
    "                \n",
    "        return params\n",
    "    \n",
    "    # Objective function for evaluating a model trained off a given set of parameters\n",
    "    def objective(params):\n",
    "        # Get model performance\n",
    "        params = cast_params(params)\n",
    "        model = RandomForestClassifier(**params)\n",
    "        model.fit(X_train, y_train)\n",
    "        y_pred = model.predict_proba(X_val)[:, 1]\n",
    "\n",
    "        precision, recall, thresholds = precision_recall_curve(y_val, y_pred)\n",
    "        score = auc(recall, precision)\n",
    "\n",
    "        loss = 1 - score\n",
    "        return { \"loss\": loss, \"status\": STATUS_OK }\n",
    "    \n",
    "    class_weights = [\"balanced\", \"balanced_subsample\", None]\n",
    "    space = {\n",
    "        \"min_samples_split\": hp.quniform(\"min_samples_split\", 2, 20, 1),\n",
    "        \"min_samples_leaf\": hp.quniform(\"min_samples_leaf\", 1, 50, 1),\n",
    "        \"max_features\": hp.quniform(\"max_features\", 0.3, 1.0, 0.05),\n",
    "        \"max_leaf_nodes\": hp.quniform(\"max_leaf_nodes\", 2, 50, 2),\n",
    "        \"min_impurity_decrease\": hp.quniform(\"min_impurity_decrease\", 0.0, 0.5, 0.05),\n",
    "        \"class_weight\": hp.choice(\"class_weight\", [\"balanced\", \"balanced_subsample\", None]),\n",
    "        \"ccp_alpha\": hp.quniform(\"ccp_alpha\", 0.0, 1.0, 0.05),\n",
    "        \"n_estimators\": NUM_ESTIMATORS,\n",
    "        \"max_depth\": MAX_DEPTH,\n",
    "        \"random_state\": RAND_SEED,\n",
    "        \"n_jobs\": 4,\n",
    "    }\n",
    "    \n",
    "    best_hparam = fmin(objective, space, algo=tpe.suggest, max_evals=MAX_EVAL, rstate=default_rng(RAND_SEED))\n",
    "    # hp.choice returns the INDEX of best of the list of choices passed to it\n",
    "    best_hparam[\"class_weight\"] = class_weights[best_hparam[\"class_weight\"]]\n",
    "    best_hparam = cast_params(best_hparam)\n",
    "    print(f\"Best hyperparams:\\n{best_hparam}\")\n",
    "    \n",
    "    return best_hparam\n",
    "\n",
    "\n",
    "# Train and score a model on a specific set of params\n",
    "def train_model_rf(params, X_train, y_train):\n",
    "    model = RandomForestClassifier(**params)\n",
    "    model = model.fit(X_train, y_train)\n",
    "    \n",
    "    return model\n",
    "\n",
    "    \n",
    "def evaluate_model_rf(model, X_test, y_test):\n",
    "    # Would use this, but output_margin=True gives the raw prediction values, not probabilities (i.e. after logistic fn processing)\n",
    "    # y_pred = model.predict(X_test, output_margin=True)\n",
    "    \n",
    "    # See: https://xgboost.readthedocs.io/en/latest/python/python_api.html#xgboost.XGBClassifier.predict_proba\n",
    "    # Gives us a list of 2-long arrs: arr[0] is prob that class is negative, and arr[1] is prob that class is positive\n",
    "    y_prob = model.predict_proba(X_test)[:, 1]\n",
    "    \n",
    "    precision, recall, threshold = precision_recall_curve(y_test, y_prob)\n",
    "    \n",
    "    y_pred = model.predict(X_test)\n",
    "    print(classification_report(y_test, y_pred, digits=4))\n",
    "    \n",
    "    return (precision, recall)"
   ]
  },
  {
   "cell_type": "code",
   "execution_count": 11,
   "id": "dfded22a",
   "metadata": {
    "execution": {
     "iopub.execute_input": "2024-02-29T01:05:11.956995Z",
     "iopub.status.busy": "2024-02-29T01:05:11.956568Z",
     "iopub.status.idle": "2024-02-29T03:35:01.930151Z",
     "shell.execute_reply": "2024-02-29T03:35:01.928818Z"
    },
    "papermill": {
     "duration": 8990.009007,
     "end_time": "2024-02-29T03:35:01.933176",
     "exception": false,
     "start_time": "2024-02-29T01:05:11.924169",
     "status": "completed"
    },
    "tags": []
   },
   "outputs": [
    {
     "name": "stdout",
     "output_type": "stream",
     "text": [
      "Training model on dataframe df10\n",
      "100%|██████████| 100/100 [1:16:47<00:00, 46.08s/trial, best loss: 0.22558560764115598]\n",
      "Best hyperparams:\n",
      "{'ccp_alpha': 0.05, 'class_weight': 'balanced_subsample', 'max_features': 0.45, 'max_leaf_nodes': 28, 'min_impurity_decrease': 0.35000000000000003, 'min_samples_leaf': 22, 'min_samples_split': 19}\n",
      "Scoring model from dataframe df10\n",
      "              precision    recall  f1-score   support\n",
      "\n",
      "       False     0.9996    0.9775    0.9884   1367654\n",
      "        True     0.5129    0.9852    0.6746     32946\n",
      "\n",
      "    accuracy                         0.9776   1400600\n",
      "   macro avg     0.7563    0.9813    0.8315   1400600\n",
      "weighted avg     0.9882    0.9776    0.9810   1400600\n",
      "\n",
      "PR-AUC: 0.7645144930011767\n",
      "Training model on dataframe df1\n",
      "100%|██████████| 100/100 [43:14<00:00, 25.94s/trial, best loss: 0.025996813725933987]\n",
      "Best hyperparams:\n",
      "{'ccp_alpha': 0.0, 'class_weight': None, 'max_features': 1.0, 'max_leaf_nodes': 32, 'min_impurity_decrease': 0.0, 'min_samples_leaf': 50, 'min_samples_split': 3}\n",
      "Scoring model from dataframe df1\n",
      "              precision    recall  f1-score   support\n",
      "\n",
      "       False     0.9984    0.9981    0.9982    683825\n",
      "        True     0.9210    0.9317    0.9263     16473\n",
      "\n",
      "    accuracy                         0.9965    700298\n",
      "   macro avg     0.9597    0.9649    0.9623    700298\n",
      "weighted avg     0.9965    0.9965    0.9965    700298\n",
      "\n",
      "PR-AUC: 0.9814606244626649\n",
      "Training model on dataframe df01\n",
      "100%|██████████| 100/100 [03:12<00:00,  1.92s/trial, best loss: 0.08031098125229319]\n",
      "Best hyperparams:\n",
      "{'ccp_alpha': 0.0, 'class_weight': 'balanced_subsample', 'max_features': 0.30000000000000004, 'max_leaf_nodes': 12, 'min_impurity_decrease': 0.0, 'min_samples_leaf': 36, 'min_samples_split': 16}\n",
      "Scoring model from dataframe df01\n",
      "              precision    recall  f1-score   support\n",
      "\n",
      "       False     0.9999    0.9786    0.9891    136767\n",
      "        True     0.5286    0.9973    0.6910      3294\n",
      "\n",
      "    accuracy                         0.9790    140061\n",
      "   macro avg     0.7643    0.9879    0.8401    140061\n",
      "weighted avg     0.9888    0.9790    0.9821    140061\n",
      "\n",
      "PR-AUC: 0.9172655095524411\n"
     ]
    },
    {
     "data": {
      "image/png": "[encoded data removed]",
      "text/plain": [
       "<Figure size 640x480 with 1 Axes>"
      ]
     },
     "metadata": {},
     "output_type": "display_data"
    },
    {
     "data": {
      "image/png": "[encoded data removed]",
      "text/plain": [
       "<Figure size 640x480 with 1 Axes>"
      ]
     },
     "metadata": {},
     "output_type": "display_data"
    },
    {
     "data": {
      "image/png": "[encoded data removed]",
      "text/plain": [
       "<Figure size 640x480 with 1 Axes>"
      ]
     },
     "metadata": {},
     "output_type": "display_data"
    }
   ],
   "source": [
    "def test_and_train_rf(name, df, optfn):\n",
    "    X_train, X_test, X_val, y_train, y_test, y_val, scaler = preprocess_dataset(df, val_dfs[name])\n",
    "    \n",
    "    def train(name, df):\n",
    "        print(f\"Training model on dataframe {name}\")\n",
    "\n",
    "        best_hparams = optfn(X_train, y_train, X_val, y_val)\n",
    "        model = train_model_rf(best_hparams, X_train, y_train)\n",
    "\n",
    "        return model\n",
    "\n",
    "    def test(name, model):\n",
    "        print(f\"Scoring model from dataframe {name}\")\n",
    "        precision, recall = evaluate_model_rf(model, X_test, y_test)\n",
    "\n",
    "        # Plot model\n",
    "        pr_plot = PrecisionRecallDisplay(precision, recall)\n",
    "        pr_plot.plot()\n",
    "\n",
    "        prauc = auc(recall, precision)\n",
    "        print(f\"PR-AUC: {prauc}\")\n",
    "        return prauc\n",
    "    \n",
    "    model = train(name, df)\n",
    "    return (model, test(name, model), scaler)\n",
    "\n",
    "trained_models_rf = {}\n",
    "scalers_rf = {}\n",
    "for name, df in dfs.items():\n",
    "    model, score, scaler = test_and_train_rf(name, df, optimize_rf)\n",
    "    \n",
    "    trained_models_rf[name] = model\n",
    "    scalers_rf[name] = scaler"
   ]
  },
  {
   "cell_type": "code",
   "execution_count": 12,
   "id": "eded456c",
   "metadata": {
    "execution": {
     "iopub.execute_input": "2024-02-29T03:35:02.044531Z",
     "iopub.status.busy": "2024-02-29T03:35:02.043708Z",
     "iopub.status.idle": "2024-02-29T03:35:04.021808Z",
     "shell.execute_reply": "2024-02-29T03:35:04.020685Z"
    },
    "papermill": {
     "duration": 2.03658,
     "end_time": "2024-02-29T03:35:04.024517",
     "exception": false,
     "start_time": "2024-02-29T03:35:01.987937",
     "status": "completed"
    },
    "tags": []
   },
   "outputs": [],
   "source": [
    "for name, model in trained_models_rf.items():\n",
    "    # Workaround for m2cgen -- see: https://github.com/BayesWitnesses/m2cgen/issues/581#issuecomment-1613836749\n",
    "    code = m2c.export_to_c(model)\n",
    "    with open(f\"/kaggle/working/rf_m2c_{name}.c\", \"w\") as file:\n",
    "        file.write(code)\n",
    "\n",
    "    code = m2c.export_to_python(model)\n",
    "    with open(f\"/kaggle/working/rf_m2c_{name}.py\", \"w\") as file:\n",
    "        file.write(code)"
   ]
  }
 ],
 "metadata": {
  "kaggle": {
   "accelerator": "none",
   "dataSources": [
    {
     "sourceId": 147704369,
     "sourceType": "kernelVersion"
    },
    {
     "sourceId": 163150315,
     "sourceType": "kernelVersion"
    },
    {
     "sourceId": 163506803,
     "sourceType": "kernelVersion"
    }
   ],
   "dockerImageVersionId": 30646,
   "isGpuEnabled": false,
   "isInternetEnabled": true,
   "language": "python",
   "sourceType": "notebook"
  },
  "kernelspec": {
   "display_name": "Python 3",
   "language": "python",
   "name": "python3"
  },
  "language_info": {
   "codemirror_mode": {
    "name": "ipython",
    "version": 3
   },
   "file_extension": ".py",
   "mimetype": "text/x-python",
   "name": "python",
   "nbconvert_exporter": "python",
   "pygments_lexer": "ipython3",
   "version": "3.10.13"
  },
  "papermill": {
   "default_parameters": {},
   "duration": 11647.141192,
   "end_time": "2024-02-29T03:35:05.123554",
   "environment_variables": {},
   "exception": null,
   "input_path": "__notebook__.ipynb",
   "output_path": "__notebook__.ipynb",
   "parameters": {},
   "start_time": "2024-02-29T00:20:57.982362",
   "version": "2.5.0"
  }
 },
 "nbformat": 4,
 "nbformat_minor": 5
}
