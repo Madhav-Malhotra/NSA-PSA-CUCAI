{
 "cells": [
  {
   "cell_type": "code",
   "execution_count": 1,
   "id": "0a3f6e07",
   "metadata": {
    "_cell_guid": "b1076dfc-b9ad-4769-8c92-a6c4dae69d19",
    "_uuid": "8f2839f25d086af736a60e9eeb907d3b93b6e0e5",
    "execution": {
     "iopub.execute_input": "2024-02-23T17:21:38.515557Z",
     "iopub.status.busy": "2024-02-23T17:21:38.515084Z",
     "iopub.status.idle": "2024-02-23T17:21:42.860299Z",
     "shell.execute_reply": "2024-02-23T17:21:42.858897Z"
    },
    "papermill": {
     "duration": 4.365953,
     "end_time": "2024-02-23T17:21:42.863594",
     "exception": false,
     "start_time": "2024-02-23T17:21:38.497641",
     "status": "completed"
    },
    "tags": []
   },
   "outputs": [],
   "source": [
    "import numpy as np\n",
    "import pandas as pd\n",
    "import matplotlib.pyplot as plt\n",
    "\n",
    "from numpy.random import default_rng\n",
    "\n",
    "from sklearn.preprocessing import StandardScaler\n",
    "from sklearn.model_selection import train_test_split\n",
    "from sklearn.metrics import auc, roc_curve, precision_recall_curve, PrecisionRecallDisplay, classification_report, confusion_matrix, ConfusionMatrixDisplay\n",
    "\n",
    "from sklearn.linear_model import LogisticRegression\n",
    "from sklearn.svm import LinearSVC\n",
    "from sklearn.calibration import CalibratedClassifierCV\n",
    "\n",
    "from hyperopt import hp, fmin, STATUS_OK, tpe\n",
    "from hyperopt.early_stop import no_progress_loss\n",
    "\n",
    "import warnings\n",
    "warnings.filterwarnings('ignore')\n",
    "\n",
    "RANDOM_STATE = 42\n",
    "MAX_EVAL = 100"
   ]
  },
  {
   "cell_type": "markdown",
   "id": "f903444f",
   "metadata": {
    "papermill": {
     "duration": 0.013829,
     "end_time": "2024-02-23T17:21:42.893043",
     "exception": false,
     "start_time": "2024-02-23T17:21:42.879214",
     "status": "completed"
    },
    "tags": []
   },
   "source": [
    "# Creating Datasets\n",
    "* small dataset: top 5 non text-based features, 1%\n",
    "* medium dataset: top 24 non text-based features, 5%\n",
    "* large dataset: top 45 non text-based features, 10%"
   ]
  },
  {
   "cell_type": "code",
   "execution_count": 2,
   "id": "8445537a",
   "metadata": {
    "execution": {
     "iopub.execute_input": "2024-02-23T17:21:42.926624Z",
     "iopub.status.busy": "2024-02-23T17:21:42.925857Z",
     "iopub.status.idle": "2024-02-23T17:23:10.570410Z",
     "shell.execute_reply": "2024-02-23T17:23:10.568671Z"
    },
    "papermill": {
     "duration": 87.66579,
     "end_time": "2024-02-23T17:23:10.574394",
     "exception": false,
     "start_time": "2024-02-23T17:21:42.908604",
     "status": "completed"
    },
    "tags": []
   },
   "outputs": [],
   "source": [
    "df_1 = pd.read_csv(\"/kaggle/input/creating-a-smaller-dataset-for-ciciot2023/0.01percent_2classes.csv\")\n",
    "df_5 = pd.read_csv(\"/kaggle/input/creating-a-smaller-dataset-for-ciciot2023/0.05percent_2classes.csv\")\n",
    "df_10 = pd.read_csv(\"/kaggle/input/creating-a-smaller-dataset-for-ciciot2023/0.1percent_2classes.csv\")\n",
    "df_val = pd.read_csv(\"/kaggle/input/creating-a-smaller-dataset-for-ciciot2023/0.01percent_validation_2classes.csv\")"
   ]
  },
  {
   "cell_type": "code",
   "execution_count": 3,
   "id": "f32a7298",
   "metadata": {
    "execution": {
     "iopub.execute_input": "2024-02-23T17:23:10.609379Z",
     "iopub.status.busy": "2024-02-23T17:23:10.608861Z",
     "iopub.status.idle": "2024-02-23T17:23:10.654239Z",
     "shell.execute_reply": "2024-02-23T17:23:10.653187Z"
    },
    "papermill": {
     "duration": 0.067027,
     "end_time": "2024-02-23T17:23:10.657285",
     "exception": false,
     "start_time": "2024-02-23T17:23:10.590258",
     "status": "completed"
    },
    "tags": []
   },
   "outputs": [],
   "source": [
    "# features\n",
    "small_feats = list(pd.read_csv(\"/kaggle/input/feature-importance-study-on-the-ciciot2023-export/top5.csv\")[\"Feature\"])\n",
    "small_feats.append(\"benign\")\n",
    "\n",
    "med_feats = list(pd.read_csv(\"/kaggle/input/feature-importance-study-on-the-ciciot2023-export/top24.csv\")[\"Feature\"])\n",
    "med_feats.append(\"benign\")\n",
    "\n",
    "large_feats = list(pd.read_csv(\"/kaggle/input/feature-importance-study-on-the-ciciot2023-export/topall.csv\")[\"Feature\"])\n",
    "large_feats.append(\"benign\")"
   ]
  },
  {
   "cell_type": "code",
   "execution_count": 4,
   "id": "03ac3310",
   "metadata": {
    "execution": {
     "iopub.execute_input": "2024-02-23T17:23:10.689867Z",
     "iopub.status.busy": "2024-02-23T17:23:10.689005Z",
     "iopub.status.idle": "2024-02-23T17:23:11.283058Z",
     "shell.execute_reply": "2024-02-23T17:23:11.281284Z"
    },
    "papermill": {
     "duration": 0.613806,
     "end_time": "2024-02-23T17:23:11.285909",
     "exception": false,
     "start_time": "2024-02-23T17:23:10.672103",
     "status": "completed"
    },
    "tags": []
   },
   "outputs": [],
   "source": [
    "df_1 = df_1[small_feats]\n",
    "df_5 = df_5[med_feats]\n",
    "df_10 = df_10[large_feats]"
   ]
  },
  {
   "cell_type": "markdown",
   "id": "9c0023b1",
   "metadata": {
    "papermill": {
     "duration": 0.013304,
     "end_time": "2024-02-23T17:23:11.312856",
     "exception": false,
     "start_time": "2024-02-23T17:23:11.299552",
     "status": "completed"
    },
    "tags": []
   },
   "source": [
    "# Preprocessing\n",
    "- normalize\n",
    "- quantization: float32\n",
    "- train test validation split: 70% 20% 10%"
   ]
  },
  {
   "cell_type": "code",
   "execution_count": 5,
   "id": "992fa476",
   "metadata": {
    "execution": {
     "iopub.execute_input": "2024-02-23T17:23:11.342442Z",
     "iopub.status.busy": "2024-02-23T17:23:11.341999Z",
     "iopub.status.idle": "2024-02-23T17:23:11.353697Z",
     "shell.execute_reply": "2024-02-23T17:23:11.352078Z"
    },
    "papermill": {
     "duration": 0.030192,
     "end_time": "2024-02-23T17:23:11.356817",
     "exception": false,
     "start_time": "2024-02-23T17:23:11.326625",
     "status": "completed"
    },
    "tags": []
   },
   "outputs": [],
   "source": [
    "# Function to output:\n",
    "# scaled_X_train, scaled_X_test, scaled_X_val, y_train, y_test, y_val\n",
    "def preprocessing(df, df_size):\n",
    "    X = df.drop(\"benign\", axis = 1)\n",
    "    y = df[\"benign\"].astype(np.float32)\n",
    "    \n",
    "    # normalize first to prevent overflowing when quantization\n",
    "    scaler = StandardScaler()\n",
    "    scaled_X = scaler.fit_transform(X)\n",
    "    \n",
    "    # quantize\n",
    "    scaled_X = scaled_X.astype(np.float32)\n",
    "    \n",
    "    # divide into train and test: 70% 30%\n",
    "    scaled_X_train, scaled_X_test, y_train, y_test = train_test_split(scaled_X, y, test_size=0.3, stratify=y, random_state = RANDOM_STATE)\n",
    "    \n",
    "    # validation\n",
    "    if df_size == \"small\":\n",
    "        validation = df_val[small_feats]\n",
    "    elif df_size == \"med\":\n",
    "        validation = df_val[med_feats]\n",
    "    else:\n",
    "        validation = df_val[large_feats]\n",
    "    \n",
    "    X_val = validation.drop(\"benign\", axis = 1)\n",
    "    y_val = validation[\"benign\"].astype(np.float32)\n",
    "    \n",
    "    # normalize first to prevent overflowing when quantization\n",
    "    scaled_X_val = scaler.fit_transform(X_val)\n",
    "    \n",
    "    # quantize\n",
    "    scaled_X_val = scaled_X_val.astype(np.float32)\n",
    "    \n",
    "    return scaled_X_train, scaled_X_test, scaled_X_val, y_train, y_test, y_val"
   ]
  },
  {
   "cell_type": "markdown",
   "id": "0265e061",
   "metadata": {
    "papermill": {
     "duration": 0.013979,
     "end_time": "2024-02-23T17:23:11.385660",
     "exception": false,
     "start_time": "2024-02-23T17:23:11.371681",
     "status": "completed"
    },
    "tags": []
   },
   "source": [
    "# Evaluation function"
   ]
  },
  {
   "cell_type": "code",
   "execution_count": 6,
   "id": "e7eae7b0",
   "metadata": {
    "execution": {
     "iopub.execute_input": "2024-02-23T17:23:11.416523Z",
     "iopub.status.busy": "2024-02-23T17:23:11.415258Z",
     "iopub.status.idle": "2024-02-23T17:23:11.427576Z",
     "shell.execute_reply": "2024-02-23T17:23:11.426062Z"
    },
    "papermill": {
     "duration": 0.031077,
     "end_time": "2024-02-23T17:23:11.430868",
     "exception": false,
     "start_time": "2024-02-23T17:23:11.399791",
     "status": "completed"
    },
    "tags": []
   },
   "outputs": [],
   "source": [
    "target_names = [\"attack\", \"benign\"]\n",
    "\n",
    "def eval(model):\n",
    "    pred = model.predict(scaled_X_test)\n",
    "    \n",
    "    print(classification_report(y_test, pred, digits = 3, target_names = target_names))\n",
    "    plt.figure(figsize = (4, 2), dpi = 300)\n",
    "    ConfusionMatrixDisplay(np.round(confusion_matrix(y_test, pred, normalize=\"true\"), 2),\n",
    "                           display_labels = target_names).plot()\n",
    "    plt.xticks(rotation=90);\n",
    "    \n",
    "    if flag == \"LR\":\n",
    "        prob = model.predict_proba(scaled_X_test)[:, 1]\n",
    "\n",
    "        precision, recall, threshold = precision_recall_curve(y_test, prob)\n",
    "        PrecisionRecallDisplay(precision, recall).plot()\n",
    "\n",
    "        prauc = auc(recall, precision)\n",
    "        print(f\"PR-AUC: {prauc}\")\n",
    "    else:\n",
    "        pred = model.predict(scaled_X_test)\n",
    "\n",
    "        precision, recall, threshold = roc_curve(y_test, pred)\n",
    "\n",
    "        prauc = auc(precision, recall)\n",
    "        print(f\"PR-AUC: {prauc}\")"
   ]
  },
  {
   "cell_type": "markdown",
   "id": "d1d47ab0",
   "metadata": {
    "papermill": {
     "duration": 0.013319,
     "end_time": "2024-02-23T17:23:11.457999",
     "exception": false,
     "start_time": "2024-02-23T17:23:11.444680",
     "status": "completed"
    },
    "tags": []
   },
   "source": [
    "# Logistic Regression Tree-Structured Parzen Estimator\n",
    "- designed to optimize quantization hyperparameters to achieve an expected accuracy target and provide best possible latency improvement\n",
    "- Inspired by [Training RF and XGBoost](https://www.kaggle.com/code/redfishbluefish/training-rf-and-xgboost?scriptVersionId=163157161&cellId=7) \n",
    "- utilizes PR AUC due to imbalanced dataset"
   ]
  },
  {
   "cell_type": "code",
   "execution_count": 7,
   "id": "be19a233",
   "metadata": {
    "execution": {
     "iopub.execute_input": "2024-02-23T17:23:11.487600Z",
     "iopub.status.busy": "2024-02-23T17:23:11.487113Z",
     "iopub.status.idle": "2024-02-23T17:23:11.499404Z",
     "shell.execute_reply": "2024-02-23T17:23:11.498348Z"
    },
    "papermill": {
     "duration": 0.030279,
     "end_time": "2024-02-23T17:23:11.502085",
     "exception": false,
     "start_time": "2024-02-23T17:23:11.471806",
     "status": "completed"
    },
    "tags": []
   },
   "outputs": [],
   "source": [
    "def optimize(scaled_X_train, y_train, scaled_X_val, y_val):\n",
    "    \n",
    "    # Objective function for evaluating a model trained off a given set of parameters\n",
    "    def objective(params):\n",
    "        model = LogisticRegression(**params)\n",
    "        model.fit(scaled_X_train, y_train)\n",
    "        y_pred = model.predict(scaled_X_val)\n",
    "\n",
    "        precision, recall, thresholds = precision_recall_curve(y_val, y_pred)\n",
    "        score = auc(recall, precision)\n",
    "\n",
    "        loss = 1 - score\n",
    "        return { \"loss\": loss, \"status\": STATUS_OK }\n",
    "    \n",
    "    space = {\n",
    "        \"C\": hp.quniform(\"C\", 0.5, 5.0, 0.1),\n",
    "        \"l1_ratio\": hp.quniform(\"l1_ratio\", 0.1, 1.0, 0.1),\n",
    "        \"penalty\": \"elasticnet\",\n",
    "        \"dual\": False,\n",
    "        \"tol\": 1e-4,\n",
    "        \"fit_intercept\": True,\n",
    "        \"intercept_scaling\": 1,\n",
    "        \"class_weight\": \"balanced\",\n",
    "        \"random_state\": RANDOM_STATE,\n",
    "        \"solver\": \"saga\", # optimized for large datasets (and supports elasticnet penalty)\n",
    "        \"max_iter\": 1000,\n",
    "        \"multi_class\": \"ovr\",\n",
    "        \"verbose\": 0,\n",
    "        \"warm_start\": False,\n",
    "        \"n_jobs\": 4\n",
    "    }\n",
    "    \n",
    "    best_hparam = fmin(objective, space, algo=tpe.suggest, max_evals=MAX_EVAL, rstate=default_rng(RANDOM_STATE), early_stop_fn = no_progress_loss(10))\n",
    "    print(f\"Best hyperparams:\\n{best_hparam}\")\n",
    "    \n",
    "    return best_hparam"
   ]
  },
  {
   "cell_type": "markdown",
   "id": "972ee466",
   "metadata": {
    "papermill": {
     "duration": 0.013196,
     "end_time": "2024-02-23T17:23:11.530012",
     "exception": false,
     "start_time": "2024-02-23T17:23:11.516816",
     "status": "completed"
    },
    "tags": []
   },
   "source": [
    "# Logistic Regression"
   ]
  },
  {
   "cell_type": "code",
   "execution_count": 8,
   "id": "5306c0e9",
   "metadata": {
    "execution": {
     "iopub.execute_input": "2024-02-23T17:23:11.559336Z",
     "iopub.status.busy": "2024-02-23T17:23:11.558835Z",
     "iopub.status.idle": "2024-02-23T17:23:11.564784Z",
     "shell.execute_reply": "2024-02-23T17:23:11.563385Z"
    },
    "papermill": {
     "duration": 0.024037,
     "end_time": "2024-02-23T17:23:11.567632",
     "exception": false,
     "start_time": "2024-02-23T17:23:11.543595",
     "status": "completed"
    },
    "tags": []
   },
   "outputs": [],
   "source": [
    "flag = \"LR\""
   ]
  },
  {
   "cell_type": "code",
   "execution_count": 9,
   "id": "262b55b1",
   "metadata": {
    "execution": {
     "iopub.execute_input": "2024-02-23T17:23:11.597771Z",
     "iopub.status.busy": "2024-02-23T17:23:11.597331Z",
     "iopub.status.idle": "2024-02-23T17:23:11.604847Z",
     "shell.execute_reply": "2024-02-23T17:23:11.603508Z"
    },
    "papermill": {
     "duration": 0.025661,
     "end_time": "2024-02-23T17:23:11.607508",
     "exception": false,
     "start_time": "2024-02-23T17:23:11.581847",
     "status": "completed"
    },
    "tags": []
   },
   "outputs": [],
   "source": [
    "# parameters\n",
    "params = {\n",
    "    \"penalty\": \"elasticnet\",\n",
    "    \"dual\": False,\n",
    "    \"tol\": 1e-4,\n",
    "    \"fit_intercept\": True,\n",
    "    \"intercept_scaling\": 1,\n",
    "    \"class_weight\": \"balanced\",\n",
    "    \"random_state\": RANDOM_STATE,\n",
    "    \"solver\": \"saga\", # optimized for large datasets (and supports elasticnet penalty)\n",
    "    \"max_iter\": 1000,\n",
    "    \"multi_class\": \"ovr\",\n",
    "    \"verbose\": 0,\n",
    "    \"warm_start\": False,\n",
    "    \"n_jobs\": 4,\n",
    "}"
   ]
  },
  {
   "cell_type": "code",
   "execution_count": 10,
   "id": "7b14c35a",
   "metadata": {
    "execution": {
     "iopub.execute_input": "2024-02-23T17:23:11.636853Z",
     "iopub.status.busy": "2024-02-23T17:23:11.636424Z",
     "iopub.status.idle": "2024-02-23T17:23:12.061603Z",
     "shell.execute_reply": "2024-02-23T17:23:12.060539Z"
    },
    "papermill": {
     "duration": 0.443858,
     "end_time": "2024-02-23T17:23:12.065048",
     "exception": false,
     "start_time": "2024-02-23T17:23:11.621190",
     "status": "completed"
    },
    "tags": []
   },
   "outputs": [],
   "source": [
    "# df_1\n",
    "scaled_X_train, scaled_X_test, scaled_X_val, y_train, y_test, y_val = preprocessing(df_1, \"small\")"
   ]
  },
  {
   "cell_type": "code",
   "execution_count": 11,
   "id": "08501f72",
   "metadata": {
    "execution": {
     "iopub.execute_input": "2024-02-23T17:23:12.098015Z",
     "iopub.status.busy": "2024-02-23T17:23:12.097510Z",
     "iopub.status.idle": "2024-02-23T17:23:52.282313Z",
     "shell.execute_reply": "2024-02-23T17:23:52.281365Z"
    },
    "papermill": {
     "duration": 40.205819,
     "end_time": "2024-02-23T17:23:52.287374",
     "exception": false,
     "start_time": "2024-02-23T17:23:12.081555",
     "status": "completed"
    },
    "tags": []
   },
   "outputs": [
    {
     "name": "stdout",
     "output_type": "stream",
     "text": [
      " 10%|█         | 10/100 [00:40<06:01,  4.02s/trial, best loss: 0.34575363329465825]\n",
      "Best hyperparams:\n",
      "{'C': 3.3000000000000003, 'l1_ratio': 0.8}\n"
     ]
    }
   ],
   "source": [
    "best_params = optimize(scaled_X_train, y_train, scaled_X_val, y_val)"
   ]
  },
  {
   "cell_type": "code",
   "execution_count": 12,
   "id": "e0895166",
   "metadata": {
    "execution": {
     "iopub.execute_input": "2024-02-23T17:23:52.328542Z",
     "iopub.status.busy": "2024-02-23T17:23:52.327789Z",
     "iopub.status.idle": "2024-02-23T17:23:57.124512Z",
     "shell.execute_reply": "2024-02-23T17:23:57.123025Z"
    },
    "papermill": {
     "duration": 4.817268,
     "end_time": "2024-02-23T17:23:57.127172",
     "exception": false,
     "start_time": "2024-02-23T17:23:52.309904",
     "status": "completed"
    },
    "tags": []
   },
   "outputs": [
    {
     "name": "stdout",
     "output_type": "stream",
     "text": [
      "              precision    recall  f1-score   support\n",
      "\n",
      "      attack      0.997     0.972     0.984    136767\n",
      "      benign      0.428     0.881     0.576      3294\n",
      "\n",
      "    accuracy                          0.969    140061\n",
      "   macro avg      0.712     0.926     0.780    140061\n",
      "weighted avg      0.984     0.969     0.975    140061\n",
      "\n",
      "PR-AUC: 0.707335305212287\n"
     ]
    },
    {
     "data": {
      "text/plain": [
       "<Figure size 1200x600 with 0 Axes>"
      ]
     },
     "metadata": {},
     "output_type": "display_data"
    },
    {
     "data": {
      "image/png": "[encoded data removed]",
      "text/plain": [
       "<Figure size 640x480 with 2 Axes>"
      ]
     },
     "metadata": {},
     "output_type": "display_data"
    },
    {
     "data": {
      "image/png": "[encoded data removed]",
      "text/plain": [
       "<Figure size 640x480 with 1 Axes>"
      ]
     },
     "metadata": {},
     "output_type": "display_data"
    }
   ],
   "source": [
    "lr_1 = LogisticRegression(**{**best_params, **params})\n",
    "lr_1.fit(scaled_X_train, y_train)\n",
    "eval(lr_1)"
   ]
  },
  {
   "cell_type": "code",
   "execution_count": 13,
   "id": "b2bf0109",
   "metadata": {
    "execution": {
     "iopub.execute_input": "2024-02-23T17:23:57.161932Z",
     "iopub.status.busy": "2024-02-23T17:23:57.161446Z",
     "iopub.status.idle": "2024-02-23T17:24:08.073922Z",
     "shell.execute_reply": "2024-02-23T17:24:08.072602Z"
    },
    "papermill": {
     "duration": 10.933492,
     "end_time": "2024-02-23T17:24:08.076976",
     "exception": false,
     "start_time": "2024-02-23T17:23:57.143484",
     "status": "completed"
    },
    "tags": []
   },
   "outputs": [],
   "source": [
    "# df_5\n",
    "scaled_X_train, scaled_X_test, scaled_X_val, y_train, y_test, y_val = preprocessing(df_5, \"med\")"
   ]
  },
  {
   "cell_type": "code",
   "execution_count": 14,
   "id": "bd4e0778",
   "metadata": {
    "execution": {
     "iopub.execute_input": "2024-02-23T17:24:08.113029Z",
     "iopub.status.busy": "2024-02-23T17:24:08.112523Z",
     "iopub.status.idle": "2024-02-23T17:32:38.715086Z",
     "shell.execute_reply": "2024-02-23T17:32:38.713430Z"
    },
    "papermill": {
     "duration": 510.647344,
     "end_time": "2024-02-23T17:32:38.740488",
     "exception": false,
     "start_time": "2024-02-23T17:24:08.093144",
     "status": "completed"
    },
    "tags": []
   },
   "outputs": [
    {
     "name": "stdout",
     "output_type": "stream",
     "text": [
      " 15%|█▌        | 15/100 [08:30<48:13, 34.04s/trial, best loss: 0.3278886862534316]\n",
      "Best hyperparams:\n",
      "{'C': 0.9, 'l1_ratio': 0.6000000000000001}\n"
     ]
    }
   ],
   "source": [
    "best_params = optimize(scaled_X_train, y_train, scaled_X_val, y_val)"
   ]
  },
  {
   "cell_type": "code",
   "execution_count": 15,
   "id": "cdd1e742",
   "metadata": {
    "execution": {
     "iopub.execute_input": "2024-02-23T17:32:38.867195Z",
     "iopub.status.busy": "2024-02-23T17:32:38.866198Z",
     "iopub.status.idle": "2024-02-23T17:33:16.222795Z",
     "shell.execute_reply": "2024-02-23T17:33:16.221514Z"
    },
    "papermill": {
     "duration": 37.465775,
     "end_time": "2024-02-23T17:33:16.225581",
     "exception": false,
     "start_time": "2024-02-23T17:32:38.759806",
     "status": "completed"
    },
    "tags": []
   },
   "outputs": [
    {
     "name": "stdout",
     "output_type": "stream",
     "text": [
      "              precision    recall  f1-score   support\n",
      "\n",
      "      attack      1.000     0.955     0.977    683825\n",
      "      benign      0.349     0.995     0.517     16473\n",
      "\n",
      "    accuracy                          0.956    700298\n",
      "   macro avg      0.674     0.975     0.747    700298\n",
      "weighted avg      0.985     0.956     0.966    700298\n",
      "\n",
      "PR-AUC: 0.6914258524041426\n"
     ]
    },
    {
     "data": {
      "text/plain": [
       "<Figure size 1200x600 with 0 Axes>"
      ]
     },
     "metadata": {},
     "output_type": "display_data"
    },
    {
     "data": {
      "image/png": "[encoded data removed]",
      "text/plain": [
       "<Figure size 640x480 with 2 Axes>"
      ]
     },
     "metadata": {},
     "output_type": "display_data"
    },
    {
     "data": {
      "image/png": "[encoded data removed]",
      "text/plain": [
       "<Figure size 640x480 with 1 Axes>"
      ]
     },
     "metadata": {},
     "output_type": "display_data"
    }
   ],
   "source": [
    "lr_5 = LogisticRegression(**{**best_params, **params})\n",
    "lr_5.fit(scaled_X_train, y_train)\n",
    "eval(lr_5)"
   ]
  },
  {
   "cell_type": "code",
   "execution_count": 16,
   "id": "7f5a889f",
   "metadata": {
    "execution": {
     "iopub.execute_input": "2024-02-23T17:33:16.268643Z",
     "iopub.status.busy": "2024-02-23T17:33:16.267427Z",
     "iopub.status.idle": "2024-02-23T17:34:12.920517Z",
     "shell.execute_reply": "2024-02-23T17:34:12.917922Z"
    },
    "papermill": {
     "duration": 56.68383,
     "end_time": "2024-02-23T17:34:12.929062",
     "exception": false,
     "start_time": "2024-02-23T17:33:16.245232",
     "status": "completed"
    },
    "tags": []
   },
   "outputs": [],
   "source": [
    "# df_10\n",
    "scaled_X_train, scaled_X_test, scaled_X_val, y_train, y_test, y_val = preprocessing(df_10, \"large\")"
   ]
  },
  {
   "cell_type": "code",
   "execution_count": 17,
   "id": "0eb4390a",
   "metadata": {
    "execution": {
     "iopub.execute_input": "2024-02-23T17:34:12.984413Z",
     "iopub.status.busy": "2024-02-23T17:34:12.983877Z",
     "iopub.status.idle": "2024-02-23T18:44:00.768998Z",
     "shell.execute_reply": "2024-02-23T18:44:00.767274Z"
    },
    "papermill": {
     "duration": 4187.84166,
     "end_time": "2024-02-23T18:44:00.798695",
     "exception": false,
     "start_time": "2024-02-23T17:34:12.957035",
     "status": "completed"
    },
    "tags": []
   },
   "outputs": [
    {
     "name": "stdout",
     "output_type": "stream",
     "text": [
      " 10%|█         | 10/100 [1:09:47<10:28:09, 418.78s/trial, best loss: 0.3356950452936557]\n",
      "Best hyperparams:\n",
      "{'C': 3.3000000000000003, 'l1_ratio': 0.8}\n"
     ]
    }
   ],
   "source": [
    "best_params = optimize(scaled_X_train, y_train, scaled_X_val, y_val)"
   ]
  },
  {
   "cell_type": "code",
   "execution_count": 18,
   "id": "28edf4b3",
   "metadata": {
    "execution": {
     "iopub.execute_input": "2024-02-23T18:44:00.845580Z",
     "iopub.status.busy": "2024-02-23T18:44:00.844926Z",
     "iopub.status.idle": "2024-02-23T18:51:05.281031Z",
     "shell.execute_reply": "2024-02-23T18:51:05.279311Z"
    },
    "papermill": {
     "duration": 424.463512,
     "end_time": "2024-02-23T18:51:05.284278",
     "exception": false,
     "start_time": "2024-02-23T18:44:00.820766",
     "status": "completed"
    },
    "tags": []
   },
   "outputs": [
    {
     "name": "stdout",
     "output_type": "stream",
     "text": [
      "              precision    recall  f1-score   support\n",
      "\n",
      "      attack      1.000     0.951     0.975   1367654\n",
      "      benign      0.329     0.999     0.495     32946\n",
      "\n",
      "    accuracy                          0.952   1400600\n",
      "   macro avg      0.665     0.975     0.735   1400600\n",
      "weighted avg      0.984     0.952     0.964   1400600\n",
      "\n",
      "PR-AUC: 0.6455188261504011\n"
     ]
    },
    {
     "data": {
      "text/plain": [
       "<Figure size 1200x600 with 0 Axes>"
      ]
     },
     "metadata": {},
     "output_type": "display_data"
    },
    {
     "data": {
      "image/png": "[encoded data removed]",
      "text/plain": [
       "<Figure size 640x480 with 2 Axes>"
      ]
     },
     "metadata": {},
     "output_type": "display_data"
    },
    {
     "data": {
      "image/png": "[encoded data removed]",
      "text/plain": [
       "<Figure size 640x480 with 1 Axes>"
      ]
     },
     "metadata": {},
     "output_type": "display_data"
    }
   ],
   "source": [
    "lr_10 = LogisticRegression(**{**best_params, **params})\n",
    "lr_10.fit(scaled_X_train, y_train)\n",
    "eval(lr_10)"
   ]
  },
  {
   "cell_type": "markdown",
   "id": "e70bed59",
   "metadata": {
    "papermill": {
     "duration": 0.023901,
     "end_time": "2024-02-23T18:51:05.332899",
     "exception": false,
     "start_time": "2024-02-23T18:51:05.308998",
     "status": "completed"
    },
    "tags": []
   },
   "source": [
    "# Linear SVM Tree-Structured Parzen Estimator"
   ]
  },
  {
   "cell_type": "code",
   "execution_count": 19,
   "id": "2a42eb27",
   "metadata": {
    "execution": {
     "iopub.execute_input": "2024-02-23T18:51:05.380910Z",
     "iopub.status.busy": "2024-02-23T18:51:05.380454Z",
     "iopub.status.idle": "2024-02-23T18:51:05.393763Z",
     "shell.execute_reply": "2024-02-23T18:51:05.392424Z"
    },
    "papermill": {
     "duration": 0.041036,
     "end_time": "2024-02-23T18:51:05.396763",
     "exception": false,
     "start_time": "2024-02-23T18:51:05.355727",
     "status": "completed"
    },
    "tags": []
   },
   "outputs": [],
   "source": [
    "def optimize(scaled_X_train, y_train, scaled_X_val, y_val):\n",
    "    \n",
    "    # Objective function for evaluating a model trained off a given set of parameters\n",
    "    def objective(params):\n",
    "        model = LinearSVC(**params)\n",
    "        model.fit(scaled_X_train, y_train)\n",
    "        y_pred = model.predict(scaled_X_val)\n",
    "\n",
    "        precision, recall, thresholds = precision_recall_curve(y_val, y_pred)\n",
    "        score = auc(recall, precision)\n",
    "\n",
    "        loss = 1 - score\n",
    "        return { \"loss\": loss, \"status\": STATUS_OK }\n",
    "    \n",
    "    space = {\n",
    "        \"C\": hp.quniform(\"C\", 0.5, 5.0, 0.1),\n",
    "        \"penalty\": \"l2\",\n",
    "        \"loss\": \"squared_hinge\",\n",
    "        \"dual\": False,\n",
    "        \"tol\": 1e-4,\n",
    "        \"C\": 2,\n",
    "        \"multi_class\": \"ovr\",\n",
    "        \"fit_intercept\": True,\n",
    "        \"intercept_scaling\": 1,\n",
    "        \"class_weight\": \"balanced\",\n",
    "        \"verbose\": 0,\n",
    "        \"random_state\": RANDOM_STATE,\n",
    "        \"max_iter\": 1000\n",
    "        }\n",
    "    \n",
    "    best_hparam = fmin(objective, space, algo=tpe.suggest, max_evals=MAX_EVAL, rstate=default_rng(RANDOM_STATE), early_stop_fn = no_progress_loss(10))\n",
    "    print(f\"Best hyperparams:\\n{best_hparam}\")\n",
    "    \n",
    "    return best_hparam"
   ]
  },
  {
   "cell_type": "markdown",
   "id": "b5ba116c",
   "metadata": {
    "papermill": {
     "duration": 0.022259,
     "end_time": "2024-02-23T18:51:05.442661",
     "exception": false,
     "start_time": "2024-02-23T18:51:05.420402",
     "status": "completed"
    },
    "tags": []
   },
   "source": [
    "# Linear SVM\n",
    "- balanced\n",
    "- linear: utilized for medium to large datasets"
   ]
  },
  {
   "cell_type": "code",
   "execution_count": 20,
   "id": "9f53b708",
   "metadata": {
    "execution": {
     "iopub.execute_input": "2024-02-23T18:51:05.488492Z",
     "iopub.status.busy": "2024-02-23T18:51:05.488019Z",
     "iopub.status.idle": "2024-02-23T18:51:05.494842Z",
     "shell.execute_reply": "2024-02-23T18:51:05.493280Z"
    },
    "papermill": {
     "duration": 0.033209,
     "end_time": "2024-02-23T18:51:05.497441",
     "exception": false,
     "start_time": "2024-02-23T18:51:05.464232",
     "status": "completed"
    },
    "tags": []
   },
   "outputs": [],
   "source": [
    "flag = \"SVM\""
   ]
  },
  {
   "cell_type": "code",
   "execution_count": 21,
   "id": "bfb83c51",
   "metadata": {
    "execution": {
     "iopub.execute_input": "2024-02-23T18:51:05.542433Z",
     "iopub.status.busy": "2024-02-23T18:51:05.541998Z",
     "iopub.status.idle": "2024-02-23T18:51:05.549138Z",
     "shell.execute_reply": "2024-02-23T18:51:05.547525Z"
    },
    "papermill": {
     "duration": 0.032526,
     "end_time": "2024-02-23T18:51:05.551607",
     "exception": false,
     "start_time": "2024-02-23T18:51:05.519081",
     "status": "completed"
    },
    "tags": []
   },
   "outputs": [],
   "source": [
    "# parameters\n",
    "params = {\n",
    "    \"penalty\": \"l2\",\n",
    "    \"loss\": \"squared_hinge\",\n",
    "    \"dual\": False,\n",
    "    \"tol\": 1e-4,\n",
    "    \"C\": 2,\n",
    "    \"multi_class\": \"ovr\",\n",
    "    \"fit_intercept\": True,\n",
    "    \"intercept_scaling\": 1,\n",
    "    \"class_weight\": \"balanced\",\n",
    "    \"verbose\": 0,\n",
    "    \"random_state\": RANDOM_STATE,\n",
    "    \"max_iter\": 1000\n",
    "}"
   ]
  },
  {
   "cell_type": "code",
   "execution_count": 22,
   "id": "269c6b4e",
   "metadata": {
    "execution": {
     "iopub.execute_input": "2024-02-23T18:51:05.598367Z",
     "iopub.status.busy": "2024-02-23T18:51:05.597644Z",
     "iopub.status.idle": "2024-02-23T18:51:06.037590Z",
     "shell.execute_reply": "2024-02-23T18:51:06.036008Z"
    },
    "papermill": {
     "duration": 0.46669,
     "end_time": "2024-02-23T18:51:06.040771",
     "exception": false,
     "start_time": "2024-02-23T18:51:05.574081",
     "status": "completed"
    },
    "tags": []
   },
   "outputs": [],
   "source": [
    "# df_1\n",
    "scaled_X_train, scaled_X_test, scaled_X_val, y_train, y_test, y_val = preprocessing(df_1, \"small\")"
   ]
  },
  {
   "cell_type": "code",
   "execution_count": 23,
   "id": "fce8ad17",
   "metadata": {
    "execution": {
     "iopub.execute_input": "2024-02-23T18:51:06.089739Z",
     "iopub.status.busy": "2024-02-23T18:51:06.089276Z",
     "iopub.status.idle": "2024-02-23T18:51:17.224555Z",
     "shell.execute_reply": "2024-02-23T18:51:17.223306Z"
    },
    "papermill": {
     "duration": 11.167382,
     "end_time": "2024-02-23T18:51:17.231093",
     "exception": false,
     "start_time": "2024-02-23T18:51:06.063711",
     "status": "completed"
    },
    "tags": []
   },
   "outputs": [
    {
     "name": "stdout",
     "output_type": "stream",
     "text": [
      " 10%|█         | 10/100 [00:10<01:36,  1.07s/trial, best loss: 0.36486572811160367]\n",
      "Best hyperparams:\n",
      "{}\n"
     ]
    }
   ],
   "source": [
    "best_params = optimize(scaled_X_train, y_train, scaled_X_val, y_val)"
   ]
  },
  {
   "cell_type": "code",
   "execution_count": 24,
   "id": "f3182ab5",
   "metadata": {
    "execution": {
     "iopub.execute_input": "2024-02-23T18:51:17.285695Z",
     "iopub.status.busy": "2024-02-23T18:51:17.285258Z",
     "iopub.status.idle": "2024-02-23T18:51:19.041099Z",
     "shell.execute_reply": "2024-02-23T18:51:19.039830Z"
    },
    "papermill": {
     "duration": 1.783853,
     "end_time": "2024-02-23T18:51:19.043844",
     "exception": false,
     "start_time": "2024-02-23T18:51:17.259991",
     "status": "completed"
    },
    "tags": []
   },
   "outputs": [
    {
     "name": "stdout",
     "output_type": "stream",
     "text": [
      "              precision    recall  f1-score   support\n",
      "\n",
      "      attack      0.996     0.973     0.984    136767\n",
      "      benign      0.427     0.844     0.567      3294\n",
      "\n",
      "    accuracy                          0.970    140061\n",
      "   macro avg      0.711     0.908     0.775    140061\n",
      "weighted avg      0.983     0.970     0.974    140061\n",
      "\n",
      "PR-AUC: 0.9083174350356648\n"
     ]
    },
    {
     "data": {
      "text/plain": [
       "<Figure size 1200x600 with 0 Axes>"
      ]
     },
     "metadata": {},
     "output_type": "display_data"
    },
    {
     "data": {
      "image/png": "[encoded data removed]",
      "text/plain": [
       "<Figure size 640x480 with 2 Axes>"
      ]
     },
     "metadata": {},
     "output_type": "display_data"
    }
   ],
   "source": [
    "Linearsvc_1 = LinearSVC(**{**best_params, **params})\n",
    "Linearsvc_1.fit(scaled_X_train, y_train)\n",
    "eval(Linearsvc_1)"
   ]
  },
  {
   "cell_type": "code",
   "execution_count": 25,
   "id": "a4e3381f",
   "metadata": {
    "execution": {
     "iopub.execute_input": "2024-02-23T18:51:19.099662Z",
     "iopub.status.busy": "2024-02-23T18:51:19.098778Z",
     "iopub.status.idle": "2024-02-23T18:51:31.905897Z",
     "shell.execute_reply": "2024-02-23T18:51:31.904564Z"
    },
    "papermill": {
     "duration": 12.838434,
     "end_time": "2024-02-23T18:51:31.908933",
     "exception": false,
     "start_time": "2024-02-23T18:51:19.070499",
     "status": "completed"
    },
    "tags": []
   },
   "outputs": [],
   "source": [
    "# df_5\n",
    "scaled_X_train, scaled_X_test, scaled_X_val, y_train, y_test, y_val = preprocessing(df_5, \"med\")"
   ]
  },
  {
   "cell_type": "code",
   "execution_count": 26,
   "id": "934495c2",
   "metadata": {
    "execution": {
     "iopub.execute_input": "2024-02-23T18:51:31.960148Z",
     "iopub.status.busy": "2024-02-23T18:51:31.959620Z",
     "iopub.status.idle": "2024-02-23T18:56:16.579657Z",
     "shell.execute_reply": "2024-02-23T18:56:16.578476Z"
    },
    "papermill": {
     "duration": 284.674025,
     "end_time": "2024-02-23T18:56:16.607121",
     "exception": false,
     "start_time": "2024-02-23T18:51:31.933096",
     "status": "completed"
    },
    "tags": []
   },
   "outputs": [
    {
     "name": "stdout",
     "output_type": "stream",
     "text": [
      " 10%|█         | 10/100 [04:44<42:41, 28.46s/trial, best loss: 0.3058671674313964]\n",
      "Best hyperparams:\n",
      "{}\n"
     ]
    }
   ],
   "source": [
    "best_params = optimize(scaled_X_train, y_train, scaled_X_val, y_val)"
   ]
  },
  {
   "cell_type": "code",
   "execution_count": 27,
   "id": "83982181",
   "metadata": {
    "execution": {
     "iopub.execute_input": "2024-02-23T18:56:16.665795Z",
     "iopub.status.busy": "2024-02-23T18:56:16.664679Z",
     "iopub.status.idle": "2024-02-23T18:56:48.205517Z",
     "shell.execute_reply": "2024-02-23T18:56:48.203918Z"
    },
    "papermill": {
     "duration": 31.572759,
     "end_time": "2024-02-23T18:56:48.208395",
     "exception": false,
     "start_time": "2024-02-23T18:56:16.635636",
     "status": "completed"
    },
    "tags": []
   },
   "outputs": [
    {
     "name": "stdout",
     "output_type": "stream",
     "text": [
      "              precision    recall  f1-score   support\n",
      "\n",
      "      attack      1.000     0.964     0.981    683825\n",
      "      benign      0.397     0.992     0.567     16473\n",
      "\n",
      "    accuracy                          0.964    700298\n",
      "   macro avg      0.698     0.978     0.774    700298\n",
      "weighted avg      0.986     0.964     0.972    700298\n",
      "\n",
      "PR-AUC: 0.9776418311418836\n"
     ]
    },
    {
     "data": {
      "text/plain": [
       "<Figure size 1200x600 with 0 Axes>"
      ]
     },
     "metadata": {},
     "output_type": "display_data"
    },
    {
     "data": {
      "image/png": "[encoded data removed]",
      "text/plain": [
       "<Figure size 640x480 with 2 Axes>"
      ]
     },
     "metadata": {},
     "output_type": "display_data"
    }
   ],
   "source": [
    "Linearsvc_5 = LinearSVC(**{**best_params, **params})\n",
    "Linearsvc_5.fit(scaled_X_train, y_train)\n",
    "eval(Linearsvc_5)"
   ]
  },
  {
   "cell_type": "code",
   "execution_count": 28,
   "id": "bc2fbe1a",
   "metadata": {
    "execution": {
     "iopub.execute_input": "2024-02-23T18:56:48.269155Z",
     "iopub.status.busy": "2024-02-23T18:56:48.268424Z",
     "iopub.status.idle": "2024-02-23T18:57:22.065076Z",
     "shell.execute_reply": "2024-02-23T18:57:22.063392Z"
    },
    "papermill": {
     "duration": 33.832124,
     "end_time": "2024-02-23T18:57:22.068182",
     "exception": false,
     "start_time": "2024-02-23T18:56:48.236058",
     "status": "completed"
    },
    "tags": []
   },
   "outputs": [],
   "source": [
    "# df_10\n",
    "scaled_X_train, scaled_X_test, scaled_X_val, y_train, y_test, y_val = preprocessing(df_10, \"large\")"
   ]
  },
  {
   "cell_type": "code",
   "execution_count": 29,
   "id": "7fccc256",
   "metadata": {
    "execution": {
     "iopub.execute_input": "2024-02-23T18:57:22.128848Z",
     "iopub.status.busy": "2024-02-23T18:57:22.128148Z",
     "iopub.status.idle": "2024-02-23T19:23:34.342839Z",
     "shell.execute_reply": "2024-02-23T19:23:34.340748Z"
    },
    "papermill": {
     "duration": 1572.285085,
     "end_time": "2024-02-23T19:23:34.382327",
     "exception": false,
     "start_time": "2024-02-23T18:57:22.097242",
     "status": "completed"
    },
    "tags": []
   },
   "outputs": [
    {
     "name": "stdout",
     "output_type": "stream",
     "text": [
      " 10%|█         | 10/100 [26:12<3:55:49, 157.22s/trial, best loss: 0.23000165392585148]\n",
      "Best hyperparams:\n",
      "{}\n"
     ]
    }
   ],
   "source": [
    "best_params = optimize(scaled_X_train, y_train, scaled_X_val, y_val)"
   ]
  },
  {
   "cell_type": "code",
   "execution_count": 30,
   "id": "c7a7be6f",
   "metadata": {
    "execution": {
     "iopub.execute_input": "2024-02-23T19:23:34.443872Z",
     "iopub.status.busy": "2024-02-23T19:23:34.443335Z",
     "iopub.status.idle": "2024-02-23T19:26:18.870751Z",
     "shell.execute_reply": "2024-02-23T19:26:18.869063Z"
    },
    "papermill": {
     "duration": 164.462651,
     "end_time": "2024-02-23T19:26:18.873816",
     "exception": false,
     "start_time": "2024-02-23T19:23:34.411165",
     "status": "completed"
    },
    "tags": []
   },
   "outputs": [
    {
     "name": "stdout",
     "output_type": "stream",
     "text": [
      "              precision    recall  f1-score   support\n",
      "\n",
      "      attack      1.000     0.980     0.990   1367654\n",
      "      benign      0.543     0.994     0.702     32946\n",
      "\n",
      "    accuracy                          0.980   1400600\n",
      "   macro avg      0.771     0.987     0.846   1400600\n",
      "weighted avg      0.989     0.980     0.983   1400600\n",
      "\n",
      "PR-AUC: 0.9869953168206436\n"
     ]
    },
    {
     "data": {
      "text/plain": [
       "<Figure size 1200x600 with 0 Axes>"
      ]
     },
     "metadata": {},
     "output_type": "display_data"
    },
    {
     "data": {
      "image/png": "[encoded data removed]",
      "text/plain": [
       "<Figure size 640x480 with 2 Axes>"
      ]
     },
     "metadata": {},
     "output_type": "display_data"
    }
   ],
   "source": [
    "Linearsvc_10 = LinearSVC(**{**best_params, **params})\n",
    "Linearsvc_10.fit(scaled_X_train, y_train)\n",
    "eval(Linearsvc_10)"
   ]
  },
  {
   "cell_type": "markdown",
   "id": "d6d61f6d",
   "metadata": {
    "papermill": {
     "duration": 0.028025,
     "end_time": "2024-02-23T19:26:18.931174",
     "exception": false,
     "start_time": "2024-02-23T19:26:18.903149",
     "status": "completed"
    },
    "tags": []
   },
   "source": [
    "# Exporting"
   ]
  },
  {
   "cell_type": "code",
   "execution_count": 31,
   "id": "311dd441",
   "metadata": {
    "execution": {
     "iopub.execute_input": "2024-02-23T19:26:18.990123Z",
     "iopub.status.busy": "2024-02-23T19:26:18.989609Z",
     "iopub.status.idle": "2024-02-23T19:26:36.962406Z",
     "shell.execute_reply": "2024-02-23T19:26:36.960483Z"
    },
    "papermill": {
     "duration": 18.00711,
     "end_time": "2024-02-23T19:26:36.966274",
     "exception": false,
     "start_time": "2024-02-23T19:26:18.959164",
     "status": "completed"
    },
    "tags": []
   },
   "outputs": [
    {
     "name": "stdout",
     "output_type": "stream",
     "text": [
      "Collecting m2cgen\r\n",
      "  Downloading m2cgen-0.10.0-py3-none-any.whl.metadata (9.9 kB)\r\n",
      "Requirement already satisfied: numpy in /opt/conda/lib/python3.10/site-packages (from m2cgen) (1.24.4)\r\n",
      "Downloading m2cgen-0.10.0-py3-none-any.whl (92 kB)\r\n",
      "\u001b[2K   \u001b[90m━━━━━━━━━━━━━━━━━━━━━━━━━━━━━━━━━━━━━━━━\u001b[0m \u001b[32m92.2/92.2 kB\u001b[0m \u001b[31m2.2 MB/s\u001b[0m eta \u001b[36m0:00:00\u001b[0m\r\n",
      "\u001b[?25hInstalling collected packages: m2cgen\r\n",
      "Successfully installed m2cgen-0.10.0\r\n"
     ]
    }
   ],
   "source": [
    "!pip install m2cgen"
   ]
  },
  {
   "cell_type": "code",
   "execution_count": 32,
   "id": "e1848eb1",
   "metadata": {
    "execution": {
     "iopub.execute_input": "2024-02-23T19:26:37.031061Z",
     "iopub.status.busy": "2024-02-23T19:26:37.030486Z",
     "iopub.status.idle": "2024-02-23T19:26:37.079078Z",
     "shell.execute_reply": "2024-02-23T19:26:37.077648Z"
    },
    "papermill": {
     "duration": 0.085013,
     "end_time": "2024-02-23T19:26:37.082996",
     "exception": false,
     "start_time": "2024-02-23T19:26:36.997983",
     "status": "completed"
    },
    "tags": []
   },
   "outputs": [],
   "source": [
    "import m2cgen as m2c"
   ]
  },
  {
   "cell_type": "code",
   "execution_count": 33,
   "id": "11561436",
   "metadata": {
    "execution": {
     "iopub.execute_input": "2024-02-23T19:26:37.145869Z",
     "iopub.status.busy": "2024-02-23T19:26:37.145379Z",
     "iopub.status.idle": "2024-02-23T19:26:37.154238Z",
     "shell.execute_reply": "2024-02-23T19:26:37.152432Z"
    },
    "papermill": {
     "duration": 0.044355,
     "end_time": "2024-02-23T19:26:37.157345",
     "exception": false,
     "start_time": "2024-02-23T19:26:37.112990",
     "status": "completed"
    },
    "tags": []
   },
   "outputs": [],
   "source": [
    "# function to export\n",
    "def export(model, model_name):\n",
    "    code1 = m2c.export_to_c(model)\n",
    "    with open(f\"/kaggle/working/{model_name}.h\", \"w\") as file:\n",
    "        file.write(code1)\n",
    "    code2 = m2c.export_to_python(model)\n",
    "    with open(f\"/kaggle/working/{model_name}.py\", \"w\") as file:\n",
    "        file.write(code2)"
   ]
  },
  {
   "cell_type": "code",
   "execution_count": 34,
   "id": "95b2ce89",
   "metadata": {
    "execution": {
     "iopub.execute_input": "2024-02-23T19:26:37.222177Z",
     "iopub.status.busy": "2024-02-23T19:26:37.221698Z",
     "iopub.status.idle": "2024-02-23T19:26:37.232457Z",
     "shell.execute_reply": "2024-02-23T19:26:37.230853Z"
    },
    "papermill": {
     "duration": 0.047761,
     "end_time": "2024-02-23T19:26:37.235288",
     "exception": false,
     "start_time": "2024-02-23T19:26:37.187527",
     "status": "completed"
    },
    "tags": []
   },
   "outputs": [],
   "source": [
    "export(Linearsvc_1, \"linear_svc_1\")"
   ]
  },
  {
   "cell_type": "code",
   "execution_count": 35,
   "id": "3cf9004b",
   "metadata": {
    "execution": {
     "iopub.execute_input": "2024-02-23T19:26:37.298735Z",
     "iopub.status.busy": "2024-02-23T19:26:37.297943Z",
     "iopub.status.idle": "2024-02-23T19:26:37.323920Z",
     "shell.execute_reply": "2024-02-23T19:26:37.322682Z"
    },
    "papermill": {
     "duration": 0.061011,
     "end_time": "2024-02-23T19:26:37.327225",
     "exception": false,
     "start_time": "2024-02-23T19:26:37.266214",
     "status": "completed"
    },
    "tags": []
   },
   "outputs": [],
   "source": [
    "export(lr_1, \"lr_1\")\n",
    "export(lr_5, \"lr_5\")\n",
    "export(lr_10, \"lr_10\")"
   ]
  },
  {
   "cell_type": "code",
   "execution_count": 36,
   "id": "1477769b",
   "metadata": {
    "execution": {
     "iopub.execute_input": "2024-02-23T19:26:37.680809Z",
     "iopub.status.busy": "2024-02-23T19:26:37.679971Z",
     "iopub.status.idle": "2024-02-23T19:26:37.702187Z",
     "shell.execute_reply": "2024-02-23T19:26:37.700983Z"
    },
    "papermill": {
     "duration": 0.057695,
     "end_time": "2024-02-23T19:26:37.705248",
     "exception": false,
     "start_time": "2024-02-23T19:26:37.647553",
     "status": "completed"
    },
    "tags": []
   },
   "outputs": [],
   "source": [
    "export(Linearsvc_1, \"linear_svc_1\")\n",
    "export(Linearsvc_5, \"linear_svc_5\")\n",
    "export(Linearsvc_10, \"linear_svc_10\")"
   ]
  },
  {
   "cell_type": "code",
   "execution_count": null,
   "id": "145a7326",
   "metadata": {
    "papermill": {
     "duration": 0.029511,
     "end_time": "2024-02-23T19:26:37.765660",
     "exception": false,
     "start_time": "2024-02-23T19:26:37.736149",
     "status": "completed"
    },
    "tags": []
   },
   "outputs": [],
   "source": []
  }
 ],
 "metadata": {
  "kaggle": {
   "accelerator": "none",
   "dataSources": [
    {
     "sourceId": 163150315,
     "sourceType": "kernelVersion"
    },
    {
     "sourceId": 163506803,
     "sourceType": "kernelVersion"
    }
   ],
   "dockerImageVersionId": 30646,
   "isGpuEnabled": false,
   "isInternetEnabled": true,
   "language": "python",
   "sourceType": "notebook"
  },
  "kernelspec": {
   "display_name": "Python 3",
   "language": "python",
   "name": "python3"
  },
  "language_info": {
   "codemirror_mode": {
    "name": "ipython",
    "version": 3
   },
   "file_extension": ".py",
   "mimetype": "text/x-python",
   "name": "python",
   "nbconvert_exporter": "python",
   "pygments_lexer": "ipython3",
   "version": "3.10.13"
  },
  "papermill": {
   "default_parameters": {},
   "duration": 7504.104922,
   "end_time": "2024-02-23T19:26:39.344000",
   "environment_variables": {},
   "exception": null,
   "input_path": "__notebook__.ipynb",
   "output_path": "__notebook__.ipynb",
   "parameters": {},
   "start_time": "2024-02-23T17:21:35.239078",
   "version": "2.5.0"
  }
 },
 "nbformat": 4,
 "nbformat_minor": 5
}
